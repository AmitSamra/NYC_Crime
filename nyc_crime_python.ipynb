{
 "cells": [
  {
   "cell_type": "code",
   "execution_count": 1,
   "metadata": {},
   "outputs": [
    {
     "data": {
      "text/plain": [
       "True"
      ]
     },
     "execution_count": 1,
     "metadata": {},
     "output_type": "execute_result"
    }
   ],
   "source": [
    "from sodapy import Socrata\n",
    "import pandas as pd\n",
    "import numpy as np\n",
    "import matplotlib\n",
    "import matplotlib.pyplot as plt\n",
    "import matplotlib.ticker as ticker\n",
    "import matplotlib.markers as markers\n",
    "from dotenv import load_dotenv\n",
    "import os\n",
    "from sqlalchemy import create_engine\n",
    "from datetime import datetime\n",
    "\n",
    "dotenv_local_path = '.env'\n",
    "load_dotenv(dotenv_path=dotenv_local_path, verbose=True)"
   ]
  },
  {
   "cell_type": "markdown",
   "metadata": {},
   "source": [
    "## Socrata API"
   ]
  },
  {
   "cell_type": "code",
   "execution_count": 2,
   "metadata": {},
   "outputs": [],
   "source": [
    "client=Socrata(\n",
    "\"data.cityofnewyork.us\",\n",
    "os.environ.get(\"NYC_token\"),\n",
    "username=os.environ.get(\"NYC_username\"),\n",
    "password=os.environ.get(\"NYC_password\")\n",
    ")"
   ]
  },
  {
   "cell_type": "markdown",
   "metadata": {},
   "source": [
    "## MySQL"
   ]
  },
  {
   "cell_type": "code",
   "execution_count": 3,
   "metadata": {},
   "outputs": [],
   "source": [
    "engine = create_engine('mysql+pymysql://' + os.environ.get(\"MYSQL_USER\") + \":\" + os.environ.get(\"MYSQL_PASSWORD\") + '@localhost:3306/nyc_crime')"
   ]
  },
  {
   "cell_type": "code",
   "execution_count": 9,
   "metadata": {},
   "outputs": [
    {
     "data": {
      "text/plain": [
       "<sqlalchemy.engine.result.ResultProxy at 0x7fb5204fa040>"
      ]
     },
     "execution_count": 9,
     "metadata": {},
     "output_type": "execute_result"
    }
   ],
   "source": [
    "#engine.execute(\"DROP TABLE IF EXISTS arrests;\")"
   ]
  },
  {
   "cell_type": "code",
   "execution_count": 10,
   "metadata": {},
   "outputs": [
    {
     "data": {
      "text/plain": [
       "<sqlalchemy.engine.result.ResultProxy at 0x7fb561878eb0>"
      ]
     },
     "execution_count": 10,
     "metadata": {},
     "output_type": "execute_result"
    }
   ],
   "source": [
    "#engine.execute(\n",
    "\"\"\"\n",
    "CREATE TABLE IF NOT EXISTS arrests (\n",
    "arrest_key bigint not null primary key,\n",
    "arrest_date date,\n",
    "pd_cd int,\n",
    "pd_desc varchar(250),\n",
    "ky_cd int,\n",
    "ofns_desc varchar(250),\n",
    "law_code varchar(250),\n",
    "law_cat_cd varchar(250),\n",
    "arrest_boro varchar(250),\n",
    "arrest_precinct int,\n",
    "jurisdiction_code int,\n",
    "age_group varchar(250),\n",
    "perp_sex varchar(250),\n",
    "perp_race varchar(250),\n",
    "x_coord_cd varchar(250),\n",
    "y_coord_cd varchar(250),\n",
    "latitude numeric(15,10),\n",
    "longitude numeric(15,10)\n",
    ");\n",
    "\"\"\"\n",
    ")"
   ]
  },
  {
   "cell_type": "code",
   "execution_count": 11,
   "metadata": {},
   "outputs": [],
   "source": [
    "start_year=2015\n",
    "end_year=2019\n",
    "\n",
    "for i in range(start_year, end_year+1, 1):\n",
    "    \n",
    "    results = client.get(\"8h9b-rp9u\", where=\"arrest_date between \"+\"'\"+str(i)+\"-01-01'\"+\" and \"+\"'\"+str(i)+\"-12-31'\", limit=10000000)\n",
    "    results_df = pd.DataFrame.from_records(results)\n",
    "    \n",
    "    results_df = results_df.drop('lon_lat',1)\n",
    "\n",
    "    results_df['arrest_key'] = results_df['arrest_key'].str.strip()\n",
    "    results_df = results_df.drop(results_df[results_df['arrest_key'] == 'UNKNOWN'].index)\n",
    "    results_df['arrest_key'] = results_df['arrest_key'].astype(int)\n",
    "    \n",
    "    results_df['arrest_date'] = results_df['arrest_date'].str.strip()\n",
    "    results_df['arrest_date'] = results_df['arrest_date'].astype(str)\n",
    "    results_df['arrest_date'] = results_df['arrest_date'].str.slice(0,10)\n",
    "    \n",
    "    results_df['pd_cd'] = results_df['pd_cd'].str.strip()\n",
    "    results_df['pd_cd'] = results_df['pd_cd'].str.replace('NULL', '0')\n",
    "    results_df['pd_cd'] = results_df['pd_cd'].str.replace('UNKNOWN', '0')\n",
    "    results_df['pd_cd'] = results_df['pd_cd'].fillna('0')\n",
    "    results_df['pd_cd'] = results_df['pd_cd'].astype(float)\n",
    "    results_df['pd_cd'] = results_df['pd_cd'].astype(int)\n",
    "    \n",
    "    results_df['pd_desc'] = results_df['pd_desc'].str.strip()\n",
    "    results_df['pd_desc'] = results_df['pd_desc'].str.replace('NULL', 'UNKNOWN')\n",
    "    results_df['pd_desc'] = results_df['pd_desc'].fillna('UNKNOWN')\n",
    "    \n",
    "    results_df['ky_cd'] = results_df['ky_cd'].str.strip()\n",
    "    results_df['ky_cd'] = results_df['ky_cd'].str.replace('NULL', '0')\n",
    "    results_df['ky_cd'] = results_df['ky_cd'].fillna('0')\n",
    "    results_df['ky_cd'] = results_df['ky_cd'].astype(float)\n",
    "    results_df['ky_cd'] = results_df['ky_cd'].astype(int)  \n",
    "    \n",
    "    results_df['ofns_desc'] = results_df['ofns_desc'].str.strip()\n",
    "    results_df['ofns_desc'] = results_df['ofns_desc'].str.replace('NULL', 'UNKNOWN')\n",
    "    results_df['ofns_desc'] = results_df['ofns_desc'].fillna('UNKNOWN')\n",
    "    \n",
    "    results_df['law_code'] = results_df['law_code'].str.strip()\n",
    "    results_df['law_code'] = results_df['law_code'].str.replace('NULL', 'UNKNOWN')\n",
    "    results_df['law_code'] = results_df['law_code'].fillna('UNKNOWN')\n",
    "    \n",
    "    results_df['law_cat_cd'] = results_df['law_cat_cd'].str.strip()\n",
    "    results_df['law_cat_cd'] = results_df['law_cat_cd'].str.replace('NULL', 'UNKNOWN')\n",
    "    results_df['law_cat_cd'] = results_df['law_cat_cd'].fillna('UNKNOWN')\n",
    "    \n",
    "    results_df['arrest_boro'] = results_df['arrest_boro'].str.strip()\n",
    "    \n",
    "    results_df['arrest_precinct'] = results_df['arrest_precinct'].str.strip()\n",
    "    results_df['arrest_precinct'] = results_df['arrest_precinct'].astype(float)\n",
    "    results_df['arrest_precinct'] = results_df['arrest_precinct'].astype(int)\n",
    "    \n",
    "    results_df['jurisdiction_code'] = results_df['jurisdiction_code'].str.strip()\n",
    "    results_df['jurisdiction_code'] = results_df['jurisdiction_code'].str.replace('NULL', '0')\n",
    "    results_df['jurisdiction_code'] = results_df['jurisdiction_code'].fillna('0')\n",
    "    results_df['jurisdiction_code'] = results_df['jurisdiction_code'].astype(float)\n",
    "    results_df['jurisdiction_code'] = results_df['jurisdiction_code'].astype(int)\n",
    "    \n",
    "    results_df['age_group'] = results_df['age_group'].str.strip()\n",
    "    good_ages = ['<18', '18-24', '25-44', '45-64', '65+']\n",
    "    results_df.loc[~results_df.age_group.isin(good_ages), 'age_group'] = 'UNKNOWN'\n",
    "    \n",
    "    results_df['perp_sex'] = results_df['perp_sex'].str.strip()\n",
    "    results_df['perp_race'] = results_df['perp_race'].str.strip()\n",
    "    \n",
    "    results_df['x_coord_cd'] = results_df['x_coord_cd'].str.strip()\n",
    "    #results_df['x_coord_cd'] = results_df['x_coord_cd'].astype(float)\n",
    "    #results_df['x_coord_cd'] = results_df['x_coord_cd'].astype(int)\n",
    "    \n",
    "    results_df['y_coord_cd'] = results_df['y_coord_cd'].str.strip()\n",
    "    #results_df['y_coord_cd'] = results_df['y_coord_cd'].astype(float)\n",
    "    #results_df['y_coord_cd'] = results_df['y_coord_cd'].astype(int)\n",
    "    \n",
    "    results_df['latitude'] = results_df['latitude'].str.strip()\n",
    "    results_df['latitude'] = results_df['latitude'].astype(float)\n",
    "    \n",
    "    results_df['longitude'] = results_df['longitude'].str.strip()\n",
    "    results_df['longitude'] = results_df['longitude'].astype(float)   \n",
    "    \n",
    "    results_df.to_sql('arrests_temp', con=engine, index=False, if_exists='replace', chunksize=10000)\n",
    "    \n",
    "    engine.execute(\"\"\"\n",
    "    UPDATE arrests \n",
    "    LEFT JOIN arrests_temp \n",
    "    ON arrests.arrest_key = arrests_temp.arrest_key \n",
    "    SET arrests.arrest_key = arrests_temp.arrest_key \n",
    "    WHERE arrests.arrest_key != arrests_temp.arrest_key;\n",
    "    \"\"\")\n",
    "    \n",
    "    engine.execute(\"\"\"\n",
    "    INSERT INTO arrests (arrest_key, arrest_date, pd_cd, pd_desc, ky_cd, ofns_desc, law_code, \n",
    "    law_cat_cd, arrest_boro, arrest_precinct, jurisdiction_code, age_group, perp_sex, perp_race, \n",
    "    x_coord_cd, y_coord_cd, latitude, longitude) \n",
    "    SELECT arrest_key, arrest_date, pd_cd, pd_desc, ky_cd, ofns_desc, law_code, law_cat_cd, \n",
    "    arrest_boro, arrest_precinct, jurisdiction_code, age_group, perp_sex, perp_race, \n",
    "    x_coord_cd, y_coord_cd, latitude, longitude \n",
    "    FROM arrests_temp \n",
    "    WHERE arrest_key NOT IN (SELECT arrest_key FROM arrests);\n",
    "    \"\"\")\n",
    "    \n",
    "    #results_df.to_csv(f\"./raw_data/{i}.csv\", index=False)"
   ]
  },
  {
   "cell_type": "markdown",
   "metadata": {},
   "source": [
    "# Data Processing in Python"
   ]
  },
  {
   "cell_type": "code",
   "execution_count": 4,
   "metadata": {},
   "outputs": [],
   "source": [
    "# Read data from MySQL\n",
    "df_raw = pd.read_sql(\"SELECT * FROM arrests\", con=engine, parse_dates=[\"arrest_date\"])"
   ]
  },
  {
   "cell_type": "code",
   "execution_count": 5,
   "metadata": {},
   "outputs": [
    {
     "data": {
      "text/html": [
       "<div>\n",
       "<style scoped>\n",
       "    .dataframe tbody tr th:only-of-type {\n",
       "        vertical-align: middle;\n",
       "    }\n",
       "\n",
       "    .dataframe tbody tr th {\n",
       "        vertical-align: top;\n",
       "    }\n",
       "\n",
       "    .dataframe thead th {\n",
       "        text-align: right;\n",
       "    }\n",
       "</style>\n",
       "<table border=\"1\" class=\"dataframe\">\n",
       "  <thead>\n",
       "    <tr style=\"text-align: right;\">\n",
       "      <th></th>\n",
       "      <th>arrest_key</th>\n",
       "      <th>arrest_date</th>\n",
       "      <th>pd_cd</th>\n",
       "      <th>pd_desc</th>\n",
       "      <th>ky_cd</th>\n",
       "      <th>ofns_desc</th>\n",
       "      <th>law_code</th>\n",
       "      <th>law_cat_cd</th>\n",
       "      <th>arrest_boro</th>\n",
       "      <th>arrest_precinct</th>\n",
       "      <th>jurisdiction_code</th>\n",
       "      <th>age_group</th>\n",
       "      <th>perp_sex</th>\n",
       "      <th>perp_race</th>\n",
       "      <th>x_coord_cd</th>\n",
       "      <th>y_coord_cd</th>\n",
       "      <th>latitude</th>\n",
       "      <th>longitude</th>\n",
       "    </tr>\n",
       "  </thead>\n",
       "  <tbody>\n",
       "    <tr>\n",
       "      <th>0</th>\n",
       "      <td>140381385</td>\n",
       "      <td>2015-01-01</td>\n",
       "      <td>106</td>\n",
       "      <td>ASSAULT 2,1,PEACE OFFICER</td>\n",
       "      <td>106</td>\n",
       "      <td>FELONY ASSAULT</td>\n",
       "      <td>PL 1200800</td>\n",
       "      <td>F</td>\n",
       "      <td>M</td>\n",
       "      <td>7</td>\n",
       "      <td>0</td>\n",
       "      <td>18-24</td>\n",
       "      <td>F</td>\n",
       "      <td>WHITE</td>\n",
       "      <td>988225.0</td>\n",
       "      <td>198161.0</td>\n",
       "      <td>40.710590</td>\n",
       "      <td>-73.985664</td>\n",
       "    </tr>\n",
       "    <tr>\n",
       "      <th>1</th>\n",
       "      <td>140389276</td>\n",
       "      <td>2015-01-01</td>\n",
       "      <td>117</td>\n",
       "      <td>RECKLESS ENDANGERMENT 1</td>\n",
       "      <td>126</td>\n",
       "      <td>MISCELLANEOUS PENAL LAW</td>\n",
       "      <td>PL 1202500</td>\n",
       "      <td>F</td>\n",
       "      <td>B</td>\n",
       "      <td>49</td>\n",
       "      <td>0</td>\n",
       "      <td>&lt;18</td>\n",
       "      <td>M</td>\n",
       "      <td>WHITE HISPANIC</td>\n",
       "      <td>1026424.0</td>\n",
       "      <td>251705.0</td>\n",
       "      <td>40.857454</td>\n",
       "      <td>-73.847543</td>\n",
       "    </tr>\n",
       "    <tr>\n",
       "      <th>2</th>\n",
       "      <td>140389279</td>\n",
       "      <td>2015-01-01</td>\n",
       "      <td>139</td>\n",
       "      <td>MURDER,UNCLASSIFIED</td>\n",
       "      <td>101</td>\n",
       "      <td>MURDER &amp; NON-NEGL. MANSLAUGHTER</td>\n",
       "      <td>PL 1252501</td>\n",
       "      <td>F</td>\n",
       "      <td>B</td>\n",
       "      <td>40</td>\n",
       "      <td>0</td>\n",
       "      <td>45-64</td>\n",
       "      <td>M</td>\n",
       "      <td>BLACK HISPANIC</td>\n",
       "      <td>1005041.0</td>\n",
       "      <td>234533.0</td>\n",
       "      <td>40.810398</td>\n",
       "      <td>-73.924895</td>\n",
       "    </tr>\n",
       "    <tr>\n",
       "      <th>3</th>\n",
       "      <td>140389280</td>\n",
       "      <td>2015-01-01</td>\n",
       "      <td>114</td>\n",
       "      <td>OBSTR BREATH/CIRCUL</td>\n",
       "      <td>344</td>\n",
       "      <td>ASSAULT 3 &amp; RELATED OFFENSES</td>\n",
       "      <td>PL 1211100</td>\n",
       "      <td>M</td>\n",
       "      <td>B</td>\n",
       "      <td>46</td>\n",
       "      <td>0</td>\n",
       "      <td>25-44</td>\n",
       "      <td>M</td>\n",
       "      <td>BLACK</td>\n",
       "      <td>1009339.0</td>\n",
       "      <td>248782.0</td>\n",
       "      <td>40.849497</td>\n",
       "      <td>-73.909316</td>\n",
       "    </tr>\n",
       "    <tr>\n",
       "      <th>4</th>\n",
       "      <td>140389281</td>\n",
       "      <td>2015-01-01</td>\n",
       "      <td>904</td>\n",
       "      <td>INTOXICATED DRIVING,ALCOHOL</td>\n",
       "      <td>119</td>\n",
       "      <td>INTOXICATED/IMPAIRED DRIVING</td>\n",
       "      <td>VTL11920E2</td>\n",
       "      <td>F</td>\n",
       "      <td>B</td>\n",
       "      <td>52</td>\n",
       "      <td>0</td>\n",
       "      <td>25-44</td>\n",
       "      <td>M</td>\n",
       "      <td>WHITE HISPANIC</td>\n",
       "      <td>1008647.0</td>\n",
       "      <td>253247.0</td>\n",
       "      <td>40.861754</td>\n",
       "      <td>-73.911801</td>\n",
       "    </tr>\n",
       "  </tbody>\n",
       "</table>\n",
       "</div>"
      ],
      "text/plain": [
       "   arrest_key arrest_date  pd_cd                      pd_desc  ky_cd  \\\n",
       "0   140381385  2015-01-01    106    ASSAULT 2,1,PEACE OFFICER    106   \n",
       "1   140389276  2015-01-01    117      RECKLESS ENDANGERMENT 1    126   \n",
       "2   140389279  2015-01-01    139          MURDER,UNCLASSIFIED    101   \n",
       "3   140389280  2015-01-01    114          OBSTR BREATH/CIRCUL    344   \n",
       "4   140389281  2015-01-01    904  INTOXICATED DRIVING,ALCOHOL    119   \n",
       "\n",
       "                         ofns_desc    law_code law_cat_cd arrest_boro  \\\n",
       "0                   FELONY ASSAULT  PL 1200800          F           M   \n",
       "1          MISCELLANEOUS PENAL LAW  PL 1202500          F           B   \n",
       "2  MURDER & NON-NEGL. MANSLAUGHTER  PL 1252501          F           B   \n",
       "3     ASSAULT 3 & RELATED OFFENSES  PL 1211100          M           B   \n",
       "4     INTOXICATED/IMPAIRED DRIVING  VTL11920E2          F           B   \n",
       "\n",
       "   arrest_precinct  jurisdiction_code age_group perp_sex       perp_race  \\\n",
       "0                7                  0     18-24        F           WHITE   \n",
       "1               49                  0       <18        M  WHITE HISPANIC   \n",
       "2               40                  0     45-64        M  BLACK HISPANIC   \n",
       "3               46                  0     25-44        M           BLACK   \n",
       "4               52                  0     25-44        M  WHITE HISPANIC   \n",
       "\n",
       "  x_coord_cd y_coord_cd   latitude  longitude  \n",
       "0   988225.0   198161.0  40.710590 -73.985664  \n",
       "1  1026424.0   251705.0  40.857454 -73.847543  \n",
       "2  1005041.0   234533.0  40.810398 -73.924895  \n",
       "3  1009339.0   248782.0  40.849497 -73.909316  \n",
       "4  1008647.0   253247.0  40.861754 -73.911801  "
      ]
     },
     "execution_count": 5,
     "metadata": {},
     "output_type": "execute_result"
    }
   ],
   "source": [
    "# View first 5 frows\n",
    "df_raw.head()"
   ]
  },
  {
   "cell_type": "code",
   "execution_count": 6,
   "metadata": {},
   "outputs": [
    {
     "name": "stdout",
     "output_type": "stream",
     "text": [
      "<class 'pandas.core.frame.DataFrame'>\n",
      "RangeIndex: 1401949 entries, 0 to 1401948\n",
      "Data columns (total 18 columns):\n",
      " #   Column             Non-Null Count    Dtype         \n",
      "---  ------             --------------    -----         \n",
      " 0   arrest_key         1401949 non-null  int64         \n",
      " 1   arrest_date        1401949 non-null  datetime64[ns]\n",
      " 2   pd_cd              1401949 non-null  int64         \n",
      " 3   pd_desc            1401949 non-null  object        \n",
      " 4   ky_cd              1401949 non-null  int64         \n",
      " 5   ofns_desc          1401949 non-null  object        \n",
      " 6   law_code           1401949 non-null  object        \n",
      " 7   law_cat_cd         1401949 non-null  object        \n",
      " 8   arrest_boro        1401949 non-null  object        \n",
      " 9   arrest_precinct    1401949 non-null  int64         \n",
      " 10  jurisdiction_code  1401949 non-null  int64         \n",
      " 11  age_group          1401949 non-null  object        \n",
      " 12  perp_sex           1401949 non-null  object        \n",
      " 13  perp_race          1401949 non-null  object        \n",
      " 14  x_coord_cd         1401949 non-null  object        \n",
      " 15  y_coord_cd         1401949 non-null  object        \n",
      " 16  latitude           1401949 non-null  float64       \n",
      " 17  longitude          1401949 non-null  float64       \n",
      "dtypes: datetime64[ns](1), float64(2), int64(5), object(10)\n",
      "memory usage: 192.5+ MB\n"
     ]
    }
   ],
   "source": [
    "df_raw.info()"
   ]
  },
  {
   "cell_type": "code",
   "execution_count": 7,
   "metadata": {},
   "outputs": [
    {
     "data": {
      "text/plain": [
       "(1401949, 18)"
      ]
     },
     "execution_count": 7,
     "metadata": {},
     "output_type": "execute_result"
    }
   ],
   "source": [
    "# Rows and columns\n",
    "df_raw.shape"
   ]
  },
  {
   "cell_type": "code",
   "execution_count": 8,
   "metadata": {},
   "outputs": [],
   "source": [
    "# Make copy of df_main so we can leave df_main intact\n",
    "df = df_raw.copy()"
   ]
  },
  {
   "cell_type": "code",
   "execution_count": 9,
   "metadata": {},
   "outputs": [],
   "source": [
    "# Drop the rows where at least one element is missing.\n",
    "df = df.dropna()"
   ]
  },
  {
   "cell_type": "code",
   "execution_count": 10,
   "metadata": {},
   "outputs": [],
   "source": [
    "# Drop unnecessary columns\n",
    "df = df.drop(['pd_cd', 'ky_cd', 'law_code', 'jurisdiction_code'], axis=1)"
   ]
  },
  {
   "cell_type": "code",
   "execution_count": 11,
   "metadata": {},
   "outputs": [
    {
     "data": {
      "text/plain": [
       "(1401949, 14)"
      ]
     },
     "execution_count": 11,
     "metadata": {},
     "output_type": "execute_result"
    }
   ],
   "source": [
    "# Rows and columns\n",
    "df.shape"
   ]
  },
  {
   "cell_type": "code",
   "execution_count": 12,
   "metadata": {},
   "outputs": [],
   "source": [
    "# Change x_coord_cd and y_coord_cd to integers\n",
    "df['x_coord_cd'] = df['x_coord_cd'].astype(float)\n",
    "df['x_coord_cd'] = df['x_coord_cd'].astype(int)\n",
    "df['y_coord_cd'] = df['y_coord_cd'].astype(float)\n",
    "df['y_coord_cd'] = df['y_coord_cd'].astype(int)"
   ]
  },
  {
   "cell_type": "code",
   "execution_count": 13,
   "metadata": {},
   "outputs": [],
   "source": [
    "# Create columns for year, month, date\n",
    "df['arrest_year'] = df['arrest_date'].dt.year\n",
    "df['arrest_month'] = df['arrest_date'].dt.month\n",
    "df['arrest_day'] = df['arrest_date'].dt.day\n",
    "df['arrest_day_index'] = df['arrest_date'].dt.dayofweek\n",
    "df['arrest_day_name'] = df['arrest_date'].dt.day_name()"
   ]
  },
  {
   "cell_type": "code",
   "execution_count": 14,
   "metadata": {
    "scrolled": true
   },
   "outputs": [
    {
     "data": {
      "text/plain": [
       "array(['FELONY ASSAULT', 'MISCELLANEOUS PENAL LAW',\n",
       "       'MURDER & NON-NEGL. MANSLAUGHTER', 'ASSAULT 3 & RELATED OFFENSES',\n",
       "       'INTOXICATED/IMPAIRED DRIVING', 'DANGEROUS WEAPONS',\n",
       "       'OFFENSES AGAINST PUBLIC ADMINISTRATION',\n",
       "       'OTHER TRAFFIC INFRACTION', 'SEX CRIMES',\n",
       "       'OFF. AGNST PUB ORD SENSBLTY & RGHTS TO PRIV',\n",
       "       'INTOXICATED & IMPAIRED DRIVING',\n",
       "       'CRIMINAL MISCHIEF & RELATED OFFENSES', 'GRAND LARCENY', 'ROBBERY',\n",
       "       'OTHER STATE LAWS', 'VEHICLE AND TRAFFIC LAWS',\n",
       "       'FORCIBLE TOUCHING', 'DISORDERLY CONDUCT', 'BURGLARY',\n",
       "       'PETIT LARCENY', 'OTHER OFFENSES RELATED TO THEFT',\n",
       "       'OFFENSES AGAINST THE PERSON', 'ALCOHOLIC BEVERAGE CONTROL LAW',\n",
       "       'HOMICIDE-NEGLIGENT-VEHICLE', 'DANGEROUS DRUGS',\n",
       "       'UNAUTHORIZED USE OF A VEHICLE 3 (UUV)', 'UNKNOWN',\n",
       "       'POSSESSION OF STOLEN PROPERTY 5', 'RAPE',\n",
       "       'OTHER STATE LAWS (NON PENAL LAW)', 'MOVING INFRACTIONS', 'FRAUDS',\n",
       "       'F.C.A. P.I.N.O.S.', 'ARSON', 'FORGERY',\n",
       "       'GRAND LARCENY OF MOTOR VEHICLE', 'CRIMINAL TRESPASS',\n",
       "       'PROSTITUTION & RELATED OFFENSES', 'THEFT-FRAUD', 'GAMBLING',\n",
       "       'POSSESSION OF STOLEN PROPERTY', 'FRAUDULENT ACCOSTING',\n",
       "       'ADMINISTRATIVE CODE', \"BURGLAR'S TOOLS\",\n",
       "       'OFFENSES RELATED TO CHILDREN', 'OTHER STATE LAWS (NON PENAL LA',\n",
       "       'KIDNAPPING & RELATED OFFENSES', 'HARRASSMENT 2',\n",
       "       'CRIMINAL MISCHIEF & RELATED OF', 'ENDAN WELFARE INCOMP',\n",
       "       'OFFENSES INVOLVING FRAUD', 'ANTICIPATORY OFFENSES',\n",
       "       'NEW YORK CITY HEALTH CODE', 'DISRUPTION OF A RELIGIOUS SERVICE',\n",
       "       'ADMINISTRATIVE CODES', 'CHILD ABANDONMENT/NON SUPPORT 1',\n",
       "       'ESCAPE 3', 'OFFENSES AGAINST PUBLIC SAFETY', 'JOSTLING',\n",
       "       'PARKING OFFENSES', 'LOITERING FOR DRUG PURPOSES', 'LOITERING',\n",
       "       'LOITERING/GAMBLING (CARDS, DICE, ETC)',\n",
       "       'CHILD ABANDONMENT/NON SUPPORT', 'HOMICIDE-NEGLIGENT,UNCLASSIFIED',\n",
       "       'OFF. AGNST PUB ORD SENSBLTY &', 'ABORTION',\n",
       "       'UNLAWFUL POSS. WEAP. ON SCHOOL GROUNDS',\n",
       "       'MURDER & NON-NEGL. MANSLAUGHTE', 'OFFENSES AGAINST PUBLIC ADMINI',\n",
       "       'HARASSMENT', 'NYS LAWS-UNCLASSIFIED FELONY',\n",
       "       'OTHER OFFENSES RELATED TO THEF', 'UNAUTHORIZED USE OF A VEHICLE',\n",
       "       'FOR OTHER AUTHORITIES', 'THEFT OF SERVICES',\n",
       "       'AGRICULTURE & MRKTS LAW-UNCLASSIFIED',\n",
       "       'HOMICIDE-NEGLIGENT,UNCLASSIFIE', 'KIDNAPPING',\n",
       "       'UNLAWFUL POSS. WEAP. ON SCHOOL', 'DISRUPTION OF A RELIGIOUS SERV',\n",
       "       'LOITERING/GAMBLING (CARDS, DIC',\n",
       "       'NYS LAWS-UNCLASSIFIED VIOLATION'], dtype=object)"
      ]
     },
     "execution_count": 14,
     "metadata": {},
     "output_type": "execute_result"
    }
   ],
   "source": [
    "# See unique ofns_desc\n",
    "df['ofns_desc'].unique()"
   ]
  },
  {
   "cell_type": "code",
   "execution_count": 15,
   "metadata": {},
   "outputs": [
    {
     "data": {
      "text/plain": [
       "83"
      ]
     },
     "execution_count": 15,
     "metadata": {},
     "output_type": "execute_result"
    }
   ],
   "source": [
    "# Distinct values\n",
    "len(df['ofns_desc'].unique())"
   ]
  },
  {
   "cell_type": "code",
   "execution_count": 16,
   "metadata": {},
   "outputs": [
    {
     "data": {
      "text/plain": [
       "DANGEROUS DRUGS                           209738\n",
       "ASSAULT 3 & RELATED OFFENSES              170510\n",
       "PETIT LARCENY                             117708\n",
       "VEHICLE AND TRAFFIC LAWS                   92523\n",
       "OTHER OFFENSES RELATED TO THEFT            84534\n",
       "                                           ...  \n",
       "DISRUPTION OF A RELIGIOUS SERV                 6\n",
       "HARASSMENT                                     3\n",
       "NYS LAWS-UNCLASSIFIED VIOLATION                2\n",
       "UNLAWFUL POSS. WEAP. ON SCHOOL GROUNDS         2\n",
       "UNLAWFUL POSS. WEAP. ON SCHOOL                 1\n",
       "Name: ofns_desc, Length: 83, dtype: int64"
      ]
     },
     "execution_count": 16,
     "metadata": {},
     "output_type": "execute_result"
    }
   ],
   "source": [
    "# Show number of records for each ofns_desc\n",
    "df['ofns_desc'].value_counts()"
   ]
  },
  {
   "cell_type": "code",
   "execution_count": 17,
   "metadata": {},
   "outputs": [],
   "source": [
    "# Create simpler categories for easier analysis\n",
    "THEFT = [\"BURGLARY\",\"PETIT LARCENY\",\"OFFENSES INVOLVING FRAUD\",\"THEFT OF SERVICES\",\"POSSESSION OF STOLEN PROPERTY 5\",\"THEFT-FRAUD\",\n",
    "          \"OTHER OFFENSES RELATED TO THEF\",\"FRAUDULENT ACCOSTING\",\"ROBBERY\",\"GRAND LARCENY OF MOTOR VEHICLE\",\n",
    "          \"POSSESSION OF STOLEN PROPERTY\",\"GRAND LARCENY\",\"FORGERY\",\"BURGLAR'S TOOLS\",\"FRAUDS\",\"OTHER OFFENSES RELATED TO THEFT\",\n",
    "          \"JOSTLING\",\"CRIMINAL TRESPASS\"]\n",
    "df.loc[df.ofns_desc.isin(THEFT), 'category'] = \"THEFT\"\n",
    "\n",
    "# DRUGS\n",
    "DRUGS = [\"DANGEROUS DRUGS\",\"LOITERING FOR DRUG PURPOSES\",\"UNDER THE INFLUENCE, DRUGS\"]\n",
    "df.loc[df.ofns_desc.isin(DRUGS), 'category'] = \"DRUGS\"\n",
    "\n",
    "# WEAPONS\n",
    "WEAPONS = [\"DANGEROUS WEAPONS\",\"UNLAWFUL POSS. WEAP. ON SCHOOL\",\"UNLAWFUL POSS. WEAP. ON SCHOOL GROUNDS\"]\n",
    "df.loc[df.ofns_desc.isin(WEAPONS), 'category'] = \"WEAPONS\"\n",
    "\n",
    "# ASSAULT\n",
    "ASSAULT = [\"FELONY ASSAULT\",\"ASSAULT 3 & RELATED OFFENSES\"]\n",
    "df.loc[df.ofns_desc.isin(ASSAULT), 'category'] = \"ASSAULT\"\n",
    "\n",
    "# SEXUAL_ASSAULT\n",
    "SEXUAL_ASSAULT = [\"RAPE\",\"SEX CRIMES\",\"FORCIBLE TOUCHING\"]\n",
    "df.loc[df.ofns_desc.isin(SEXUAL_ASSAULT), 'category'] = \"SEXUAL ASSAULT\"\n",
    "\n",
    "# TRAFFIC\n",
    "TRAFFIC = [\"INTOXICATED & IMPAIRED DRIVING\",\"VEHICLE AND TRAFFIC LAWS\",\"MOVING INFRACTIONS\",\"PARKING OFFENSES\",\n",
    "            \"INTOXICATED/IMPAIRED DRIVING\",\"OTHER TRAFFIC INFRACTION\", \"UNAUTHORIZED USE OF A VEHICLE 3 (UUV)\",\n",
    "            \"UNAUTHORIZED USE OF A VEHICLE\"]\n",
    "df.loc[df.ofns_desc.isin(TRAFFIC), 'category'] = \"TRAFFIC\"\n",
    "\n",
    "# MURDER\n",
    "MURDER = [\"MURDER & NON-NEGL. MANSLAUGHTE\", \"MURDER & NON-NEGL. MANSLAUGHTER\", \"HOMICIDE-NEGLIGENT,UNCLASSIFIED\", \n",
    "           \"HOMICIDE-NEGLIGENT-VEHICLE\",\"HOMICIDE-NEGLIGENT,UNCLASSIFIE\"]\n",
    "df.loc[df.ofns_desc.isin(MURDER), 'category'] = \"MURDER\"\n",
    "\n",
    "# CHILDREN\n",
    "CHILDREN = [\"KIDNAPPING\", \"CHILD ABANDONMENT/NON SUPPORT 1\", \"KIDNAPPING & RELATED OFFENSES\", \"OFFENSES RELATED TO CHILDREN\",\n",
    "             \"CHILD ABANDONMENT/NON SUPPORT\"]\n",
    "df.loc[df.ofns_desc.isin(CHILDREN), 'category'] = \"CHILDREN\"\n",
    "\n",
    "# OTHER\n",
    "ALL_CAT = THEFT + DRUGS + WEAPONS + ASSAULT + SEXUAL_ASSAULT + MURDER + CHILDREN + TRAFFIC\n",
    "df.loc[~df.ofns_desc.isin(ALL_CAT), 'category'] = \"OTHER\""
   ]
  },
  {
   "cell_type": "code",
   "execution_count": 18,
   "metadata": {},
   "outputs": [
    {
     "data": {
      "text/plain": [
       "array(['ASSAULT', 'OTHER', 'MURDER', 'TRAFFIC', 'WEAPONS',\n",
       "       'SEXUAL ASSAULT', 'THEFT', 'DRUGS', 'CHILDREN'], dtype=object)"
      ]
     },
     "execution_count": 18,
     "metadata": {},
     "output_type": "execute_result"
    }
   ],
   "source": [
    "# The category columns contains only 9 distinct values\n",
    "df['category'].unique()"
   ]
  },
  {
   "cell_type": "code",
   "execution_count": 19,
   "metadata": {},
   "outputs": [
    {
     "name": "stdout",
     "output_type": "stream",
     "text": [
      "<class 'pandas.core.frame.DataFrame'>\n",
      "Int64Index: 1401949 entries, 0 to 1401948\n",
      "Data columns (total 20 columns):\n",
      " #   Column            Non-Null Count    Dtype         \n",
      "---  ------            --------------    -----         \n",
      " 0   arrest_key        1401949 non-null  int64         \n",
      " 1   arrest_date       1401949 non-null  datetime64[ns]\n",
      " 2   pd_desc           1401949 non-null  object        \n",
      " 3   ofns_desc         1401949 non-null  object        \n",
      " 4   law_cat_cd        1401949 non-null  object        \n",
      " 5   arrest_boro       1401949 non-null  object        \n",
      " 6   arrest_precinct   1401949 non-null  int64         \n",
      " 7   age_group         1401949 non-null  object        \n",
      " 8   perp_sex          1401949 non-null  object        \n",
      " 9   perp_race         1401949 non-null  object        \n",
      " 10  x_coord_cd        1401949 non-null  int64         \n",
      " 11  y_coord_cd        1401949 non-null  int64         \n",
      " 12  latitude          1401949 non-null  float64       \n",
      " 13  longitude         1401949 non-null  float64       \n",
      " 14  arrest_year       1401949 non-null  int64         \n",
      " 15  arrest_month      1401949 non-null  int64         \n",
      " 16  arrest_day        1401949 non-null  int64         \n",
      " 17  arrest_day_index  1401949 non-null  int64         \n",
      " 18  arrest_day_name   1401949 non-null  object        \n",
      " 19  category          1401949 non-null  object        \n",
      "dtypes: datetime64[ns](1), float64(2), int64(8), object(9)\n",
      "memory usage: 224.6+ MB\n"
     ]
    }
   ],
   "source": [
    "df.info()"
   ]
  },
  {
   "cell_type": "code",
   "execution_count": 20,
   "metadata": {},
   "outputs": [
    {
     "data": {
      "text/html": [
       "<div>\n",
       "<style scoped>\n",
       "    .dataframe tbody tr th:only-of-type {\n",
       "        vertical-align: middle;\n",
       "    }\n",
       "\n",
       "    .dataframe tbody tr th {\n",
       "        vertical-align: top;\n",
       "    }\n",
       "\n",
       "    .dataframe thead th {\n",
       "        text-align: right;\n",
       "    }\n",
       "</style>\n",
       "<table border=\"1\" class=\"dataframe\">\n",
       "  <thead>\n",
       "    <tr style=\"text-align: right;\">\n",
       "      <th></th>\n",
       "      <th>arrest_key</th>\n",
       "      <th>arrest_date</th>\n",
       "      <th>pd_desc</th>\n",
       "      <th>ofns_desc</th>\n",
       "      <th>law_cat_cd</th>\n",
       "      <th>arrest_boro</th>\n",
       "      <th>arrest_precinct</th>\n",
       "      <th>age_group</th>\n",
       "      <th>perp_sex</th>\n",
       "      <th>perp_race</th>\n",
       "      <th>x_coord_cd</th>\n",
       "      <th>y_coord_cd</th>\n",
       "      <th>latitude</th>\n",
       "      <th>longitude</th>\n",
       "      <th>arrest_year</th>\n",
       "      <th>arrest_month</th>\n",
       "      <th>arrest_day</th>\n",
       "      <th>arrest_day_index</th>\n",
       "      <th>arrest_day_name</th>\n",
       "      <th>category</th>\n",
       "    </tr>\n",
       "  </thead>\n",
       "  <tbody>\n",
       "    <tr>\n",
       "      <th>0</th>\n",
       "      <td>140381385</td>\n",
       "      <td>2015-01-01</td>\n",
       "      <td>ASSAULT 2,1,PEACE OFFICER</td>\n",
       "      <td>FELONY ASSAULT</td>\n",
       "      <td>F</td>\n",
       "      <td>M</td>\n",
       "      <td>7</td>\n",
       "      <td>18-24</td>\n",
       "      <td>F</td>\n",
       "      <td>WHITE</td>\n",
       "      <td>988225</td>\n",
       "      <td>198161</td>\n",
       "      <td>40.710590</td>\n",
       "      <td>-73.985664</td>\n",
       "      <td>2015</td>\n",
       "      <td>1</td>\n",
       "      <td>1</td>\n",
       "      <td>3</td>\n",
       "      <td>Thursday</td>\n",
       "      <td>ASSAULT</td>\n",
       "    </tr>\n",
       "    <tr>\n",
       "      <th>1</th>\n",
       "      <td>140389276</td>\n",
       "      <td>2015-01-01</td>\n",
       "      <td>RECKLESS ENDANGERMENT 1</td>\n",
       "      <td>MISCELLANEOUS PENAL LAW</td>\n",
       "      <td>F</td>\n",
       "      <td>B</td>\n",
       "      <td>49</td>\n",
       "      <td>&lt;18</td>\n",
       "      <td>M</td>\n",
       "      <td>WHITE HISPANIC</td>\n",
       "      <td>1026424</td>\n",
       "      <td>251705</td>\n",
       "      <td>40.857454</td>\n",
       "      <td>-73.847543</td>\n",
       "      <td>2015</td>\n",
       "      <td>1</td>\n",
       "      <td>1</td>\n",
       "      <td>3</td>\n",
       "      <td>Thursday</td>\n",
       "      <td>OTHER</td>\n",
       "    </tr>\n",
       "    <tr>\n",
       "      <th>2</th>\n",
       "      <td>140389279</td>\n",
       "      <td>2015-01-01</td>\n",
       "      <td>MURDER,UNCLASSIFIED</td>\n",
       "      <td>MURDER &amp; NON-NEGL. MANSLAUGHTER</td>\n",
       "      <td>F</td>\n",
       "      <td>B</td>\n",
       "      <td>40</td>\n",
       "      <td>45-64</td>\n",
       "      <td>M</td>\n",
       "      <td>BLACK HISPANIC</td>\n",
       "      <td>1005041</td>\n",
       "      <td>234533</td>\n",
       "      <td>40.810398</td>\n",
       "      <td>-73.924895</td>\n",
       "      <td>2015</td>\n",
       "      <td>1</td>\n",
       "      <td>1</td>\n",
       "      <td>3</td>\n",
       "      <td>Thursday</td>\n",
       "      <td>MURDER</td>\n",
       "    </tr>\n",
       "    <tr>\n",
       "      <th>3</th>\n",
       "      <td>140389280</td>\n",
       "      <td>2015-01-01</td>\n",
       "      <td>OBSTR BREATH/CIRCUL</td>\n",
       "      <td>ASSAULT 3 &amp; RELATED OFFENSES</td>\n",
       "      <td>M</td>\n",
       "      <td>B</td>\n",
       "      <td>46</td>\n",
       "      <td>25-44</td>\n",
       "      <td>M</td>\n",
       "      <td>BLACK</td>\n",
       "      <td>1009339</td>\n",
       "      <td>248782</td>\n",
       "      <td>40.849497</td>\n",
       "      <td>-73.909316</td>\n",
       "      <td>2015</td>\n",
       "      <td>1</td>\n",
       "      <td>1</td>\n",
       "      <td>3</td>\n",
       "      <td>Thursday</td>\n",
       "      <td>ASSAULT</td>\n",
       "    </tr>\n",
       "    <tr>\n",
       "      <th>4</th>\n",
       "      <td>140389281</td>\n",
       "      <td>2015-01-01</td>\n",
       "      <td>INTOXICATED DRIVING,ALCOHOL</td>\n",
       "      <td>INTOXICATED/IMPAIRED DRIVING</td>\n",
       "      <td>F</td>\n",
       "      <td>B</td>\n",
       "      <td>52</td>\n",
       "      <td>25-44</td>\n",
       "      <td>M</td>\n",
       "      <td>WHITE HISPANIC</td>\n",
       "      <td>1008647</td>\n",
       "      <td>253247</td>\n",
       "      <td>40.861754</td>\n",
       "      <td>-73.911801</td>\n",
       "      <td>2015</td>\n",
       "      <td>1</td>\n",
       "      <td>1</td>\n",
       "      <td>3</td>\n",
       "      <td>Thursday</td>\n",
       "      <td>TRAFFIC</td>\n",
       "    </tr>\n",
       "  </tbody>\n",
       "</table>\n",
       "</div>"
      ],
      "text/plain": [
       "   arrest_key arrest_date                      pd_desc  \\\n",
       "0   140381385  2015-01-01    ASSAULT 2,1,PEACE OFFICER   \n",
       "1   140389276  2015-01-01      RECKLESS ENDANGERMENT 1   \n",
       "2   140389279  2015-01-01          MURDER,UNCLASSIFIED   \n",
       "3   140389280  2015-01-01          OBSTR BREATH/CIRCUL   \n",
       "4   140389281  2015-01-01  INTOXICATED DRIVING,ALCOHOL   \n",
       "\n",
       "                         ofns_desc law_cat_cd arrest_boro  arrest_precinct  \\\n",
       "0                   FELONY ASSAULT          F           M                7   \n",
       "1          MISCELLANEOUS PENAL LAW          F           B               49   \n",
       "2  MURDER & NON-NEGL. MANSLAUGHTER          F           B               40   \n",
       "3     ASSAULT 3 & RELATED OFFENSES          M           B               46   \n",
       "4     INTOXICATED/IMPAIRED DRIVING          F           B               52   \n",
       "\n",
       "  age_group perp_sex       perp_race  x_coord_cd  y_coord_cd   latitude  \\\n",
       "0     18-24        F           WHITE      988225      198161  40.710590   \n",
       "1       <18        M  WHITE HISPANIC     1026424      251705  40.857454   \n",
       "2     45-64        M  BLACK HISPANIC     1005041      234533  40.810398   \n",
       "3     25-44        M           BLACK     1009339      248782  40.849497   \n",
       "4     25-44        M  WHITE HISPANIC     1008647      253247  40.861754   \n",
       "\n",
       "   longitude  arrest_year  arrest_month  arrest_day  arrest_day_index  \\\n",
       "0 -73.985664         2015             1           1                 3   \n",
       "1 -73.847543         2015             1           1                 3   \n",
       "2 -73.924895         2015             1           1                 3   \n",
       "3 -73.909316         2015             1           1                 3   \n",
       "4 -73.911801         2015             1           1                 3   \n",
       "\n",
       "  arrest_day_name category  \n",
       "0        Thursday  ASSAULT  \n",
       "1        Thursday    OTHER  \n",
       "2        Thursday   MURDER  \n",
       "3        Thursday  ASSAULT  \n",
       "4        Thursday  TRAFFIC  "
      ]
     },
     "execution_count": 20,
     "metadata": {},
     "output_type": "execute_result"
    }
   ],
   "source": [
    "# Final dataframe\n",
    "df.head()"
   ]
  },
  {
   "cell_type": "markdown",
   "metadata": {},
   "source": [
    "# Data Analysis & Visualization in Python"
   ]
  },
  {
   "cell_type": "markdown",
   "metadata": {},
   "source": [
    "### Arrests by Year"
   ]
  },
  {
   "cell_type": "code",
   "execution_count": 21,
   "metadata": {},
   "outputs": [
    {
     "data": {
      "text/html": [
       "<div>\n",
       "<style scoped>\n",
       "    .dataframe tbody tr th:only-of-type {\n",
       "        vertical-align: middle;\n",
       "    }\n",
       "\n",
       "    .dataframe tbody tr th {\n",
       "        vertical-align: top;\n",
       "    }\n",
       "\n",
       "    .dataframe thead th {\n",
       "        text-align: right;\n",
       "    }\n",
       "</style>\n",
       "<table border=\"1\" class=\"dataframe\">\n",
       "  <thead>\n",
       "    <tr style=\"text-align: right;\">\n",
       "      <th></th>\n",
       "      <th>arrest_year</th>\n",
       "      <th>total_arrests</th>\n",
       "    </tr>\n",
       "  </thead>\n",
       "  <tbody>\n",
       "    <tr>\n",
       "      <th>0</th>\n",
       "      <td>2015</td>\n",
       "      <td>339470</td>\n",
       "    </tr>\n",
       "    <tr>\n",
       "      <th>1</th>\n",
       "      <td>2016</td>\n",
       "      <td>314864</td>\n",
       "    </tr>\n",
       "    <tr>\n",
       "      <th>2</th>\n",
       "      <td>2017</td>\n",
       "      <td>286225</td>\n",
       "    </tr>\n",
       "    <tr>\n",
       "      <th>3</th>\n",
       "      <td>2018</td>\n",
       "      <td>246773</td>\n",
       "    </tr>\n",
       "    <tr>\n",
       "      <th>4</th>\n",
       "      <td>2019</td>\n",
       "      <td>214617</td>\n",
       "    </tr>\n",
       "  </tbody>\n",
       "</table>\n",
       "</div>"
      ],
      "text/plain": [
       "   arrest_year  total_arrests\n",
       "0         2015         339470\n",
       "1         2016         314864\n",
       "2         2017         286225\n",
       "3         2018         246773\n",
       "4         2019         214617"
      ]
     },
     "execution_count": 21,
     "metadata": {},
     "output_type": "execute_result"
    }
   ],
   "source": [
    "df_year = df.groupby('arrest_year', as_index=False)\n",
    "df_year = df_year.size()\n",
    "df_year.rename(columns={'size':'total_arrests'}, inplace=True)\n",
    "df_year"
   ]
  },
  {
   "cell_type": "code",
   "execution_count": 22,
   "metadata": {
    "scrolled": true
   },
   "outputs": [
    {
     "data": {
      "image/png": "[encoded data removed]",
      "text/plain": [
       "<Figure size 1080x360 with 1 Axes>"
      ]
     },
     "metadata": {
      "needs_background": "light"
     },
     "output_type": "display_data"
    }
   ],
   "source": [
    "fig, ax = plt.subplots(figsize=(15, 5))\n",
    "ax.plot(df_year.arrest_year, df_year.total_arrests, marker='o')\n",
    "ax.set_xlabel(\"Year\")\n",
    "ax.set_ylabel(\"Number of Arrests\")\n",
    "ax.set_title(\"Arrests by Year\")\n",
    "plt.xticks([x for x in df_year.arrest_year])\n",
    "plt.xticks(rotation = 90)\n",
    "\n",
    "#for i,j in df_arrests_year.items():\n",
    "#    ax.annotate(j, xy=(i,j))\n",
    "\n",
    "for i,j in zip(df_year.arrest_year, df_year.total_arrests):\n",
    "    ax.annotate(format(j,','), xy=(i,j), va='bottom', ha='left')\n",
    "\n",
    "ax.yaxis.set_major_formatter(\n",
    "    ticker.FuncFormatter(lambda y, p: format(int(y), ','))\n",
    ")   \n",
    "\n",
    "plt.show()\n",
    "\n",
    "# ? How can I make this neater?"
   ]
  },
  {
   "cell_type": "markdown",
   "metadata": {},
   "source": [
    "### Arrests by Year Percentage Change"
   ]
  },
  {
   "cell_type": "code",
   "execution_count": 23,
   "metadata": {
    "scrolled": true
   },
   "outputs": [
    {
     "data": {
      "text/html": [
       "<div>\n",
       "<style scoped>\n",
       "    .dataframe tbody tr th:only-of-type {\n",
       "        vertical-align: middle;\n",
       "    }\n",
       "\n",
       "    .dataframe tbody tr th {\n",
       "        vertical-align: top;\n",
       "    }\n",
       "\n",
       "    .dataframe thead th {\n",
       "        text-align: right;\n",
       "    }\n",
       "</style>\n",
       "<table border=\"1\" class=\"dataframe\">\n",
       "  <thead>\n",
       "    <tr style=\"text-align: right;\">\n",
       "      <th></th>\n",
       "      <th>arrest_year</th>\n",
       "      <th>total_arrests</th>\n",
       "      <th>change</th>\n",
       "    </tr>\n",
       "  </thead>\n",
       "  <tbody>\n",
       "    <tr>\n",
       "      <th>0</th>\n",
       "      <td>2015</td>\n",
       "      <td>339470</td>\n",
       "      <td>NaN</td>\n",
       "    </tr>\n",
       "    <tr>\n",
       "      <th>1</th>\n",
       "      <td>2016</td>\n",
       "      <td>314864</td>\n",
       "      <td>-0.07</td>\n",
       "    </tr>\n",
       "    <tr>\n",
       "      <th>2</th>\n",
       "      <td>2017</td>\n",
       "      <td>286225</td>\n",
       "      <td>-0.09</td>\n",
       "    </tr>\n",
       "    <tr>\n",
       "      <th>3</th>\n",
       "      <td>2018</td>\n",
       "      <td>246773</td>\n",
       "      <td>-0.14</td>\n",
       "    </tr>\n",
       "    <tr>\n",
       "      <th>4</th>\n",
       "      <td>2019</td>\n",
       "      <td>214617</td>\n",
       "      <td>-0.13</td>\n",
       "    </tr>\n",
       "  </tbody>\n",
       "</table>\n",
       "</div>"
      ],
      "text/plain": [
       "   arrest_year  total_arrests  change\n",
       "0         2015         339470     NaN\n",
       "1         2016         314864   -0.07\n",
       "2         2017         286225   -0.09\n",
       "3         2018         246773   -0.14\n",
       "4         2019         214617   -0.13"
      ]
     },
     "execution_count": 23,
     "metadata": {},
     "output_type": "execute_result"
    }
   ],
   "source": [
    "df_year_pc = df.groupby('arrest_year', as_index=False)\n",
    "df_year_pc = df_year_pc.size()\n",
    "df_year_pc.rename(columns={'size':'total_arrests'}, inplace=True)\n",
    "df_year_pc['change'] = round(df_year_pc.total_arrests.div(df_year_pc.total_arrests.shift(1))-1,2)\n",
    "df_year_pc"
   ]
  },
  {
   "cell_type": "code",
   "execution_count": 24,
   "metadata": {},
   "outputs": [
    {
     "data": {
      "image/png": "[encoded data removed]",
      "text/plain": [
       "<Figure size 1152x360 with 1 Axes>"
      ]
     },
     "metadata": {
      "needs_background": "light"
     },
     "output_type": "display_data"
    }
   ],
   "source": [
    "fig, ax = plt.subplots(figsize=(16, 5))\n",
    "ax.plot(df_year_pc.arrest_year, df_year_pc.total_arrests, marker='o', color='red')\n",
    "ax.set_xlabel(\"Year\")\n",
    "ax.set_ylabel(\"Number of Arrests\")\n",
    "ax.set_title(\"Arrests by Year\")\n",
    "plt.xticks([x for x in df_year_pc.arrest_year])\n",
    "plt.xticks(rotation = 90)\n",
    "\n",
    "#for i,j in df_arrests_year.items():\n",
    "#    ax.annotate(j, xy=(i,j))\n",
    "\n",
    "for i,j in zip(df_year_pc.arrest_year, df_year_pc.total_arrests):\n",
    "    ax.annotate(format(j,','), xy=(i,j), va='bottom', ha='left')\n",
    "\n",
    "ax.yaxis.set_major_formatter(\n",
    "    ticker.FuncFormatter(lambda y, p: format(int(y), ','))\n",
    ")   \n",
    "\n",
    "plt.show()\n",
    "\n",
    "# ? Where are the labels?"
   ]
  },
  {
   "cell_type": "markdown",
   "metadata": {},
   "source": [
    "### Drug Arrests by Year"
   ]
  },
  {
   "cell_type": "code",
   "execution_count": 25,
   "metadata": {},
   "outputs": [
    {
     "data": {
      "text/html": [
       "<div>\n",
       "<style scoped>\n",
       "    .dataframe tbody tr th:only-of-type {\n",
       "        vertical-align: middle;\n",
       "    }\n",
       "\n",
       "    .dataframe tbody tr th {\n",
       "        vertical-align: top;\n",
       "    }\n",
       "\n",
       "    .dataframe thead th {\n",
       "        text-align: right;\n",
       "    }\n",
       "</style>\n",
       "<table border=\"1\" class=\"dataframe\">\n",
       "  <thead>\n",
       "    <tr style=\"text-align: right;\">\n",
       "      <th></th>\n",
       "      <th>arrest_year</th>\n",
       "      <th>total_arrests</th>\n",
       "    </tr>\n",
       "  </thead>\n",
       "  <tbody>\n",
       "    <tr>\n",
       "      <th>0</th>\n",
       "      <td>2015</td>\n",
       "      <td>55217</td>\n",
       "    </tr>\n",
       "    <tr>\n",
       "      <th>1</th>\n",
       "      <td>2016</td>\n",
       "      <td>52256</td>\n",
       "    </tr>\n",
       "    <tr>\n",
       "      <th>2</th>\n",
       "      <td>2017</td>\n",
       "      <td>48632</td>\n",
       "    </tr>\n",
       "    <tr>\n",
       "      <th>3</th>\n",
       "      <td>2018</td>\n",
       "      <td>32595</td>\n",
       "    </tr>\n",
       "    <tr>\n",
       "      <th>4</th>\n",
       "      <td>2019</td>\n",
       "      <td>21073</td>\n",
       "    </tr>\n",
       "  </tbody>\n",
       "</table>\n",
       "</div>"
      ],
      "text/plain": [
       "   arrest_year  total_arrests\n",
       "0         2015          55217\n",
       "1         2016          52256\n",
       "2         2017          48632\n",
       "3         2018          32595\n",
       "4         2019          21073"
      ]
     },
     "execution_count": 25,
     "metadata": {},
     "output_type": "execute_result"
    }
   ],
   "source": [
    "df_drugs_year = df[df['category'] == 'DRUGS']\n",
    "df_drugs_year = df_drugs_year.groupby('arrest_year', as_index=False)\n",
    "df_drugs_year = df_drugs_year.size()\n",
    "df_drugs_year.rename(columns={'size':'total_arrests'}, inplace=True)\n",
    "df_drugs_year"
   ]
  },
  {
   "cell_type": "code",
   "execution_count": 26,
   "metadata": {},
   "outputs": [
    {
     "data": {
      "image/png": "[encoded data removed]",
      "text/plain": [
       "<Figure size 1080x360 with 1 Axes>"
      ]
     },
     "metadata": {
      "needs_background": "light"
     },
     "output_type": "display_data"
    }
   ],
   "source": [
    "fig, ax = plt.subplots(figsize=(15, 5))\n",
    "ax.plot(df_drugs_year.arrest_year, df_drugs_year.total_arrests, marker='o')\n",
    "ax.set_xlabel(\"Year\")\n",
    "ax.set_ylabel(\"Number of Arrests\")\n",
    "ax.set_title(\"Drug Arrests by Year\")\n",
    "plt.xticks([x for x in df_drugs_year.arrest_year])\n",
    "plt.xticks(rotation = 90)\n",
    "\n",
    "#for i,j in df_arrests_year.items():\n",
    "#    ax.annotate(j, xy=(i,j))\n",
    "\n",
    "for i,j in zip(df_drugs_year.arrest_year, df_drugs_year.total_arrests):\n",
    "    ax.annotate(format(j, ','), xy=(i,j), va='bottom', ha='left')\n",
    "\n",
    "ax.yaxis.set_major_formatter(\n",
    "    ticker.FuncFormatter(lambda y, p: format(int(y), ','))\n",
    ")   \n",
    "\n",
    "plt.show()\n",
    "\n",
    "# ? Where are the labels?"
   ]
  },
  {
   "cell_type": "markdown",
   "metadata": {},
   "source": [
    "### Arrests by Month and Year"
   ]
  },
  {
   "cell_type": "code",
   "execution_count": 27,
   "metadata": {},
   "outputs": [
    {
     "data": {
      "text/html": [
       "<div>\n",
       "<style scoped>\n",
       "    .dataframe tbody tr th:only-of-type {\n",
       "        vertical-align: middle;\n",
       "    }\n",
       "\n",
       "    .dataframe tbody tr th {\n",
       "        vertical-align: top;\n",
       "    }\n",
       "\n",
       "    .dataframe thead th {\n",
       "        text-align: right;\n",
       "    }\n",
       "</style>\n",
       "<table border=\"1\" class=\"dataframe\">\n",
       "  <thead>\n",
       "    <tr style=\"text-align: right;\">\n",
       "      <th></th>\n",
       "      <th>arrest_year</th>\n",
       "      <th>arrest_month</th>\n",
       "      <th>total_arrests</th>\n",
       "    </tr>\n",
       "  </thead>\n",
       "  <tbody>\n",
       "    <tr>\n",
       "      <th>0</th>\n",
       "      <td>2015</td>\n",
       "      <td>1</td>\n",
       "      <td>25338</td>\n",
       "    </tr>\n",
       "    <tr>\n",
       "      <th>1</th>\n",
       "      <td>2015</td>\n",
       "      <td>2</td>\n",
       "      <td>27076</td>\n",
       "    </tr>\n",
       "    <tr>\n",
       "      <th>2</th>\n",
       "      <td>2015</td>\n",
       "      <td>3</td>\n",
       "      <td>30007</td>\n",
       "    </tr>\n",
       "    <tr>\n",
       "      <th>3</th>\n",
       "      <td>2015</td>\n",
       "      <td>4</td>\n",
       "      <td>29958</td>\n",
       "    </tr>\n",
       "    <tr>\n",
       "      <th>4</th>\n",
       "      <td>2015</td>\n",
       "      <td>5</td>\n",
       "      <td>28643</td>\n",
       "    </tr>\n",
       "  </tbody>\n",
       "</table>\n",
       "</div>"
      ],
      "text/plain": [
       "   arrest_year  arrest_month  total_arrests\n",
       "0         2015             1          25338\n",
       "1         2015             2          27076\n",
       "2         2015             3          30007\n",
       "3         2015             4          29958\n",
       "4         2015             5          28643"
      ]
     },
     "execution_count": 27,
     "metadata": {},
     "output_type": "execute_result"
    }
   ],
   "source": [
    "df_year_month = df.groupby(['arrest_year','arrest_month'], as_index=False)\n",
    "df_year_month = df_year_month.size()\n",
    "df_year_month.rename(columns={'size':'total_arrests'}, inplace=True)\n",
    "df_year_month.head()"
   ]
  },
  {
   "cell_type": "code",
   "execution_count": 28,
   "metadata": {},
   "outputs": [
    {
     "data": {
      "image/png": "[encoded data removed]",
      "text/plain": [
       "<Figure size 1080x360 with 1 Axes>"
      ]
     },
     "metadata": {
      "needs_background": "light"
     },
     "output_type": "display_data"
    }
   ],
   "source": [
    "fig, ax = plt.subplots(figsize=(15, 5))\n",
    "ax.plot(df_year_month.arrest_month, df_year_month.total_arrests)\n",
    "ax.set_xlabel(\"Month\")\n",
    "ax.set_ylabel(\"Number of Arrests\")\n",
    "ax.set_title(\"Arrests by Year and Month\")\n",
    "plt.xticks([x for x in df_year_month.arrest_month])\n",
    "\n",
    "#for i,j in df_arrests_year.items():\n",
    "#    ax.annotate(j, xy=(i,j))\n",
    "\n",
    "#for i,j in zip(df_year_month.arrest_year, df_year_month.total_arrests):\n",
    "#    ax.annotate(format(j, ','), xy=(i,j))\n",
    "\n",
    "ax.yaxis.set_major_formatter(\n",
    "    ticker.FuncFormatter(lambda y, p: format(int(y), ','))\n",
    ")\n",
    "\n",
    "# plt.gca().set_color_cycle(['red', 'green', 'blue', 'yellow'])\n",
    "\n",
    "plt.show()\n",
    "\n",
    "# ? Add colors for each line?"
   ]
  },
  {
   "cell_type": "markdown",
   "metadata": {},
   "source": [
    "### Arrests by Month"
   ]
  },
  {
   "cell_type": "code",
   "execution_count": 29,
   "metadata": {},
   "outputs": [
    {
     "data": {
      "text/html": [
       "<div>\n",
       "<style scoped>\n",
       "    .dataframe tbody tr th:only-of-type {\n",
       "        vertical-align: middle;\n",
       "    }\n",
       "\n",
       "    .dataframe tbody tr th {\n",
       "        vertical-align: top;\n",
       "    }\n",
       "\n",
       "    .dataframe thead th {\n",
       "        text-align: right;\n",
       "    }\n",
       "</style>\n",
       "<table border=\"1\" class=\"dataframe\">\n",
       "  <thead>\n",
       "    <tr style=\"text-align: right;\">\n",
       "      <th></th>\n",
       "      <th>arrest_month</th>\n",
       "      <th>total_arrests</th>\n",
       "    </tr>\n",
       "  </thead>\n",
       "  <tbody>\n",
       "    <tr>\n",
       "      <th>0</th>\n",
       "      <td>1</td>\n",
       "      <td>122424</td>\n",
       "    </tr>\n",
       "    <tr>\n",
       "      <th>1</th>\n",
       "      <td>2</td>\n",
       "      <td>116693</td>\n",
       "    </tr>\n",
       "    <tr>\n",
       "      <th>2</th>\n",
       "      <td>3</td>\n",
       "      <td>126382</td>\n",
       "    </tr>\n",
       "    <tr>\n",
       "      <th>3</th>\n",
       "      <td>4</td>\n",
       "      <td>122415</td>\n",
       "    </tr>\n",
       "    <tr>\n",
       "      <th>4</th>\n",
       "      <td>5</td>\n",
       "      <td>123456</td>\n",
       "    </tr>\n",
       "  </tbody>\n",
       "</table>\n",
       "</div>"
      ],
      "text/plain": [
       "   arrest_month  total_arrests\n",
       "0             1         122424\n",
       "1             2         116693\n",
       "2             3         126382\n",
       "3             4         122415\n",
       "4             5         123456"
      ]
     },
     "execution_count": 29,
     "metadata": {},
     "output_type": "execute_result"
    }
   ],
   "source": [
    "df_month = df.groupby('arrest_month', as_index=False)\n",
    "df_month = df_month.size()\n",
    "df_month.rename(columns={'size':'total_arrests'}, inplace=True)\n",
    "df_month.head()"
   ]
  },
  {
   "cell_type": "code",
   "execution_count": 30,
   "metadata": {},
   "outputs": [
    {
     "data": {
      "image/png": "[encoded data removed]",
      "text/plain": [
       "<Figure size 720x360 with 1 Axes>"
      ]
     },
     "metadata": {
      "needs_background": "light"
     },
     "output_type": "display_data"
    }
   ],
   "source": [
    "fig, ax = plt.subplots(figsize=(10, 5))\n",
    "ax.bar(df_month.arrest_month, df_month.total_arrests)\n",
    "ax.set_xlabel('Month')\n",
    "ax.set_ylabel('Number of Arrests')\n",
    "ax.set_title('Arrests by Month')\n",
    "plt.xticks([x for x in df_month.arrest_month])\n",
    "\n",
    "ax.yaxis.set_major_formatter(\n",
    "ticker.FuncFormatter(lambda y,p: format(int(y), ','))\n",
    ")\n",
    "\n",
    "for i,j in zip(df_month.arrest_month, df_month.total_arrests):\n",
    "    ax.annotate(format((j), ','), xy=(i,j), ha='center', va='bottom')\n",
    "\n",
    "plt.show()"
   ]
  },
  {
   "cell_type": "markdown",
   "metadata": {},
   "source": [
    "### Top 10 Crimes by OFNS_DESC"
   ]
  },
  {
   "cell_type": "code",
   "execution_count": 31,
   "metadata": {},
   "outputs": [
    {
     "data": {
      "text/html": [
       "<div>\n",
       "<style scoped>\n",
       "    .dataframe tbody tr th:only-of-type {\n",
       "        vertical-align: middle;\n",
       "    }\n",
       "\n",
       "    .dataframe tbody tr th {\n",
       "        vertical-align: top;\n",
       "    }\n",
       "\n",
       "    .dataframe thead th {\n",
       "        text-align: right;\n",
       "    }\n",
       "</style>\n",
       "<table border=\"1\" class=\"dataframe\">\n",
       "  <thead>\n",
       "    <tr style=\"text-align: right;\">\n",
       "      <th></th>\n",
       "      <th>ofns_desc</th>\n",
       "      <th>total_arrests</th>\n",
       "    </tr>\n",
       "  </thead>\n",
       "  <tbody>\n",
       "    <tr>\n",
       "      <th>0</th>\n",
       "      <td>ROBBERY</td>\n",
       "      <td>48861</td>\n",
       "    </tr>\n",
       "    <tr>\n",
       "      <th>1</th>\n",
       "      <td>GRAND LARCENY</td>\n",
       "      <td>49666</td>\n",
       "    </tr>\n",
       "    <tr>\n",
       "      <th>2</th>\n",
       "      <td>DANGEROUS WEAPONS</td>\n",
       "      <td>53589</td>\n",
       "    </tr>\n",
       "    <tr>\n",
       "      <th>3</th>\n",
       "      <td>MISCELLANEOUS PENAL LAW</td>\n",
       "      <td>63285</td>\n",
       "    </tr>\n",
       "    <tr>\n",
       "      <th>4</th>\n",
       "      <td>FELONY ASSAULT</td>\n",
       "      <td>75175</td>\n",
       "    </tr>\n",
       "    <tr>\n",
       "      <th>5</th>\n",
       "      <td>OTHER OFFENSES RELATED TO THEFT</td>\n",
       "      <td>84534</td>\n",
       "    </tr>\n",
       "    <tr>\n",
       "      <th>6</th>\n",
       "      <td>VEHICLE AND TRAFFIC LAWS</td>\n",
       "      <td>92523</td>\n",
       "    </tr>\n",
       "    <tr>\n",
       "      <th>7</th>\n",
       "      <td>PETIT LARCENY</td>\n",
       "      <td>117708</td>\n",
       "    </tr>\n",
       "    <tr>\n",
       "      <th>8</th>\n",
       "      <td>ASSAULT 3 &amp; RELATED OFFENSES</td>\n",
       "      <td>170510</td>\n",
       "    </tr>\n",
       "    <tr>\n",
       "      <th>9</th>\n",
       "      <td>DANGEROUS DRUGS</td>\n",
       "      <td>209738</td>\n",
       "    </tr>\n",
       "  </tbody>\n",
       "</table>\n",
       "</div>"
      ],
      "text/plain": [
       "                         ofns_desc  total_arrests\n",
       "0                          ROBBERY          48861\n",
       "1                    GRAND LARCENY          49666\n",
       "2                DANGEROUS WEAPONS          53589\n",
       "3          MISCELLANEOUS PENAL LAW          63285\n",
       "4                   FELONY ASSAULT          75175\n",
       "5  OTHER OFFENSES RELATED TO THEFT          84534\n",
       "6         VEHICLE AND TRAFFIC LAWS          92523\n",
       "7                    PETIT LARCENY         117708\n",
       "8     ASSAULT 3 & RELATED OFFENSES         170510\n",
       "9                  DANGEROUS DRUGS         209738"
      ]
     },
     "execution_count": 31,
     "metadata": {},
     "output_type": "execute_result"
    }
   ],
   "source": [
    "df_ofns = df.groupby('ofns_desc', as_index=False)\n",
    "df_ofns = df_ofns.size()\n",
    "df_ofns = df_ofns.sort_values('size', ascending=False)\n",
    "df_ofns = df_ofns.head(10)\n",
    "df_ofns = df_ofns.sort_values('size', ascending=True)\n",
    "df_ofns = df_ofns.reset_index(drop=True)\n",
    "df_ofns = df_ofns.rename(columns={'size':'total_arrests'})\n",
    "df_ofns"
   ]
  },
  {
   "cell_type": "code",
   "execution_count": 32,
   "metadata": {},
   "outputs": [
    {
     "data": {
      "image/png": "[encoded data removed]",
      "text/plain": [
       "<Figure size 1080x360 with 1 Axes>"
      ]
     },
     "metadata": {
      "needs_background": "light"
     },
     "output_type": "display_data"
    }
   ],
   "source": [
    "fig, ax = plt.subplots(figsize=(15,5))\n",
    "ax.barh(df_ofns.ofns_desc, df_ofns.total_arrests)\n",
    "ax.set_ylabel('Offense Description')\n",
    "ax.set_xlabel('Number of Arrests')\n",
    "ax.set_title('Arrests by Offense Description')\n",
    "plt.xticks(rotation=0)\n",
    "\n",
    "ax.xaxis.set_major_formatter(\n",
    "ticker.FuncFormatter(lambda x,p: format(int(x), ','))\n",
    ")\n",
    "\n",
    "plt.show()"
   ]
  },
  {
   "cell_type": "markdown",
   "metadata": {},
   "source": [
    "### Top Crimes by Category"
   ]
  },
  {
   "cell_type": "code",
   "execution_count": 33,
   "metadata": {},
   "outputs": [
    {
     "data": {
      "text/html": [
       "<div>\n",
       "<style scoped>\n",
       "    .dataframe tbody tr th:only-of-type {\n",
       "        vertical-align: middle;\n",
       "    }\n",
       "\n",
       "    .dataframe tbody tr th {\n",
       "        vertical-align: top;\n",
       "    }\n",
       "\n",
       "    .dataframe thead th {\n",
       "        text-align: right;\n",
       "    }\n",
       "</style>\n",
       "<table border=\"1\" class=\"dataframe\">\n",
       "  <thead>\n",
       "    <tr style=\"text-align: right;\">\n",
       "      <th></th>\n",
       "      <th>category</th>\n",
       "      <th>total_arrests</th>\n",
       "    </tr>\n",
       "  </thead>\n",
       "  <tbody>\n",
       "    <tr>\n",
       "      <th>8</th>\n",
       "      <td>CHILDREN</td>\n",
       "      <td>1142</td>\n",
       "    </tr>\n",
       "    <tr>\n",
       "      <th>7</th>\n",
       "      <td>MURDER</td>\n",
       "      <td>4767</td>\n",
       "    </tr>\n",
       "    <tr>\n",
       "      <th>6</th>\n",
       "      <td>SEXUAL ASSAULT</td>\n",
       "      <td>22496</td>\n",
       "    </tr>\n",
       "    <tr>\n",
       "      <th>5</th>\n",
       "      <td>WEAPONS</td>\n",
       "      <td>53592</td>\n",
       "    </tr>\n",
       "    <tr>\n",
       "      <th>4</th>\n",
       "      <td>TRAFFIC</td>\n",
       "      <td>154436</td>\n",
       "    </tr>\n",
       "    <tr>\n",
       "      <th>3</th>\n",
       "      <td>DRUGS</td>\n",
       "      <td>209773</td>\n",
       "    </tr>\n",
       "    <tr>\n",
       "      <th>2</th>\n",
       "      <td>ASSAULT</td>\n",
       "      <td>245685</td>\n",
       "    </tr>\n",
       "    <tr>\n",
       "      <th>1</th>\n",
       "      <td>OTHER</td>\n",
       "      <td>285410</td>\n",
       "    </tr>\n",
       "    <tr>\n",
       "      <th>0</th>\n",
       "      <td>THEFT</td>\n",
       "      <td>424648</td>\n",
       "    </tr>\n",
       "  </tbody>\n",
       "</table>\n",
       "</div>"
      ],
      "text/plain": [
       "         category  total_arrests\n",
       "8        CHILDREN           1142\n",
       "7          MURDER           4767\n",
       "6  SEXUAL ASSAULT          22496\n",
       "5         WEAPONS          53592\n",
       "4         TRAFFIC         154436\n",
       "3           DRUGS         209773\n",
       "2         ASSAULT         245685\n",
       "1           OTHER         285410\n",
       "0           THEFT         424648"
      ]
     },
     "execution_count": 33,
     "metadata": {},
     "output_type": "execute_result"
    }
   ],
   "source": [
    "df_category = df.groupby('category', as_index=False)\n",
    "df_category = df_category.size()\n",
    "df_category = df_category.sort_values('size', ascending=False)\n",
    "df_category = df_category.reset_index(drop=True)\n",
    "df_category = df_category.sort_values('size', ascending=True)\n",
    "df_category = df_category.rename(columns={'size':'total_arrests'})\n",
    "df_category"
   ]
  },
  {
   "cell_type": "code",
   "execution_count": 34,
   "metadata": {},
   "outputs": [
    {
     "data": {
      "image/png": "[encoded data removed]",
      "text/plain": [
       "<Figure size 1152x360 with 1 Axes>"
      ]
     },
     "metadata": {
      "needs_background": "light"
     },
     "output_type": "display_data"
    }
   ],
   "source": [
    "fig, ax = plt.subplots(figsize=(16,5))\n",
    "ax.barh(df_category.category, df_category.total_arrests)\n",
    "ax.set_ylabel('Category')\n",
    "ax.set_xlabel('Number of Arrests')\n",
    "ax.set_title('Arrests by Category')\n",
    "plt.xticks(rotation=0)\n",
    "\n",
    "ax.xaxis.set_major_formatter(\n",
    "ticker.FuncFormatter(lambda x,p: format(int(x), ','))\n",
    ")\n",
    "\n",
    "for i,j in zip(df_category.total_arrests, df_category.category):\n",
    "    ax.annotate(format(i,','), xy=(i,j), va='center', ha='left')\n",
    "\n",
    "plt.show()"
   ]
  },
  {
   "cell_type": "markdown",
   "metadata": {},
   "source": [
    "### Crimes by Misdemeanors, Felonies, Violations, Infractions"
   ]
  },
  {
   "cell_type": "code",
   "execution_count": 35,
   "metadata": {},
   "outputs": [
    {
     "data": {
      "text/html": [
       "<div>\n",
       "<style scoped>\n",
       "    .dataframe tbody tr th:only-of-type {\n",
       "        vertical-align: middle;\n",
       "    }\n",
       "\n",
       "    .dataframe tbody tr th {\n",
       "        vertical-align: top;\n",
       "    }\n",
       "\n",
       "    .dataframe thead th {\n",
       "        text-align: right;\n",
       "    }\n",
       "</style>\n",
       "<table border=\"1\" class=\"dataframe\">\n",
       "  <thead>\n",
       "    <tr style=\"text-align: right;\">\n",
       "      <th></th>\n",
       "      <th>law_cat_cd</th>\n",
       "      <th>total_arrests</th>\n",
       "    </tr>\n",
       "  </thead>\n",
       "  <tbody>\n",
       "    <tr>\n",
       "      <th>0</th>\n",
       "      <td>M</td>\n",
       "      <td>896879</td>\n",
       "    </tr>\n",
       "    <tr>\n",
       "      <th>1</th>\n",
       "      <td>F</td>\n",
       "      <td>445018</td>\n",
       "    </tr>\n",
       "    <tr>\n",
       "      <th>2</th>\n",
       "      <td>V</td>\n",
       "      <td>46985</td>\n",
       "    </tr>\n",
       "    <tr>\n",
       "      <th>3</th>\n",
       "      <td>UNKNOWN</td>\n",
       "      <td>7466</td>\n",
       "    </tr>\n",
       "    <tr>\n",
       "      <th>4</th>\n",
       "      <td>I</td>\n",
       "      <td>5601</td>\n",
       "    </tr>\n",
       "  </tbody>\n",
       "</table>\n",
       "</div>"
      ],
      "text/plain": [
       "  law_cat_cd  total_arrests\n",
       "0          M         896879\n",
       "1          F         445018\n",
       "2          V          46985\n",
       "3    UNKNOWN           7466\n",
       "4          I           5601"
      ]
     },
     "execution_count": 35,
     "metadata": {},
     "output_type": "execute_result"
    }
   ],
   "source": [
    "df_law_cat_cd = df.groupby('law_cat_cd', as_index=False)\n",
    "df_law_cat_cd = df_law_cat_cd.size()\n",
    "df_law_cat_cd = df_law_cat_cd.sort_values('size', ascending=False)\n",
    "df_law_cat_cd = df_law_cat_cd.reset_index(drop=True)\n",
    "df_law_cat_cd = df_law_cat_cd.rename(columns={'size':'total_arrests'})\n",
    "df_law_cat_cd"
   ]
  },
  {
   "cell_type": "code",
   "execution_count": 36,
   "metadata": {},
   "outputs": [
    {
     "data": {
      "image/png": "[encoded data removed]",
      "text/plain": [
       "<Figure size 720x360 with 1 Axes>"
      ]
     },
     "metadata": {
      "needs_background": "light"
     },
     "output_type": "display_data"
    }
   ],
   "source": [
    "fig, ax = plt.subplots(figsize=(10,5))\n",
    "ax.bar(df_law_cat_cd.law_cat_cd, df_law_cat_cd.total_arrests, color='red')\n",
    "ax.set_xlabel('Category')\n",
    "ax.set_ylabel('Number of Arrests')\n",
    "ax.set_title('Arrests by Category')\n",
    "plt.xticks(rotation=0)\n",
    "\n",
    "ax.yaxis.set_major_formatter(\n",
    "ticker.FuncFormatter(lambda y,p: format(int(y), ','))\n",
    ")\n",
    "\n",
    "for i,j in zip(df_law_cat_cd.law_cat_cd, df_law_cat_cd.total_arrests):\n",
    "    ax.annotate(format((j), ','), xy=(i,j), va='bottom', ha='center')\n",
    "\n",
    "plt.show()"
   ]
  },
  {
   "cell_type": "code",
   "execution_count": 37,
   "metadata": {},
   "outputs": [
    {
     "data": {
      "text/html": [
       "<div>\n",
       "<style scoped>\n",
       "    .dataframe tbody tr th:only-of-type {\n",
       "        vertical-align: middle;\n",
       "    }\n",
       "\n",
       "    .dataframe tbody tr th {\n",
       "        vertical-align: top;\n",
       "    }\n",
       "\n",
       "    .dataframe thead th {\n",
       "        text-align: right;\n",
       "    }\n",
       "</style>\n",
       "<table border=\"1\" class=\"dataframe\">\n",
       "  <thead>\n",
       "    <tr style=\"text-align: right;\">\n",
       "      <th></th>\n",
       "      <th>arrest_boro</th>\n",
       "      <th>total_arrests</th>\n",
       "    </tr>\n",
       "  </thead>\n",
       "  <tbody>\n",
       "    <tr>\n",
       "      <th>0</th>\n",
       "      <td>K</td>\n",
       "      <td>387573</td>\n",
       "    </tr>\n",
       "    <tr>\n",
       "      <th>1</th>\n",
       "      <td>M</td>\n",
       "      <td>372020</td>\n",
       "    </tr>\n",
       "    <tr>\n",
       "      <th>2</th>\n",
       "      <td>B</td>\n",
       "      <td>311754</td>\n",
       "    </tr>\n",
       "    <tr>\n",
       "      <th>3</th>\n",
       "      <td>Q</td>\n",
       "      <td>276306</td>\n",
       "    </tr>\n",
       "    <tr>\n",
       "      <th>4</th>\n",
       "      <td>S</td>\n",
       "      <td>54296</td>\n",
       "    </tr>\n",
       "  </tbody>\n",
       "</table>\n",
       "</div>"
      ],
      "text/plain": [
       "  arrest_boro  total_arrests\n",
       "0           K         387573\n",
       "1           M         372020\n",
       "2           B         311754\n",
       "3           Q         276306\n",
       "4           S          54296"
      ]
     },
     "execution_count": 37,
     "metadata": {},
     "output_type": "execute_result"
    }
   ],
   "source": [
    "df_boro = df.groupby('arrest_boro', as_index=False)\n",
    "df_boro = df_boro.size()\n",
    "df_boro = df_boro.sort_values('size', ascending=False)\n",
    "df_boro = df_boro.reset_index(drop=True)\n",
    "df_boro = df_boro.rename(columns={'size':'total_arrests'})\n",
    "df_boro"
   ]
  },
  {
   "cell_type": "code",
   "execution_count": 38,
   "metadata": {},
   "outputs": [
    {
     "data": {
      "image/png": "[encoded data removed]",
      "text/plain": [
       "<Figure size 720x360 with 1 Axes>"
      ]
     },
     "metadata": {
      "needs_background": "light"
     },
     "output_type": "display_data"
    }
   ],
   "source": [
    "fig, ax = plt.subplots(figsize=(10,5))\n",
    "ax.bar(df_boro.arrest_boro, df_boro.total_arrests, color='red')\n",
    "ax.set_xlabel('Borough')\n",
    "ax.set_ylabel('Number of Arrests')\n",
    "ax.set_title('Arrests by Borough')\n",
    "plt.xticks(rotation=0)\n",
    "\n",
    "ax.yaxis.set_major_formatter(\n",
    "ticker.FuncFormatter(lambda y,p: format(int(y), ','))\n",
    ")\n",
    "\n",
    "for i,j in zip(df_boro.arrest_boro, df_boro.total_arrests):\n",
    "    ax.annotate(format(j, ','), xy=(i,j), va='bottom', ha='center')\n",
    "\n",
    "plt.show()"
   ]
  },
  {
   "cell_type": "markdown",
   "metadata": {},
   "source": [
    "### Total Arrests by Age"
   ]
  },
  {
   "cell_type": "code",
   "execution_count": 39,
   "metadata": {},
   "outputs": [
    {
     "data": {
      "text/html": [
       "<div>\n",
       "<style scoped>\n",
       "    .dataframe tbody tr th:only-of-type {\n",
       "        vertical-align: middle;\n",
       "    }\n",
       "\n",
       "    .dataframe tbody tr th {\n",
       "        vertical-align: top;\n",
       "    }\n",
       "\n",
       "    .dataframe thead th {\n",
       "        text-align: right;\n",
       "    }\n",
       "</style>\n",
       "<table border=\"1\" class=\"dataframe\">\n",
       "  <thead>\n",
       "    <tr style=\"text-align: right;\">\n",
       "      <th></th>\n",
       "      <th>age_group</th>\n",
       "      <th>total_arrests</th>\n",
       "    </tr>\n",
       "  </thead>\n",
       "  <tbody>\n",
       "    <tr>\n",
       "      <th>0</th>\n",
       "      <td>&lt;18</td>\n",
       "      <td>80841</td>\n",
       "    </tr>\n",
       "    <tr>\n",
       "      <th>1</th>\n",
       "      <td>18-24</td>\n",
       "      <td>334725</td>\n",
       "    </tr>\n",
       "    <tr>\n",
       "      <th>2</th>\n",
       "      <td>25-44</td>\n",
       "      <td>698261</td>\n",
       "    </tr>\n",
       "    <tr>\n",
       "      <th>3</th>\n",
       "      <td>45-64</td>\n",
       "      <td>273087</td>\n",
       "    </tr>\n",
       "    <tr>\n",
       "      <th>4</th>\n",
       "      <td>65+</td>\n",
       "      <td>15035</td>\n",
       "    </tr>\n",
       "  </tbody>\n",
       "</table>\n",
       "</div>"
      ],
      "text/plain": [
       "  age_group  total_arrests\n",
       "0       <18          80841\n",
       "1     18-24         334725\n",
       "2     25-44         698261\n",
       "3     45-64         273087\n",
       "4       65+          15035"
      ]
     },
     "execution_count": 39,
     "metadata": {},
     "output_type": "execute_result"
    }
   ],
   "source": [
    "df_age = df.groupby('age_group', as_index=False)\n",
    "df_age = df_age.size()\n",
    "df_age = df_age.rename(columns={'size':'total_arrests'})\n",
    "df_age = df_age.iloc[df_age['age_group'].ne('<18').argsort()]\n",
    "df_age = df_age.reset_index(drop=True)\n",
    "df_age"
   ]
  },
  {
   "cell_type": "code",
   "execution_count": 40,
   "metadata": {},
   "outputs": [
    {
     "data": {
      "image/png": "[encoded data removed]",
      "text/plain": [
       "<Figure size 720x360 with 1 Axes>"
      ]
     },
     "metadata": {
      "needs_background": "light"
     },
     "output_type": "display_data"
    }
   ],
   "source": [
    "fig, ax = plt.subplots(figsize=(10, 5))\n",
    "ax.bar(df_age.age_group, df_age.total_arrests, color='seagreen')\n",
    "ax.set_xlabel('Age Group')\n",
    "ax.set_ylabel('Number of Arrests')\n",
    "ax.set_title('Arrests by Age Group')\n",
    "plt.xticks(rotation=0)\n",
    "\n",
    "ax.yaxis.set_major_formatter(\n",
    "ticker.FuncFormatter(lambda y,p: format(int(y), ','))\n",
    ")\n",
    "\n",
    "for i,j in zip(df_age.age_group, df_age.total_arrests):\n",
    "    ax.annotate(format(j, ','), xy=(i,j), va='bottom', ha='center')\n",
    "\n",
    "plt.show()"
   ]
  },
  {
   "cell_type": "markdown",
   "metadata": {},
   "source": [
    "### Felony Arrests by Age"
   ]
  },
  {
   "cell_type": "code",
   "execution_count": 41,
   "metadata": {},
   "outputs": [
    {
     "data": {
      "text/html": [
       "<div>\n",
       "<style scoped>\n",
       "    .dataframe tbody tr th:only-of-type {\n",
       "        vertical-align: middle;\n",
       "    }\n",
       "\n",
       "    .dataframe tbody tr th {\n",
       "        vertical-align: top;\n",
       "    }\n",
       "\n",
       "    .dataframe thead th {\n",
       "        text-align: right;\n",
       "    }\n",
       "</style>\n",
       "<table border=\"1\" class=\"dataframe\">\n",
       "  <thead>\n",
       "    <tr style=\"text-align: right;\">\n",
       "      <th></th>\n",
       "      <th>age_group</th>\n",
       "      <th>total_arrests</th>\n",
       "    </tr>\n",
       "  </thead>\n",
       "  <tbody>\n",
       "    <tr>\n",
       "      <th>0</th>\n",
       "      <td>&lt;18</td>\n",
       "      <td>33979</td>\n",
       "    </tr>\n",
       "    <tr>\n",
       "      <th>1</th>\n",
       "      <td>18-24</td>\n",
       "      <td>106857</td>\n",
       "    </tr>\n",
       "    <tr>\n",
       "      <th>2</th>\n",
       "      <td>25-44</td>\n",
       "      <td>219324</td>\n",
       "    </tr>\n",
       "    <tr>\n",
       "      <th>3</th>\n",
       "      <td>45-64</td>\n",
       "      <td>80647</td>\n",
       "    </tr>\n",
       "    <tr>\n",
       "      <th>4</th>\n",
       "      <td>65+</td>\n",
       "      <td>4211</td>\n",
       "    </tr>\n",
       "  </tbody>\n",
       "</table>\n",
       "</div>"
      ],
      "text/plain": [
       "  age_group  total_arrests\n",
       "0       <18          33979\n",
       "1     18-24         106857\n",
       "2     25-44         219324\n",
       "3     45-64          80647\n",
       "4       65+           4211"
      ]
     },
     "execution_count": 41,
     "metadata": {},
     "output_type": "execute_result"
    }
   ],
   "source": [
    "df_age_fel = df[df['law_cat_cd'] == 'F']\n",
    "df_age_fel = df_age_fel.groupby('age_group', as_index=False)\n",
    "df_age_fel = df_age_fel.size()\n",
    "df_age_fel = df_age_fel.rename(columns={'size':'total_arrests'})\n",
    "df_age_fel = df_age_fel.iloc[df_age_fel['age_group'].ne('<18').argsort()]\n",
    "df_age_fel = df_age_fel.reset_index(drop=True)\n",
    "df_age_fel"
   ]
  },
  {
   "cell_type": "code",
   "execution_count": 42,
   "metadata": {},
   "outputs": [
    {
     "data": {
      "image/png": "[encoded data removed]",
      "text/plain": [
       "<Figure size 720x360 with 1 Axes>"
      ]
     },
     "metadata": {
      "needs_background": "light"
     },
     "output_type": "display_data"
    }
   ],
   "source": [
    "fig, ax = plt.subplots(figsize=(10, 5))\n",
    "ax.bar(df_age_fel.age_group, df_age_fel.total_arrests, color='mediumaquamarine')\n",
    "ax.set_xlabel('Age Group')\n",
    "ax.set_ylabel('Number of Arrests')\n",
    "ax.set_title('Felony Arrests by Age Group')\n",
    "plt.xticks(rotation=0)\n",
    "\n",
    "ax.yaxis.set_major_formatter(\n",
    "ticker.FuncFormatter(lambda y,p: format(int(y), ','))\n",
    ")\n",
    "\n",
    "for i,j in zip(df_age_fel.age_group, df_age_fel.total_arrests):\n",
    "    ax.annotate(format(j, ','), xy=(i,j), va='bottom', ha='center')\n",
    "\n",
    "plt.show()"
   ]
  },
  {
   "cell_type": "markdown",
   "metadata": {},
   "source": [
    "### All Arrests vs. Felony Arrests by Age Group"
   ]
  },
  {
   "cell_type": "code",
   "execution_count": 43,
   "metadata": {},
   "outputs": [
    {
     "data": {
      "image/png": "[encoded data removed]",
      "text/plain": [
       "<Figure size 720x360 with 1 Axes>"
      ]
     },
     "metadata": {
      "needs_background": "light"
     },
     "output_type": "display_data"
    }
   ],
   "source": [
    "fig, ax = plt.subplots(figsize=(10, 5))\n",
    "ax.bar(df_age.age_group, df_age.total_arrests, color='seagreen')\n",
    "ax.bar(df_age_fel.age_group, df_age_fel.total_arrests, color='mediumaquamarine')\n",
    "ax.set_xlabel('Age Group')\n",
    "ax.set_ylabel('Number of Arrests')\n",
    "ax.set_title('Arrests vs. Felony Arrests by Age Group')\n",
    "plt.xticks(rotation=0)\n",
    "plt.legend(['All Arrests', 'Felony Arrests'])\n",
    "\n",
    "ax.yaxis.set_major_formatter(\n",
    "ticker.FuncFormatter(lambda y,p: format(int(y), ','))\n",
    ")\n",
    "\n",
    "for i,j in zip(df_age.age_group, df_age.total_arrests):\n",
    "    ax.annotate(format(j, ','), xy=(i,j), va='bottom', ha='center')\n",
    "\n",
    "for i,j in zip(df_age_fel.age_group, df_age_fel.total_arrests):\n",
    "    ax.annotate(format(j, ','), xy=(i,j), va='bottom', ha='center')\n",
    "\n",
    "plt.show()"
   ]
  },
  {
   "cell_type": "code",
   "execution_count": 44,
   "metadata": {},
   "outputs": [
    {
     "data": {
      "image/png": "[encoded data removed]",
      "text/plain": [
       "<Figure size 720x360 with 1 Axes>"
      ]
     },
     "metadata": {
      "needs_background": "light"
     },
     "output_type": "display_data"
    }
   ],
   "source": [
    "fig, ax = plt.subplots(figsize=(10, 5))\n",
    "ax.bar(df_age.age_group, df_age.total_arrests, color='seagreen', width=0.4, align='edge')\n",
    "ax.bar(df_age_fel.age_group, df_age_fel.total_arrests, color='mediumaquamarine', width=-0.4, align='edge')\n",
    "ax.set_xlabel('Age Group')\n",
    "ax.set_ylabel('Number of Arrests')\n",
    "ax.set_title('Arrests vs. Felony Arrests by Age Group')\n",
    "plt.xticks(rotation=0)\n",
    "plt.legend(['All Arrests', 'Felony Arrests'])\n",
    "\n",
    "ax.yaxis.set_major_formatter(\n",
    "ticker.FuncFormatter(lambda y,p: format(int(y), ','))\n",
    ")\n",
    "\n",
    "for i,j in zip(df_age.age_group, df_age.total_arrests):\n",
    "    ax.annotate(format(j, ','), xy=(i,j), va='bottom', ha='left')\n",
    "\n",
    "for i,j in zip(df_age_fel.age_group, df_age_fel.total_arrests):\n",
    "    ax.annotate(format(j, ','), xy=(i,j), va='bottom', ha='right')\n",
    "\n",
    "plt.show()"
   ]
  },
  {
   "cell_type": "markdown",
   "metadata": {},
   "source": [
    "### All Arrests vs. Felonies vs. Misdemeanors and Age Group"
   ]
  },
  {
   "cell_type": "code",
   "execution_count": 45,
   "metadata": {},
   "outputs": [
    {
     "data": {
      "text/html": [
       "<div>\n",
       "<style scoped>\n",
       "    .dataframe tbody tr th:only-of-type {\n",
       "        vertical-align: middle;\n",
       "    }\n",
       "\n",
       "    .dataframe tbody tr th {\n",
       "        vertical-align: top;\n",
       "    }\n",
       "\n",
       "    .dataframe thead th {\n",
       "        text-align: right;\n",
       "    }\n",
       "</style>\n",
       "<table border=\"1\" class=\"dataframe\">\n",
       "  <thead>\n",
       "    <tr style=\"text-align: right;\">\n",
       "      <th></th>\n",
       "      <th>age_group</th>\n",
       "      <th>total_arrests</th>\n",
       "    </tr>\n",
       "  </thead>\n",
       "  <tbody>\n",
       "    <tr>\n",
       "      <th>0</th>\n",
       "      <td>&lt;18</td>\n",
       "      <td>33979</td>\n",
       "    </tr>\n",
       "    <tr>\n",
       "      <th>1</th>\n",
       "      <td>18-24</td>\n",
       "      <td>106857</td>\n",
       "    </tr>\n",
       "    <tr>\n",
       "      <th>2</th>\n",
       "      <td>25-44</td>\n",
       "      <td>219324</td>\n",
       "    </tr>\n",
       "    <tr>\n",
       "      <th>3</th>\n",
       "      <td>45-64</td>\n",
       "      <td>80647</td>\n",
       "    </tr>\n",
       "    <tr>\n",
       "      <th>4</th>\n",
       "      <td>65+</td>\n",
       "      <td>4211</td>\n",
       "    </tr>\n",
       "  </tbody>\n",
       "</table>\n",
       "</div>"
      ],
      "text/plain": [
       "  age_group  total_arrests\n",
       "0       <18          33979\n",
       "1     18-24         106857\n",
       "2     25-44         219324\n",
       "3     45-64          80647\n",
       "4       65+           4211"
      ]
     },
     "execution_count": 45,
     "metadata": {},
     "output_type": "execute_result"
    }
   ],
   "source": [
    "df_age_F = df[df.law_cat_cd.isin(['F'])]\n",
    "df_age_F = df_age_F.groupby(['age_group'], as_index=False)\n",
    "df_age_F = df_age_F.size()\n",
    "df_age_F = df_age_F.rename(columns={'size':'total_arrests'})\n",
    "df_age_F = df_age_F.iloc[df_age_F['age_group'].ne('<18').argsort()]\n",
    "df_age_F = df_age_F.reset_index(drop=True)\n",
    "df_age_F"
   ]
  },
  {
   "cell_type": "code",
   "execution_count": 46,
   "metadata": {},
   "outputs": [
    {
     "data": {
      "text/html": [
       "<div>\n",
       "<style scoped>\n",
       "    .dataframe tbody tr th:only-of-type {\n",
       "        vertical-align: middle;\n",
       "    }\n",
       "\n",
       "    .dataframe tbody tr th {\n",
       "        vertical-align: top;\n",
       "    }\n",
       "\n",
       "    .dataframe thead th {\n",
       "        text-align: right;\n",
       "    }\n",
       "</style>\n",
       "<table border=\"1\" class=\"dataframe\">\n",
       "  <thead>\n",
       "    <tr style=\"text-align: right;\">\n",
       "      <th></th>\n",
       "      <th>age_group</th>\n",
       "      <th>total_arrests</th>\n",
       "    </tr>\n",
       "  </thead>\n",
       "  <tbody>\n",
       "    <tr>\n",
       "      <th>0</th>\n",
       "      <td>&lt;18</td>\n",
       "      <td>45731</td>\n",
       "    </tr>\n",
       "    <tr>\n",
       "      <th>1</th>\n",
       "      <td>18-24</td>\n",
       "      <td>214544</td>\n",
       "    </tr>\n",
       "    <tr>\n",
       "      <th>2</th>\n",
       "      <td>25-44</td>\n",
       "      <td>447208</td>\n",
       "    </tr>\n",
       "    <tr>\n",
       "      <th>3</th>\n",
       "      <td>45-64</td>\n",
       "      <td>179295</td>\n",
       "    </tr>\n",
       "    <tr>\n",
       "      <th>4</th>\n",
       "      <td>65+</td>\n",
       "      <td>10101</td>\n",
       "    </tr>\n",
       "  </tbody>\n",
       "</table>\n",
       "</div>"
      ],
      "text/plain": [
       "  age_group  total_arrests\n",
       "0       <18          45731\n",
       "1     18-24         214544\n",
       "2     25-44         447208\n",
       "3     45-64         179295\n",
       "4       65+          10101"
      ]
     },
     "execution_count": 46,
     "metadata": {},
     "output_type": "execute_result"
    }
   ],
   "source": [
    "df_age_M = df[df.law_cat_cd.isin(['M'])]\n",
    "df_age_M = df_age_M.groupby(['age_group'], as_index=False)\n",
    "df_age_M = df_age_M.size()\n",
    "df_age_M = df_age_M.rename(columns={'size':'total_arrests'})\n",
    "df_age_M = df_age_M.iloc[df_age_M['age_group'].ne('<18').argsort()]\n",
    "df_age_M = df_age_M.reset_index(drop=True)\n",
    "df_age_M"
   ]
  },
  {
   "cell_type": "code",
   "execution_count": 47,
   "metadata": {},
   "outputs": [
    {
     "data": {
      "image/png": "[encoded data removed]",
      "text/plain": [
       "<Figure size 720x360 with 1 Axes>"
      ]
     },
     "metadata": {
      "needs_background": "light"
     },
     "output_type": "display_data"
    }
   ],
   "source": [
    "fig,ax = plt.subplots(figsize=(10, 5))\n",
    "\n",
    "x_indexes = np.arange(len(df_age.age_group))\n",
    "width = 0.25\n",
    "plt.bar(x_indexes - width, df_age.total_arrests, color='steelblue', width=width)\n",
    "plt.bar(x_indexes, df_age_M.total_arrests, color='tomato', width=width)\n",
    "plt.bar(x_indexes + width, df_age_F.total_arrests, color='mediumaquamarine', width=width)\n",
    "plt.xticks(ticks=x_indexes, labels=df_age.age_group)\n",
    "\n",
    "plt.legend(['All', 'Felony', 'Misdemeanor'], title='Arrest Type')\n",
    "plt.title('Arrest Type by Age Group')\n",
    "\n",
    "ax.yaxis.set_major_formatter(\n",
    "ticker.FuncFormatter(lambda y,p: format(int(y), ','))\n",
    ")\n",
    "\n",
    "plt.show()"
   ]
  },
  {
   "cell_type": "markdown",
   "metadata": {},
   "source": [
    "### Arrest Share by Sex"
   ]
  },
  {
   "cell_type": "code",
   "execution_count": 48,
   "metadata": {},
   "outputs": [
    {
     "data": {
      "text/html": [
       "<div>\n",
       "<style scoped>\n",
       "    .dataframe tbody tr th:only-of-type {\n",
       "        vertical-align: middle;\n",
       "    }\n",
       "\n",
       "    .dataframe tbody tr th {\n",
       "        vertical-align: top;\n",
       "    }\n",
       "\n",
       "    .dataframe thead th {\n",
       "        text-align: right;\n",
       "    }\n",
       "</style>\n",
       "<table border=\"1\" class=\"dataframe\">\n",
       "  <thead>\n",
       "    <tr style=\"text-align: right;\">\n",
       "      <th></th>\n",
       "      <th>perp_sex</th>\n",
       "      <th>total_arrests</th>\n",
       "      <th>prop</th>\n",
       "    </tr>\n",
       "  </thead>\n",
       "  <tbody>\n",
       "    <tr>\n",
       "      <th>0</th>\n",
       "      <td>M</td>\n",
       "      <td>1156285</td>\n",
       "      <td>0.82</td>\n",
       "    </tr>\n",
       "    <tr>\n",
       "      <th>1</th>\n",
       "      <td>F</td>\n",
       "      <td>245664</td>\n",
       "      <td>0.18</td>\n",
       "    </tr>\n",
       "  </tbody>\n",
       "</table>\n",
       "</div>"
      ],
      "text/plain": [
       "  perp_sex  total_arrests  prop\n",
       "0        M        1156285  0.82\n",
       "1        F         245664  0.18"
      ]
     },
     "execution_count": 48,
     "metadata": {},
     "output_type": "execute_result"
    }
   ],
   "source": [
    "df_sex = df.groupby('perp_sex', as_index=False)\n",
    "df_sex = df_sex.size()\n",
    "df_sex = df_sex.sort_values('size', ascending=False)\n",
    "df_sex = df_sex.rename(columns={'size':'total_arrests'})\n",
    "df_sex = df_sex.reset_index(drop=True)\n",
    "df_sex['prop'] = df_sex['total_arrests'].div(df_sex['total_arrests'].sum()).round(2)\n",
    "df_sex"
   ]
  },
  {
   "cell_type": "code",
   "execution_count": 49,
   "metadata": {},
   "outputs": [
    {
     "data": {
      "image/png": "[encoded data removed]",
      "text/plain": [
       "<Figure size 720x360 with 1 Axes>"
      ]
     },
     "metadata": {},
     "output_type": "display_data"
    }
   ],
   "source": [
    "fig,ax = plt.subplots(figsize=(10, 5))\n",
    "\n",
    "ax.pie(df_sex.prop, autopct='%1.1f%%', colors=['steelblue','pink'], startangle=90)\n",
    "ax.legend(\n",
    "    #df_sex.perp_sex,\n",
    "    title = 'Sex',\n",
    "    labels = ['Male', 'Female'],\n",
    "    loc = 'center left',\n",
    "    bbox_to_anchor = (.75,.5,0,0)\n",
    ")\n",
    "ax.set_title('Arrests by Sex')\n",
    "ax.axis('equal')\n",
    "\n",
    "plt.show()"
   ]
  },
  {
   "cell_type": "markdown",
   "metadata": {},
   "source": [
    "### Felony Arrest Share by Sex"
   ]
  },
  {
   "cell_type": "code",
   "execution_count": 50,
   "metadata": {},
   "outputs": [
    {
     "data": {
      "text/html": [
       "<div>\n",
       "<style scoped>\n",
       "    .dataframe tbody tr th:only-of-type {\n",
       "        vertical-align: middle;\n",
       "    }\n",
       "\n",
       "    .dataframe tbody tr th {\n",
       "        vertical-align: top;\n",
       "    }\n",
       "\n",
       "    .dataframe thead th {\n",
       "        text-align: right;\n",
       "    }\n",
       "</style>\n",
       "<table border=\"1\" class=\"dataframe\">\n",
       "  <thead>\n",
       "    <tr style=\"text-align: right;\">\n",
       "      <th></th>\n",
       "      <th>perp_sex</th>\n",
       "      <th>total_arrests</th>\n",
       "      <th>prop</th>\n",
       "    </tr>\n",
       "  </thead>\n",
       "  <tbody>\n",
       "    <tr>\n",
       "      <th>0</th>\n",
       "      <td>M</td>\n",
       "      <td>374577</td>\n",
       "      <td>0.84</td>\n",
       "    </tr>\n",
       "    <tr>\n",
       "      <th>1</th>\n",
       "      <td>F</td>\n",
       "      <td>70441</td>\n",
       "      <td>0.16</td>\n",
       "    </tr>\n",
       "  </tbody>\n",
       "</table>\n",
       "</div>"
      ],
      "text/plain": [
       "  perp_sex  total_arrests  prop\n",
       "0        M         374577  0.84\n",
       "1        F          70441  0.16"
      ]
     },
     "execution_count": 50,
     "metadata": {},
     "output_type": "execute_result"
    }
   ],
   "source": [
    "df_sex_fel = df[df.law_cat_cd.isin(['F'])]\n",
    "df_sex_fel = df_sex_fel.groupby('perp_sex', as_index=False)\n",
    "df_sex_fel = df_sex_fel.size()\n",
    "df_sex_fel = df_sex_fel.sort_values('size', ascending=False)\n",
    "df_sex_fel = df_sex_fel.rename(columns={'size':'total_arrests'})\n",
    "df_sex_fel = df_sex_fel.reset_index(drop=True)\n",
    "df_sex_fel['prop'] = df_sex_fel['total_arrests'].div(df_sex_fel['total_arrests'].sum()).round(2)\n",
    "df_sex_fel"
   ]
  },
  {
   "cell_type": "code",
   "execution_count": 129,
   "metadata": {},
   "outputs": [
    {
     "data": {
      "image/png": "[encoded data removed]",
      "text/plain": [
       "<Figure size 720x360 with 1 Axes>"
      ]
     },
     "metadata": {},
     "output_type": "display_data"
    }
   ],
   "source": [
    "fig,ax = plt.subplots(figsize=(10, 5))\n",
    "\n",
    "ax.pie(df_sex_fel.prop, autopct='%1.1f%%', colors=['steelblue','pink'], startangle=90)\n",
    "ax.legend(\n",
    "    #df_sex_fel.perp_sex,\n",
    "    title = 'Sex',\n",
    "    labels = ['Male', 'Female'],\n",
    "    loc = 'center left',\n",
    "    bbox_to_anchor = (.75,.5,0,0)\n",
    ")\n",
    "ax.set_title('Felony Arrests by Sex')\n",
    "ax.axis('equal')\n",
    "\n",
    "plt.show()"
   ]
  },
  {
   "cell_type": "code",
   "execution_count": 179,
   "metadata": {
    "scrolled": true
   },
   "outputs": [
    {
     "data": {
      "image/png": "[encoded data removed]",
      "text/plain": [
       "<Figure size 720x360 with 1 Axes>"
      ]
     },
     "metadata": {},
     "output_type": "display_data"
    }
   ],
   "source": [
    "fig,ax = plt.subplots(figsize=(10, 5))\n",
    "\n",
    "wedges, texts = ax.pie(\n",
    "    df_sex_fel.prop, \n",
    "    wedgeprops=dict(width=0.5),\n",
    "    #autopct='%1.1f%%',\n",
    "    startangle=90, \n",
    "    colors=['steelblue','pink']\n",
    ")\n",
    "\n",
    "#ax.pie(df_sex_fel.prop, autopct='%1.1f%%', colors=['steelblue','pink'])\n",
    "ax.legend(\n",
    "    #df_sex_fel.perp_sex,\n",
    "    #title = 'Sex',\n",
    "    labels = ['Male', 'Female'],\n",
    "    loc = 'center left',\n",
    "    bbox_to_anchor = (.75,.5,0,0)\n",
    ")\n",
    "\n",
    "bbox_props = dict(boxstyle=\"square,pad=0.3\", fc=\"w\", ec=\"k\", lw=0.72)\n",
    "kw = dict(arrowprops=dict(arrowstyle=\"-\"), bbox=bbox_props, zorder=0, va=\"center\")\n",
    "\n",
    "for i, p in enumerate(wedges):\n",
    "    ang = (p.theta2 - p.theta1)/2. + p.theta1\n",
    "    y = np.sin(np.deg2rad(ang))\n",
    "    x = np.cos(np.deg2rad(ang))\n",
    "    #horizontalalignment = {-1: \"right\", 1: \"left\"}[int(np.sign(x))]\n",
    "    #connectionstyle = \"angle,angleA=0,angleB={}\".format(ang)\n",
    "    #kw[\"arrowprops\"].update({\"connectionstyle\": connectionstyle})\n",
    "    #ax.annotate(df_sex_fel.perp_sex[i], xy=(x, y), xytext=(1.35*np.sign(x), 1.4*y),\n",
    "                #horizontalalignment=horizontalalignment, **kw)\n",
    "    ax.annotate(format(df_sex_fel.prop[i],'1.1%'), xy=(x,y), xytext=(.75*x, 0.75*y))\n",
    "    \n",
    "ax.set_title('Felony Arrests by Sex')\n",
    "ax.axis('equal')\n",
    "\n",
    "plt.show()"
   ]
  },
  {
   "cell_type": "code",
   "execution_count": null,
   "metadata": {},
   "outputs": [],
   "source": []
  },
  {
   "cell_type": "code",
   "execution_count": null,
   "metadata": {},
   "outputs": [],
   "source": []
  }
 ],
 "metadata": {
  "kernelspec": {
   "display_name": "Python 3",
   "language": "python",
   "name": "python3"
  },
  "language_info": {
   "codemirror_mode": {
    "name": "ipython",
    "version": 3
   },
   "file_extension": ".py",
   "mimetype": "text/x-python",
   "name": "python",
   "nbconvert_exporter": "python",
   "pygments_lexer": "ipython3",
   "version": "3.8.5"
  }
 },
 "nbformat": 4,
 "nbformat_minor": 4
}
