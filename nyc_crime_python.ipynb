{
 "cells": [
  {
   "cell_type": "code",
   "execution_count": 1,
   "metadata": {},
   "outputs": [
    {
     "data": {
      "text/plain": [
       "True"
      ]
     },
     "execution_count": 1,
     "metadata": {},
     "output_type": "execute_result"
    }
   ],
   "source": [
    "from sodapy import Socrata\n",
    "import pandas as pd\n",
    "from dotenv import load_dotenv\n",
    "import os\n",
    "from sqlalchemy import create_engine\n",
    "\n",
    "dotenv_local_path = '.env'\n",
    "load_dotenv(dotenv_path=dotenv_local_path, verbose=True)"
   ]
  },
  {
   "cell_type": "markdown",
   "metadata": {},
   "source": [
    "## Socrata API"
   ]
  },
  {
   "cell_type": "code",
   "execution_count": 2,
   "metadata": {},
   "outputs": [],
   "source": [
    "client=Socrata(\n",
    "\"data.cityofnewyork.us\",\n",
    "os.environ.get(\"NYC_token\"),\n",
    "username=os.environ.get(\"NYC_username\"),\n",
    "password=os.environ.get(\"NYC_password\")\n",
    ")"
   ]
  },
  {
   "cell_type": "markdown",
   "metadata": {},
   "source": [
    "## MySQL"
   ]
  },
  {
   "cell_type": "code",
   "execution_count": null,
   "metadata": {},
   "outputs": [],
   "source": [
    "engine = create_engine('mysql+pymysql://' + os.environ.get(\"MYSQL_USER\") + \":\" + os.environ.get(\"MYSQL_PASSWORD\") + '@localhost:3306/nyc_crime')"
   ]
  },
  {
   "cell_type": "code",
   "execution_count": null,
   "metadata": {},
   "outputs": [],
   "source": [
    "#engine.execute(\"DROP TABLE IF EXISTS arrests;\")"
   ]
  },
  {
   "cell_type": "code",
   "execution_count": null,
   "metadata": {},
   "outputs": [],
   "source": [
    "engine.execute(\n",
    "\"\"\"\n",
    "CREATE TABLE IF NOT EXISTS arrests (\n",
    "arrest_key bigint not null primary key,\n",
    "arrest_date date,\n",
    "pd_cd int,\n",
    "pd_desc varchar(50),\n",
    "ky_cd int,\n",
    "ofns_desc varchar(50),\n",
    "law_code varchar(50),\n",
    "law_cat_cd varchar(50),\n",
    "arrest_boro varchar(50),\n",
    "arrest_precinct int,\n",
    "jurisdiction_code int,\n",
    "age_group varchar(50),\n",
    "perp_sex varchar(50),\n",
    "perp_race varchar(50),\n",
    "x_coord_cd varchar(50),\n",
    "y_coord_cd varchar(50),\n",
    "latitude numeric(15,10),\n",
    "longitude numeric(15,10)\n",
    ");\n",
    "\"\"\"\n",
    ")"
   ]
  },
  {
   "cell_type": "code",
   "execution_count": null,
   "metadata": {},
   "outputs": [],
   "source": [
    "start_year=2006\n",
    "end_year=2019\n",
    "\n",
    "for i in range(start_year, end_year+1, 1):\n",
    "    \n",
    "    results = client.get(\"8h9b-rp9u\", where=\"arrest_date between \"+\"'\"+str(i)+\"-01-01'\"+\" and \"+\"'\"+str(i)+\"-12-31'\", limit=10000000)\n",
    "    results_df = pd.DataFrame.from_records(results)\n",
    "    \n",
    "    results_df = results_df.drop('lon_lat',1)\n",
    "\n",
    "    results_df['arrest_key'] = results_df['arrest_key'].str.strip()\n",
    "    results_df = results_df.drop(results_df[results_df['arrest_key'] == 'UNKNOWN'].index)\n",
    "    results_df['arrest_key'] = results_df['arrest_key'].astype(int)\n",
    "    \n",
    "    results_df['arrest_date'] = results_df['arrest_date'].str.strip()\n",
    "    results_df['arrest_date'] = results_df['arrest_date'].astype(str)\n",
    "    results_df['arrest_date'] = results_df['arrest_date'].str.slice(0,10)\n",
    "    \n",
    "    results_df['pd_cd'] = results_df['pd_cd'].str.strip()\n",
    "    results_df['pd_cd'] = results_df['pd_cd'].str.replace('NULL', '0')\n",
    "    results_df['pd_cd'] = results_df['pd_cd'].str.replace('UNKNOWN', '0')\n",
    "    results_df['pd_cd'] = results_df['pd_cd'].fillna('0')\n",
    "    results_df['pd_cd'] = results_df['pd_cd'].astype(float)\n",
    "    results_df['pd_cd'] = results_df['pd_cd'].astype(int)\n",
    "    \n",
    "    results_df['pd_desc'] = results_df['pd_desc'].str.strip()\n",
    "    results_df['pd_desc'] = results_df['pd_desc'].str.replace('NULL', 'UNKNOWN')\n",
    "    results_df['pd_desc'] = results_df['pd_desc'].fillna('UNKNOWN')\n",
    "    \n",
    "    results_df['ky_cd'] = results_df['ky_cd'].str.strip()\n",
    "    results_df['ky_cd'] = results_df['ky_cd'].str.replace('NULL', '0')\n",
    "    results_df['ky_cd'] = results_df['ky_cd'].fillna('0')\n",
    "    results_df['ky_cd'] = results_df['ky_cd'].astype(float)\n",
    "    results_df['ky_cd'] = results_df['ky_cd'].astype(int)  \n",
    "    \n",
    "    results_df['ofns_desc'] = results_df['ofns_desc'].str.strip()\n",
    "    results_df['ofns_desc'] = results_df['ofns_desc'].str.replace('NULL', 'UNKNOWN')\n",
    "    results_df['ofns_desc'] = results_df['ofns_desc'].fillna('UNKNOWN')\n",
    "    \n",
    "    results_df['law_code'] = results_df['law_code'].str.strip()\n",
    "    results_df['law_code'] = results_df['law_code'].str.replace('NULL', 'UNKNOWN')\n",
    "    results_df['law_code'] = results_df['law_code'].fillna('UNKNOWN')\n",
    "    \n",
    "    results_df['law_cat_cd'] = results_df['law_cat_cd'].str.strip()\n",
    "    results_df['law_cat_cd'] = results_df['law_cat_cd'].str.replace('NULL', 'UNKNOWN')\n",
    "    results_df['law_cat_cd'] = results_df['law_cat_cd'].fillna('UNKNOWN')\n",
    "    \n",
    "    results_df['arrest_boro'] = results_df['arrest_boro'].str.strip()\n",
    "    \n",
    "    results_df['arrest_precinct'] = results_df['arrest_precinct'].str.strip()\n",
    "    results_df['arrest_precinct'] = results_df['arrest_precinct'].astype(float)\n",
    "    results_df['arrest_precinct'] = results_df['arrest_precinct'].astype(int)\n",
    "    \n",
    "    results_df['jurisdiction_code'] = results_df['jurisdiction_code'].str.strip()\n",
    "    results_df['jurisdiction_code'] = results_df['jurisdiction_code'].str.replace('NULL', '0')\n",
    "    results_df['jurisdiction_code'] = results_df['jurisdiction_code'].fillna('0')\n",
    "    results_df['jurisdiction_code'] = results_df['jurisdiction_code'].astype(float)\n",
    "    results_df['jurisdiction_code'] = results_df['jurisdiction_code'].astype(int)\n",
    "    \n",
    "    results_df['age_group'] = results_df['age_group'].str.strip()\n",
    "    good_ages = ['<18', '18-24', '25-44', '45-64', '65+']\n",
    "    results_df.loc[~results_df.age_group.isin(good_ages), 'age_group'] = 'UNKNOWN'\n",
    "    \n",
    "    results_df['perp_sex'] = results_df['perp_sex'].str.strip()\n",
    "    results_df['perp_race'] = results_df['perp_race'].str.strip()\n",
    "    \n",
    "    results_df['x_coord_cd'] = results_df['x_coord_cd'].str.strip()\n",
    "    #results_df['x_coord_cd'] = results_df['x_coord_cd'].astype(float)\n",
    "    #results_df['x_coord_cd'] = results_df['x_coord_cd'].astype(int)\n",
    "    \n",
    "    results_df['y_coord_cd'] = results_df['y_coord_cd'].str.strip()\n",
    "    #results_df['y_coord_cd'] = results_df['y_coord_cd'].astype(float)\n",
    "    #results_df['y_coord_cd'] = results_df['y_coord_cd'].astype(int)\n",
    "    \n",
    "    results_df['latitude'] = results_df['latitude'].str.strip()\n",
    "    results_df['latitude'] = results_df['latitude'].astype(float)\n",
    "    \n",
    "    results_df['longitude'] = results_df['longitude'].str.strip()\n",
    "    results_df['longitude'] = results_df['longitude'].astype(float)   \n",
    "    \n",
    "    results_df.to_sql('arrests_temp', con=engine, index=False, if_exists='replace', chunksize=10000)\n",
    "    \n",
    "    engine.execute(\"\"\"\n",
    "    UPDATE arrests \n",
    "    LEFT JOIN arrests_temp \n",
    "    ON arrests.arrest_key = arrests_temp.arrest_key \n",
    "    SET arrests.arrest_key = arrests_temp.arrest_key \n",
    "    WHERE arrests.arrest_key != arrests_temp.arrest_key;\n",
    "    \"\"\")\n",
    "    \n",
    "    engine.execute(\"\"\"\n",
    "    INSERT INTO arrests (arrest_key, arrest_date, pd_cd, pd_desc, ky_cd, ofns_desc, law_code, \n",
    "    law_cat_cd, arrest_boro, arrest_precinct, jurisdiction_code, age_group, perp_sex, perp_race, \n",
    "    x_coord_cd, y_coord_cd, latitude, longitude) \n",
    "    SELECT arrest_key, arrest_date, pd_cd, pd_desc, ky_cd, ofns_desc, law_code, law_cat_cd, \n",
    "    arrest_boro, arrest_precinct, jurisdiction_code, age_group, perp_sex, perp_race, \n",
    "    x_coord_cd, y_coord_cd, latitude, longitude \n",
    "    FROM arrests_temp \n",
    "    WHERE arrest_key NOT IN (SELECT arrest_key FROM arrests);\n",
    "    \"\"\")\n",
    "    \n",
    "    #results_df.to_csv(f\"./raw_data/{i}.csv\", index=False)"
   ]
  }
 ],
 "metadata": {
  "kernelspec": {
   "display_name": "Python 3",
   "language": "python",
   "name": "python3"
  },
  "language_info": {
   "codemirror_mode": {
    "name": "ipython",
    "version": 3
   },
   "file_extension": ".py",
   "mimetype": "text/x-python",
   "name": "python",
   "nbconvert_exporter": "python",
   "pygments_lexer": "ipython3",
   "version": "3.8.5"
  }
 },
 "nbformat": 4,
 "nbformat_minor": 4
}
