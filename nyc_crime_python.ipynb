{
 "cells": [
  {
   "cell_type": "code",
   "execution_count": 31,
   "metadata": {},
   "outputs": [
    {
     "data": {
      "text/plain": [
       "True"
      ]
     },
     "execution_count": 31,
     "metadata": {},
     "output_type": "execute_result"
    }
   ],
   "source": [
    "from sodapy import Socrata\n",
    "import pandas as pd\n",
    "from dotenv import load_dotenv\n",
    "import os\n",
    "from sqlalchemy import create_engine\n",
    "from datetime import datetime\n",
    "\n",
    "dotenv_local_path = '.env'\n",
    "load_dotenv(dotenv_path=dotenv_local_path, verbose=True)"
   ]
  },
  {
   "cell_type": "markdown",
   "metadata": {},
   "source": [
    "## Socrata API"
   ]
  },
  {
   "cell_type": "code",
   "execution_count": 20,
   "metadata": {},
   "outputs": [],
   "source": [
    "client=Socrata(\n",
    "\"data.cityofnewyork.us\",\n",
    "os.environ.get(\"NYC_token\"),\n",
    "username=os.environ.get(\"NYC_username\"),\n",
    "password=os.environ.get(\"NYC_password\")\n",
    ")"
   ]
  },
  {
   "cell_type": "markdown",
   "metadata": {},
   "source": [
    "## MySQL"
   ]
  },
  {
   "cell_type": "code",
   "execution_count": 2,
   "metadata": {},
   "outputs": [],
   "source": [
    "engine = create_engine('mysql+pymysql://' + os.environ.get(\"MYSQL_USER\") + \":\" + os.environ.get(\"MYSQL_PASSWORD\") + '@localhost:3306/nyc_crime')"
   ]
  },
  {
   "cell_type": "code",
   "execution_count": 22,
   "metadata": {},
   "outputs": [
    {
     "data": {
      "text/plain": [
       "<sqlalchemy.engine.result.ResultProxy at 0x7fbcc84bcb20>"
      ]
     },
     "execution_count": 22,
     "metadata": {},
     "output_type": "execute_result"
    }
   ],
   "source": [
    "#engine.execute(\"DROP TABLE IF EXISTS arrests;\")"
   ]
  },
  {
   "cell_type": "code",
   "execution_count": 23,
   "metadata": {},
   "outputs": [
    {
     "data": {
      "text/plain": [
       "<sqlalchemy.engine.result.ResultProxy at 0x7fbcf8213040>"
      ]
     },
     "execution_count": 23,
     "metadata": {},
     "output_type": "execute_result"
    }
   ],
   "source": [
    "engine.execute(\n",
    "\"\"\"\n",
    "CREATE TABLE IF NOT EXISTS arrests (\n",
    "arrest_key bigint not null primary key,\n",
    "arrest_date date,\n",
    "pd_cd int,\n",
    "pd_desc varchar(250),\n",
    "ky_cd int,\n",
    "ofns_desc varchar(250),\n",
    "law_code varchar(250),\n",
    "law_cat_cd varchar(250),\n",
    "arrest_boro varchar(250),\n",
    "arrest_precinct int,\n",
    "jurisdiction_code int,\n",
    "age_group varchar(250),\n",
    "perp_sex varchar(250),\n",
    "perp_race varchar(250),\n",
    "x_coord_cd varchar(250),\n",
    "y_coord_cd varchar(250),\n",
    "latitude numeric(15,10),\n",
    "longitude numeric(15,10)\n",
    ");\n",
    "\"\"\"\n",
    ")"
   ]
  },
  {
   "cell_type": "code",
   "execution_count": 24,
   "metadata": {},
   "outputs": [],
   "source": [
    "#start_year=2006\n",
    "#end_year=2019\n",
    "\n",
    "for i in range(start_year, end_year+1, 1):\n",
    "    \n",
    "    results = client.get(\"8h9b-rp9u\", where=\"arrest_date between \"+\"'\"+str(i)+\"-01-01'\"+\" and \"+\"'\"+str(i)+\"-12-31'\", limit=10000000)\n",
    "    results_df = pd.DataFrame.from_records(results)\n",
    "    \n",
    "    results_df = results_df.drop('lon_lat',1)\n",
    "\n",
    "    results_df['arrest_key'] = results_df['arrest_key'].str.strip()\n",
    "    results_df = results_df.drop(results_df[results_df['arrest_key'] == 'UNKNOWN'].index)\n",
    "    results_df['arrest_key'] = results_df['arrest_key'].astype(int)\n",
    "    \n",
    "    results_df['arrest_date'] = results_df['arrest_date'].str.strip()\n",
    "    results_df['arrest_date'] = results_df['arrest_date'].astype(str)\n",
    "    results_df['arrest_date'] = results_df['arrest_date'].str.slice(0,10)\n",
    "    \n",
    "    results_df['pd_cd'] = results_df['pd_cd'].str.strip()\n",
    "    results_df['pd_cd'] = results_df['pd_cd'].str.replace('NULL', '0')\n",
    "    results_df['pd_cd'] = results_df['pd_cd'].str.replace('UNKNOWN', '0')\n",
    "    results_df['pd_cd'] = results_df['pd_cd'].fillna('0')\n",
    "    results_df['pd_cd'] = results_df['pd_cd'].astype(float)\n",
    "    results_df['pd_cd'] = results_df['pd_cd'].astype(int)\n",
    "    \n",
    "    results_df['pd_desc'] = results_df['pd_desc'].str.strip()\n",
    "    results_df['pd_desc'] = results_df['pd_desc'].str.replace('NULL', 'UNKNOWN')\n",
    "    results_df['pd_desc'] = results_df['pd_desc'].fillna('UNKNOWN')\n",
    "    \n",
    "    results_df['ky_cd'] = results_df['ky_cd'].str.strip()\n",
    "    results_df['ky_cd'] = results_df['ky_cd'].str.replace('NULL', '0')\n",
    "    results_df['ky_cd'] = results_df['ky_cd'].fillna('0')\n",
    "    results_df['ky_cd'] = results_df['ky_cd'].astype(float)\n",
    "    results_df['ky_cd'] = results_df['ky_cd'].astype(int)  \n",
    "    \n",
    "    results_df['ofns_desc'] = results_df['ofns_desc'].str.strip()\n",
    "    results_df['ofns_desc'] = results_df['ofns_desc'].str.replace('NULL', 'UNKNOWN')\n",
    "    results_df['ofns_desc'] = results_df['ofns_desc'].fillna('UNKNOWN')\n",
    "    \n",
    "    results_df['law_code'] = results_df['law_code'].str.strip()\n",
    "    results_df['law_code'] = results_df['law_code'].str.replace('NULL', 'UNKNOWN')\n",
    "    results_df['law_code'] = results_df['law_code'].fillna('UNKNOWN')\n",
    "    \n",
    "    results_df['law_cat_cd'] = results_df['law_cat_cd'].str.strip()\n",
    "    results_df['law_cat_cd'] = results_df['law_cat_cd'].str.replace('NULL', 'UNKNOWN')\n",
    "    results_df['law_cat_cd'] = results_df['law_cat_cd'].fillna('UNKNOWN')\n",
    "    \n",
    "    results_df['arrest_boro'] = results_df['arrest_boro'].str.strip()\n",
    "    \n",
    "    results_df['arrest_precinct'] = results_df['arrest_precinct'].str.strip()\n",
    "    results_df['arrest_precinct'] = results_df['arrest_precinct'].astype(float)\n",
    "    results_df['arrest_precinct'] = results_df['arrest_precinct'].astype(int)\n",
    "    \n",
    "    results_df['jurisdiction_code'] = results_df['jurisdiction_code'].str.strip()\n",
    "    results_df['jurisdiction_code'] = results_df['jurisdiction_code'].str.replace('NULL', '0')\n",
    "    results_df['jurisdiction_code'] = results_df['jurisdiction_code'].fillna('0')\n",
    "    results_df['jurisdiction_code'] = results_df['jurisdiction_code'].astype(float)\n",
    "    results_df['jurisdiction_code'] = results_df['jurisdiction_code'].astype(int)\n",
    "    \n",
    "    results_df['age_group'] = results_df['age_group'].str.strip()\n",
    "    good_ages = ['<18', '18-24', '25-44', '45-64', '65+']\n",
    "    results_df.loc[~results_df.age_group.isin(good_ages), 'age_group'] = 'UNKNOWN'\n",
    "    \n",
    "    results_df['perp_sex'] = results_df['perp_sex'].str.strip()\n",
    "    results_df['perp_race'] = results_df['perp_race'].str.strip()\n",
    "    \n",
    "    results_df['x_coord_cd'] = results_df['x_coord_cd'].str.strip()\n",
    "    #results_df['x_coord_cd'] = results_df['x_coord_cd'].astype(float)\n",
    "    #results_df['x_coord_cd'] = results_df['x_coord_cd'].astype(int)\n",
    "    \n",
    "    results_df['y_coord_cd'] = results_df['y_coord_cd'].str.strip()\n",
    "    #results_df['y_coord_cd'] = results_df['y_coord_cd'].astype(float)\n",
    "    #results_df['y_coord_cd'] = results_df['y_coord_cd'].astype(int)\n",
    "    \n",
    "    results_df['latitude'] = results_df['latitude'].str.strip()\n",
    "    results_df['latitude'] = results_df['latitude'].astype(float)\n",
    "    \n",
    "    results_df['longitude'] = results_df['longitude'].str.strip()\n",
    "    results_df['longitude'] = results_df['longitude'].astype(float)   \n",
    "    \n",
    "    results_df.to_sql('arrests_temp', con=engine, index=False, if_exists='replace', chunksize=10000)\n",
    "    \n",
    "    engine.execute(\"\"\"\n",
    "    UPDATE arrests \n",
    "    LEFT JOIN arrests_temp \n",
    "    ON arrests.arrest_key = arrests_temp.arrest_key \n",
    "    SET arrests.arrest_key = arrests_temp.arrest_key \n",
    "    WHERE arrests.arrest_key != arrests_temp.arrest_key;\n",
    "    \"\"\")\n",
    "    \n",
    "    engine.execute(\"\"\"\n",
    "    INSERT INTO arrests (arrest_key, arrest_date, pd_cd, pd_desc, ky_cd, ofns_desc, law_code, \n",
    "    law_cat_cd, arrest_boro, arrest_precinct, jurisdiction_code, age_group, perp_sex, perp_race, \n",
    "    x_coord_cd, y_coord_cd, latitude, longitude) \n",
    "    SELECT arrest_key, arrest_date, pd_cd, pd_desc, ky_cd, ofns_desc, law_code, law_cat_cd, \n",
    "    arrest_boro, arrest_precinct, jurisdiction_code, age_group, perp_sex, perp_race, \n",
    "    x_coord_cd, y_coord_cd, latitude, longitude \n",
    "    FROM arrests_temp \n",
    "    WHERE arrest_key NOT IN (SELECT arrest_key FROM arrests);\n",
    "    \"\"\")\n",
    "    \n",
    "    results_df.to_csv(f\"./raw_data/{i}.csv\", index=False)"
   ]
  },
  {
   "cell_type": "markdown",
   "metadata": {},
   "source": [
    "# Data Analysis & Visualization in Python"
   ]
  },
  {
   "cell_type": "code",
   "execution_count": 17,
   "metadata": {},
   "outputs": [],
   "source": [
    "# Read data from MySQL\n",
    "#df_main = pd.read_sql(\"SELECT * FROM arrests\", con=engine, parse_dates=[\"arrest_date\"])"
   ]
  },
  {
   "cell_type": "code",
   "execution_count": 18,
   "metadata": {},
   "outputs": [
    {
     "data": {
      "text/html": [
       "<div>\n",
       "<style scoped>\n",
       "    .dataframe tbody tr th:only-of-type {\n",
       "        vertical-align: middle;\n",
       "    }\n",
       "\n",
       "    .dataframe tbody tr th {\n",
       "        vertical-align: top;\n",
       "    }\n",
       "\n",
       "    .dataframe thead th {\n",
       "        text-align: right;\n",
       "    }\n",
       "</style>\n",
       "<table border=\"1\" class=\"dataframe\">\n",
       "  <thead>\n",
       "    <tr style=\"text-align: right;\">\n",
       "      <th></th>\n",
       "      <th>arrest_key</th>\n",
       "      <th>arrest_date</th>\n",
       "      <th>pd_cd</th>\n",
       "      <th>pd_desc</th>\n",
       "      <th>ky_cd</th>\n",
       "      <th>ofns_desc</th>\n",
       "      <th>law_code</th>\n",
       "      <th>law_cat_cd</th>\n",
       "      <th>arrest_boro</th>\n",
       "      <th>arrest_precinct</th>\n",
       "      <th>jurisdiction_code</th>\n",
       "      <th>age_group</th>\n",
       "      <th>perp_sex</th>\n",
       "      <th>perp_race</th>\n",
       "      <th>x_coord_cd</th>\n",
       "      <th>y_coord_cd</th>\n",
       "      <th>latitude</th>\n",
       "      <th>longitude</th>\n",
       "    </tr>\n",
       "  </thead>\n",
       "  <tbody>\n",
       "    <tr>\n",
       "      <th>0</th>\n",
       "      <td>9926901</td>\n",
       "      <td>2006-01-01</td>\n",
       "      <td>511</td>\n",
       "      <td>CONTROLLED SUBSTANCE, POSSESSION 7</td>\n",
       "      <td>235</td>\n",
       "      <td>DANGEROUS DRUGS</td>\n",
       "      <td>PL 2200300</td>\n",
       "      <td>M</td>\n",
       "      <td>K</td>\n",
       "      <td>60</td>\n",
       "      <td>2</td>\n",
       "      <td>&lt;18</td>\n",
       "      <td>M</td>\n",
       "      <td>WHITE HISPANIC</td>\n",
       "      <td>983461.0</td>\n",
       "      <td>148710.0</td>\n",
       "      <td>40.574859</td>\n",
       "      <td>-74.002842</td>\n",
       "    </tr>\n",
       "    <tr>\n",
       "      <th>1</th>\n",
       "      <td>9926902</td>\n",
       "      <td>2006-01-01</td>\n",
       "      <td>793</td>\n",
       "      <td>WEAPONS POSSESSION 3</td>\n",
       "      <td>118</td>\n",
       "      <td>DANGEROUS WEAPONS</td>\n",
       "      <td>PL 2650203</td>\n",
       "      <td>F</td>\n",
       "      <td>K</td>\n",
       "      <td>77</td>\n",
       "      <td>0</td>\n",
       "      <td>25-44</td>\n",
       "      <td>M</td>\n",
       "      <td>BLACK</td>\n",
       "      <td>1000389.0</td>\n",
       "      <td>184624.0</td>\n",
       "      <td>40.673420</td>\n",
       "      <td>-73.941820</td>\n",
       "    </tr>\n",
       "    <tr>\n",
       "      <th>2</th>\n",
       "      <td>9926903</td>\n",
       "      <td>2006-01-01</td>\n",
       "      <td>793</td>\n",
       "      <td>WEAPONS POSSESSION 3</td>\n",
       "      <td>118</td>\n",
       "      <td>DANGEROUS WEAPONS</td>\n",
       "      <td>PL 2650204</td>\n",
       "      <td>F</td>\n",
       "      <td>K</td>\n",
       "      <td>75</td>\n",
       "      <td>2</td>\n",
       "      <td>25-44</td>\n",
       "      <td>M</td>\n",
       "      <td>BLACK</td>\n",
       "      <td>1016133.0</td>\n",
       "      <td>178623.0</td>\n",
       "      <td>40.656906</td>\n",
       "      <td>-73.885091</td>\n",
       "    </tr>\n",
       "    <tr>\n",
       "      <th>3</th>\n",
       "      <td>9926904</td>\n",
       "      <td>2006-01-01</td>\n",
       "      <td>567</td>\n",
       "      <td>MARIJUANA, POSSESSION 4 &amp; 5</td>\n",
       "      <td>235</td>\n",
       "      <td>DANGEROUS DRUGS</td>\n",
       "      <td>PL 2211001</td>\n",
       "      <td>M</td>\n",
       "      <td>K</td>\n",
       "      <td>71</td>\n",
       "      <td>0</td>\n",
       "      <td>18-24</td>\n",
       "      <td>M</td>\n",
       "      <td>BLACK</td>\n",
       "      <td>995164.0</td>\n",
       "      <td>180080.0</td>\n",
       "      <td>40.660956</td>\n",
       "      <td>-73.960664</td>\n",
       "    </tr>\n",
       "    <tr>\n",
       "      <th>4</th>\n",
       "      <td>9926993</td>\n",
       "      <td>2006-01-01</td>\n",
       "      <td>511</td>\n",
       "      <td>CONTROLLED SUBSTANCE, POSSESSION 7</td>\n",
       "      <td>235</td>\n",
       "      <td>DANGEROUS DRUGS</td>\n",
       "      <td>PL 2200300</td>\n",
       "      <td>M</td>\n",
       "      <td>M</td>\n",
       "      <td>7</td>\n",
       "      <td>0</td>\n",
       "      <td>25-44</td>\n",
       "      <td>M</td>\n",
       "      <td>WHITE</td>\n",
       "      <td>987536.0</td>\n",
       "      <td>202083.0</td>\n",
       "      <td>40.721355</td>\n",
       "      <td>-73.988147</td>\n",
       "    </tr>\n",
       "  </tbody>\n",
       "</table>\n",
       "</div>"
      ],
      "text/plain": [
       "   arrest_key arrest_date  pd_cd                             pd_desc  ky_cd  \\\n",
       "0     9926901  2006-01-01    511  CONTROLLED SUBSTANCE, POSSESSION 7    235   \n",
       "1     9926902  2006-01-01    793                WEAPONS POSSESSION 3    118   \n",
       "2     9926903  2006-01-01    793                WEAPONS POSSESSION 3    118   \n",
       "3     9926904  2006-01-01    567         MARIJUANA, POSSESSION 4 & 5    235   \n",
       "4     9926993  2006-01-01    511  CONTROLLED SUBSTANCE, POSSESSION 7    235   \n",
       "\n",
       "           ofns_desc    law_code law_cat_cd arrest_boro  arrest_precinct  \\\n",
       "0    DANGEROUS DRUGS  PL 2200300          M           K               60   \n",
       "1  DANGEROUS WEAPONS  PL 2650203          F           K               77   \n",
       "2  DANGEROUS WEAPONS  PL 2650204          F           K               75   \n",
       "3    DANGEROUS DRUGS  PL 2211001          M           K               71   \n",
       "4    DANGEROUS DRUGS  PL 2200300          M           M                7   \n",
       "\n",
       "   jurisdiction_code age_group perp_sex       perp_race x_coord_cd y_coord_cd  \\\n",
       "0                  2       <18        M  WHITE HISPANIC   983461.0   148710.0   \n",
       "1                  0     25-44        M           BLACK  1000389.0   184624.0   \n",
       "2                  2     25-44        M           BLACK  1016133.0   178623.0   \n",
       "3                  0     18-24        M           BLACK   995164.0   180080.0   \n",
       "4                  0     25-44        M           WHITE   987536.0   202083.0   \n",
       "\n",
       "    latitude  longitude  \n",
       "0  40.574859 -74.002842  \n",
       "1  40.673420 -73.941820  \n",
       "2  40.656906 -73.885091  \n",
       "3  40.660956 -73.960664  \n",
       "4  40.721355 -73.988147  "
      ]
     },
     "execution_count": 18,
     "metadata": {},
     "output_type": "execute_result"
    }
   ],
   "source": [
    "# View first 5 frows\n",
    "df_main.head()"
   ]
  },
  {
   "cell_type": "code",
   "execution_count": 19,
   "metadata": {},
   "outputs": [
    {
     "data": {
      "text/plain": [
       "(5012956, 18)"
      ]
     },
     "execution_count": 19,
     "metadata": {},
     "output_type": "execute_result"
    }
   ],
   "source": [
    "# Rows and columns\n",
    "df_main.shape"
   ]
  },
  {
   "cell_type": "code",
   "execution_count": 20,
   "metadata": {},
   "outputs": [],
   "source": [
    "# Make copy of df_main so we can leave df_main intact\n",
    "df = df_main.copy()"
   ]
  },
  {
   "cell_type": "code",
   "execution_count": 25,
   "metadata": {},
   "outputs": [],
   "source": [
    "# Drop the rows where at least one element is missing.\n",
    "df = df.dropna()"
   ]
  },
  {
   "cell_type": "code",
   "execution_count": null,
   "metadata": {},
   "outputs": [],
   "source": [
    "# Drop unnecessary columns\n",
    "df = df.drop(['pd_cd', 'ky_cd', 'law_code', 'jurisdiction_code'], axis=1)"
   ]
  },
  {
   "cell_type": "code",
   "execution_count": 26,
   "metadata": {},
   "outputs": [
    {
     "data": {
      "text/plain": [
       "(5012947, 14)"
      ]
     },
     "execution_count": 26,
     "metadata": {},
     "output_type": "execute_result"
    }
   ],
   "source": [
    "# Rows and columns\n",
    "df.shape"
   ]
  },
  {
   "cell_type": "code",
   "execution_count": 45,
   "metadata": {},
   "outputs": [
    {
     "name": "stderr",
     "output_type": "stream",
     "text": [
      "<ipython-input-45-ce72310c2434>:2: SettingWithCopyWarning: \n",
      "A value is trying to be set on a copy of a slice from a DataFrame.\n",
      "Try using .loc[row_indexer,col_indexer] = value instead\n",
      "\n",
      "See the caveats in the documentation: https://pandas.pydata.org/pandas-docs/stable/user_guide/indexing.html#returning-a-view-versus-a-copy\n",
      "  df['arrest_year'] = df['arrest_date'].dt.year\n",
      "<ipython-input-45-ce72310c2434>:3: SettingWithCopyWarning: \n",
      "A value is trying to be set on a copy of a slice from a DataFrame.\n",
      "Try using .loc[row_indexer,col_indexer] = value instead\n",
      "\n",
      "See the caveats in the documentation: https://pandas.pydata.org/pandas-docs/stable/user_guide/indexing.html#returning-a-view-versus-a-copy\n",
      "  df['arrest_month'] = df['arrest_date'].dt.month\n",
      "<ipython-input-45-ce72310c2434>:4: SettingWithCopyWarning: \n",
      "A value is trying to be set on a copy of a slice from a DataFrame.\n",
      "Try using .loc[row_indexer,col_indexer] = value instead\n",
      "\n",
      "See the caveats in the documentation: https://pandas.pydata.org/pandas-docs/stable/user_guide/indexing.html#returning-a-view-versus-a-copy\n",
      "  df['arrest_day'] = df['arrest_date'].dt.day\n",
      "<ipython-input-45-ce72310c2434>:5: SettingWithCopyWarning: \n",
      "A value is trying to be set on a copy of a slice from a DataFrame.\n",
      "Try using .loc[row_indexer,col_indexer] = value instead\n",
      "\n",
      "See the caveats in the documentation: https://pandas.pydata.org/pandas-docs/stable/user_guide/indexing.html#returning-a-view-versus-a-copy\n",
      "  df['arrest_day_index'] = df['arrest_date'].dt.dayofweek\n",
      "<ipython-input-45-ce72310c2434>:6: SettingWithCopyWarning: \n",
      "A value is trying to be set on a copy of a slice from a DataFrame.\n",
      "Try using .loc[row_indexer,col_indexer] = value instead\n",
      "\n",
      "See the caveats in the documentation: https://pandas.pydata.org/pandas-docs/stable/user_guide/indexing.html#returning-a-view-versus-a-copy\n",
      "  df['arrest_day_name'] = df['arrest_date'].dt.day_name()\n"
     ]
    }
   ],
   "source": [
    "# Create columns for year, month, date\n",
    "df['arrest_year'] = df['arrest_date'].dt.year\n",
    "df['arrest_month'] = df['arrest_date'].dt.month\n",
    "df['arrest_day'] = df['arrest_date'].dt.day\n",
    "df['arrest_day_index'] = df['arrest_date'].dt.dayofweek\n",
    "df['arrest_day_name'] = df['arrest_date'].dt.day_name()"
   ]
  },
  {
   "cell_type": "code",
   "execution_count": 37,
   "metadata": {
    "scrolled": true
   },
   "outputs": [
    {
     "data": {
      "text/plain": [
       "array(['DANGEROUS DRUGS', 'DANGEROUS WEAPONS', 'OTHER STATE LAWS',\n",
       "       'OTHER TRAFFIC INFRACTION', 'CRIMINAL TRESPASS',\n",
       "       'OFFENSES AGAINST THE PERSON', 'FELONY ASSAULT',\n",
       "       'OFFENSES AGAINST PUBLIC ADMINISTRATION',\n",
       "       'ASSAULT 3 & RELATED OFFENSES',\n",
       "       'CRIMINAL MISCHIEF & RELATED OFFENSES',\n",
       "       'OTHER OFFENSES RELATED TO THEFT', 'ROBBERY',\n",
       "       'VEHICLE AND TRAFFIC LAWS', 'INTOXICATED/IMPAIRED DRIVING',\n",
       "       'INTOXICATED & IMPAIRED DRIVING', 'GRAND LARCENY',\n",
       "       'GRAND LARCENY OF MOTOR VEHICLE', 'MISCELLANEOUS PENAL LAW',\n",
       "       'DISORDERLY CONDUCT', 'MOVING INFRACTIONS',\n",
       "       'OFF. AGNST PUB ORD SENSBLTY & RGHTS TO PRIV',\n",
       "       'POSSESSION OF STOLEN PROPERTY 5', 'OFFENSES INVOLVING FRAUD',\n",
       "       'BURGLARY', 'ESCAPE 3', 'SEX CRIMES',\n",
       "       'POSSESSION OF STOLEN PROPERTY', 'FORGERY',\n",
       "       'OFFENSES RELATED TO CHILDREN', 'FORCIBLE TOUCHING',\n",
       "       'OTHER STATE LAWS (NON PENAL LAW)', 'PETIT LARCENY',\n",
       "       'F.C.A. P.I.N.O.S.', 'GAMBLING', 'MURDER & NON-NEGL. MANSLAUGHTER',\n",
       "       \"BURGLAR'S TOOLS\", 'RAPE', 'PROSTITUTION & RELATED OFFENSES',\n",
       "       'CHILD ABANDONMENT/NON SUPPORT 1', 'FRAUDS',\n",
       "       'UNAUTHORIZED USE OF A VEHICLE 3 (UUV)', 'THEFT-FRAUD', 'ARSON',\n",
       "       'KIDNAPPING & RELATED OFFENSES', 'ALCOHOLIC BEVERAGE CONTROL LAW',\n",
       "       'OFFENSES AGAINST PUBLIC SAFETY', 'FRAUDULENT ACCOSTING',\n",
       "       'LOITERING FOR DRUG PURPOSES',\n",
       "       'LOITERING/GAMBLING (CARDS, DICE, ETC)', 'HARRASSMENT 2',\n",
       "       'HOMICIDE-NEGLIGENT-VEHICLE', 'ANTICIPATORY OFFENSES', 'UNKNOWN',\n",
       "       'ADMINISTRATIVE CODE', 'UNLAWFUL POSS. WEAP. ON SCHOOL GROUNDS',\n",
       "       'LOITERING', 'PARKING OFFENSES', 'HOMICIDE-NEGLIGENT,UNCLASSIFIED',\n",
       "       'HARASSMENT', 'JOSTLING', 'DISRUPTION OF A RELIGIOUS SERVICE',\n",
       "       'UNDER THE INFLUENCE, DRUGS', 'ABORTION', 'FORTUNE TELLING',\n",
       "       'OFFENSES AGAINST MARRIAGE UNCLASSIFIED', 'LOITERING,BEGGING',\n",
       "       'OTHER STATE LAWS (NON PENAL LA', 'CRIMINAL MISCHIEF & RELATED OF',\n",
       "       'CHILD ABANDONMENT/NON SUPPORT', 'OFF. AGNST PUB ORD SENSBLTY &',\n",
       "       'ENDAN WELFARE INCOMP', 'NEW YORK CITY HEALTH CODE',\n",
       "       'ADMINISTRATIVE CODES', 'MURDER & NON-NEGL. MANSLAUGHTE',\n",
       "       'OFFENSES AGAINST PUBLIC ADMINI', 'NYS LAWS-UNCLASSIFIED FELONY',\n",
       "       'OTHER OFFENSES RELATED TO THEF', 'UNAUTHORIZED USE OF A VEHICLE',\n",
       "       'FOR OTHER AUTHORITIES', 'THEFT OF SERVICES',\n",
       "       'AGRICULTURE & MRKTS LAW-UNCLASSIFIED',\n",
       "       'HOMICIDE-NEGLIGENT,UNCLASSIFIE', 'KIDNAPPING',\n",
       "       'UNLAWFUL POSS. WEAP. ON SCHOOL', 'DISRUPTION OF A RELIGIOUS SERV',\n",
       "       'LOITERING/GAMBLING (CARDS, DIC',\n",
       "       'NYS LAWS-UNCLASSIFIED VIOLATION'], dtype=object)"
      ]
     },
     "execution_count": 37,
     "metadata": {},
     "output_type": "execute_result"
    }
   ],
   "source": [
    "# See unique ofns_desc\n",
    "df['ofns_desc'].unique()"
   ]
  },
  {
   "cell_type": "code",
   "execution_count": 38,
   "metadata": {},
   "outputs": [
    {
     "data": {
      "text/plain": [
       "87"
      ]
     },
     "execution_count": 38,
     "metadata": {},
     "output_type": "execute_result"
    }
   ],
   "source": [
    "# There are 87 distinct values\n",
    "len(df['ofns_desc'].unique())"
   ]
  },
  {
   "cell_type": "code",
   "execution_count": 40,
   "metadata": {},
   "outputs": [
    {
     "data": {
      "text/plain": [
       "DANGEROUS DRUGS                           1077445\n",
       "ASSAULT 3 & RELATED OFFENSES               491876\n",
       "OTHER OFFENSES RELATED TO THEFT            304190\n",
       "OTHER STATE LAWS                           241244\n",
       "PETIT LARCENY                              209987\n",
       "                                           ...   \n",
       "DISRUPTION OF A RELIGIOUS SERV                  6\n",
       "NYS LAWS-UNCLASSIFIED VIOLATION                 2\n",
       "UNLAWFUL POSS. WEAP. ON SCHOOL                  1\n",
       "OFFENSES AGAINST MARRIAGE UNCLASSIFIED          1\n",
       "LOITERING,BEGGING                               1\n",
       "Name: ofns_desc, Length: 87, dtype: int64"
      ]
     },
     "execution_count": 40,
     "metadata": {},
     "output_type": "execute_result"
    }
   ],
   "source": [
    "# Show number of records for each ofns_desc\n",
    "df['ofns_desc'].value_counts()"
   ]
  },
  {
   "cell_type": "code",
   "execution_count": 108,
   "metadata": {},
   "outputs": [],
   "source": [
    "# Create simpler categories for easier analysis\n",
    "THEFT = [\"BURGLARY\",\"PETIT LARCENY\",\"OFFENSES INVOLVING FRAUD\",\"THEFT OF SERVICES\",\"POSSESSION OF STOLEN PROPERTY 5\",\"THEFT-FRAUD\",\n",
    "          \"OTHER OFFENSES RELATED TO THEF\",\"FRAUDULENT ACCOSTING\",\"ROBBERY\",\"GRAND LARCENY OF MOTOR VEHICLE\",\n",
    "          \"POSSESSION OF STOLEN PROPERTY\",\"GRAND LARCENY\",\"FORGERY\",\"BURGLAR'S TOOLS\",\"FRAUDS\",\"OTHER OFFENSES RELATED TO THEFT\",\n",
    "          \"JOSTLING\",\"CRIMINAL TRESPASS\"]\n",
    "df.loc[df.ofns_desc.isin(THEFT), 'category'] = \"THEFT\"\n",
    "\n",
    "# DRUGS\n",
    "DRUGS = [\"DANGEROUS DRUGS\",\"LOITERING FOR DRUG PURPOSES\",\"UNDER THE INFLUENCE, DRUGS\"]\n",
    "df.loc[df.ofns_desc.isin(DRUGS), 'category'] = \"DRUGS\"\n",
    "\n",
    "# WEAPONS\n",
    "WEAPONS = [\"DANGEROUS WEAPONS\",\"UNLAWFUL POSS. WEAP. ON SCHOOL\",\"UNLAWFUL POSS. WEAP. ON SCHOOL GROUNDS\"]\n",
    "df.loc[df.ofns_desc.isin(WEAPONS), 'category'] = \"WEAPONS\"\n",
    "\n",
    "# ASSAULT\n",
    "ASSAULT = [\"FELONY ASSAULT\",\"ASSAULT 3 & RELATED OFFENSES\"]\n",
    "df.loc[df.ofns_desc.isin(ASSAULT), 'category'] = \"ASSAULT\"\n",
    "\n",
    "# SEXUAL_ASSAULT\n",
    "SEXUAL_ASSAULT = [\"RAPE\",\"SEX CRIMES\",\"FORCIBLE TOUCHING\"]\n",
    "df.loc[df.ofns_desc.isin(SEXUAL_ASSAULT), 'category'] = \"SEXUAL ASSAULT\"\n",
    "\n",
    "# TRAFFIC\n",
    "TRAFFIC = [\"INTOXICATED & IMPAIRED DRIVING\",\"VEHICLE AND TRAFFIC LAWS\",\"MOVING INFRACTIONS\",\"PARKING OFFENSES\",\n",
    "            \"INTOXICATED/IMPAIRED DRIVING\",\"OTHER TRAFFIC INFRACTION\", \"UNAUTHORIZED USE OF A VEHICLE 3 (UUV)\",\n",
    "            \"UNAUTHORIZED USE OF A VEHICLE\"]\n",
    "df.loc[df.ofns_desc.isin(TRAFFIC), 'category'] = \"TRAFFIC\"\n",
    "\n",
    "# MURDER\n",
    "MURDER = [\"MURDER & NON-NEGL. MANSLAUGHTE\", \"MURDER & NON-NEGL. MANSLAUGHTER\", \"HOMICIDE-NEGLIGENT,UNCLASSIFIED\", \n",
    "           \"HOMICIDE-NEGLIGENT-VEHICLE\",\"HOMICIDE-NEGLIGENT,UNCLASSIFIE\"]\n",
    "df.loc[df.ofns_desc.isin(MURDER), 'category'] = \"MURDER\"\n",
    "\n",
    "# CHILDREN\n",
    "CHILDREN = [\"KIDNAPPING\", \"CHILD ABANDONMENT/NON SUPPORT 1\", \"KIDNAPPING & RELATED OFFENSES\", \"OFFENSES RELATED TO CHILDREN\",\n",
    "             \"CHILD ABANDONMENT/NON SUPPORT\"]\n",
    "df.loc[df.ofns_desc.isin(CHILDREN), 'category'] = \"CHILDREN\"\n",
    "\n",
    "# OTHER\n",
    "ALL_CAT = THEFT + DRUGS + WEAPONS + ASSAULT + SEXUAL_ASSAULT + MURDER + CHILDREN + TRAFFIC\n",
    "df.loc[~df.ofns_desc.isin(ALL_CAT), 'category'] = \"OTHER\""
   ]
  },
  {
   "cell_type": "code",
   "execution_count": 113,
   "metadata": {},
   "outputs": [
    {
     "data": {
      "text/plain": [
       "array(['DRUGS', 'WEAPONS', 'OTHER', 'TRAFFIC', 'THEFT', 'ASSAULT',\n",
       "       'SEXUAL ASSAULT', 'CHILDREN', 'MURDER'], dtype=object)"
      ]
     },
     "execution_count": 113,
     "metadata": {},
     "output_type": "execute_result"
    }
   ],
   "source": [
    "# The category columns contains only 9 distinct values\n",
    "df['category'].unique()"
   ]
  },
  {
   "cell_type": "code",
   "execution_count": null,
   "metadata": {},
   "outputs": [],
   "source": []
  },
  {
   "cell_type": "code",
   "execution_count": null,
   "metadata": {},
   "outputs": [],
   "source": []
  }
 ],
 "metadata": {
  "kernelspec": {
   "display_name": "Python 3",
   "language": "python",
   "name": "python3"
  },
  "language_info": {
   "codemirror_mode": {
    "name": "ipython",
    "version": 3
   },
   "file_extension": ".py",
   "mimetype": "text/x-python",
   "name": "python",
   "nbconvert_exporter": "python",
   "pygments_lexer": "ipython3",
   "version": "3.8.5"
  }
 },
 "nbformat": 4,
 "nbformat_minor": 4
}
