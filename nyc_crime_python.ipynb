{
 "cells": [
  {
   "cell_type": "code",
   "execution_count": 1,
   "metadata": {},
   "outputs": [
    {
     "data": {
      "text/plain": [
       "True"
      ]
     },
     "execution_count": 1,
     "metadata": {},
     "output_type": "execute_result"
    }
   ],
   "source": [
    "from sodapy import Socrata\n",
    "import pandas as pd\n",
    "import numpy as np\n",
    "import matplotlib\n",
    "import matplotlib.pyplot as plt\n",
    "import matplotlib.ticker as ticker\n",
    "import matplotlib.markers as markers\n",
    "from dotenv import load_dotenv\n",
    "import os\n",
    "from sqlalchemy import create_engine\n",
    "from datetime import datetime\n",
    "\n",
    "dotenv_local_path = '.env'\n",
    "load_dotenv(dotenv_path=dotenv_local_path, verbose=True)"
   ]
  },
  {
   "cell_type": "markdown",
   "metadata": {},
   "source": [
    "## Socrata API"
   ]
  },
  {
   "cell_type": "code",
   "execution_count": 7,
   "metadata": {},
   "outputs": [],
   "source": [
    "client=Socrata(\n",
    "\"data.cityofnewyork.us\",\n",
    "os.environ.get(\"NYC_token\"),\n",
    "username=os.environ.get(\"NYC_username\"),\n",
    "password=os.environ.get(\"NYC_password\")\n",
    ")"
   ]
  },
  {
   "cell_type": "markdown",
   "metadata": {},
   "source": [
    "## MySQL"
   ]
  },
  {
   "cell_type": "code",
   "execution_count": 8,
   "metadata": {},
   "outputs": [],
   "source": [
    "engine = create_engine('mysql+pymysql://' + os.environ.get(\"MYSQL_USER\") + \":\" + os.environ.get(\"MYSQL_PASSWORD\") + '@localhost:3306/nyc_crime')"
   ]
  },
  {
   "cell_type": "code",
   "execution_count": 9,
   "metadata": {},
   "outputs": [
    {
     "data": {
      "text/plain": [
       "<sqlalchemy.engine.result.ResultProxy at 0x7fb5204fa040>"
      ]
     },
     "execution_count": 9,
     "metadata": {},
     "output_type": "execute_result"
    }
   ],
   "source": [
    "#engine.execute(\"DROP TABLE IF EXISTS arrests;\")"
   ]
  },
  {
   "cell_type": "code",
   "execution_count": 10,
   "metadata": {},
   "outputs": [
    {
     "data": {
      "text/plain": [
       "<sqlalchemy.engine.result.ResultProxy at 0x7fb561878eb0>"
      ]
     },
     "execution_count": 10,
     "metadata": {},
     "output_type": "execute_result"
    }
   ],
   "source": [
    "#engine.execute(\n",
    "\"\"\"\n",
    "CREATE TABLE IF NOT EXISTS arrests (\n",
    "arrest_key bigint not null primary key,\n",
    "arrest_date date,\n",
    "pd_cd int,\n",
    "pd_desc varchar(250),\n",
    "ky_cd int,\n",
    "ofns_desc varchar(250),\n",
    "law_code varchar(250),\n",
    "law_cat_cd varchar(250),\n",
    "arrest_boro varchar(250),\n",
    "arrest_precinct int,\n",
    "jurisdiction_code int,\n",
    "age_group varchar(250),\n",
    "perp_sex varchar(250),\n",
    "perp_race varchar(250),\n",
    "x_coord_cd varchar(250),\n",
    "y_coord_cd varchar(250),\n",
    "latitude numeric(15,10),\n",
    "longitude numeric(15,10)\n",
    ");\n",
    "\"\"\"\n",
    ")"
   ]
  },
  {
   "cell_type": "code",
   "execution_count": 11,
   "metadata": {},
   "outputs": [],
   "source": [
    "start_year=2015\n",
    "end_year=2019\n",
    "\n",
    "for i in range(start_year, end_year+1, 1):\n",
    "    \n",
    "    results = client.get(\"8h9b-rp9u\", where=\"arrest_date between \"+\"'\"+str(i)+\"-01-01'\"+\" and \"+\"'\"+str(i)+\"-12-31'\", limit=10000000)\n",
    "    results_df = pd.DataFrame.from_records(results)\n",
    "    \n",
    "    results_df = results_df.drop('lon_lat',1)\n",
    "\n",
    "    results_df['arrest_key'] = results_df['arrest_key'].str.strip()\n",
    "    results_df = results_df.drop(results_df[results_df['arrest_key'] == 'UNKNOWN'].index)\n",
    "    results_df['arrest_key'] = results_df['arrest_key'].astype(int)\n",
    "    \n",
    "    results_df['arrest_date'] = results_df['arrest_date'].str.strip()\n",
    "    results_df['arrest_date'] = results_df['arrest_date'].astype(str)\n",
    "    results_df['arrest_date'] = results_df['arrest_date'].str.slice(0,10)\n",
    "    \n",
    "    results_df['pd_cd'] = results_df['pd_cd'].str.strip()\n",
    "    results_df['pd_cd'] = results_df['pd_cd'].str.replace('NULL', '0')\n",
    "    results_df['pd_cd'] = results_df['pd_cd'].str.replace('UNKNOWN', '0')\n",
    "    results_df['pd_cd'] = results_df['pd_cd'].fillna('0')\n",
    "    results_df['pd_cd'] = results_df['pd_cd'].astype(float)\n",
    "    results_df['pd_cd'] = results_df['pd_cd'].astype(int)\n",
    "    \n",
    "    results_df['pd_desc'] = results_df['pd_desc'].str.strip()\n",
    "    results_df['pd_desc'] = results_df['pd_desc'].str.replace('NULL', 'UNKNOWN')\n",
    "    results_df['pd_desc'] = results_df['pd_desc'].fillna('UNKNOWN')\n",
    "    \n",
    "    results_df['ky_cd'] = results_df['ky_cd'].str.strip()\n",
    "    results_df['ky_cd'] = results_df['ky_cd'].str.replace('NULL', '0')\n",
    "    results_df['ky_cd'] = results_df['ky_cd'].fillna('0')\n",
    "    results_df['ky_cd'] = results_df['ky_cd'].astype(float)\n",
    "    results_df['ky_cd'] = results_df['ky_cd'].astype(int)  \n",
    "    \n",
    "    results_df['ofns_desc'] = results_df['ofns_desc'].str.strip()\n",
    "    results_df['ofns_desc'] = results_df['ofns_desc'].str.replace('NULL', 'UNKNOWN')\n",
    "    results_df['ofns_desc'] = results_df['ofns_desc'].fillna('UNKNOWN')\n",
    "    \n",
    "    results_df['law_code'] = results_df['law_code'].str.strip()\n",
    "    results_df['law_code'] = results_df['law_code'].str.replace('NULL', 'UNKNOWN')\n",
    "    results_df['law_code'] = results_df['law_code'].fillna('UNKNOWN')\n",
    "    \n",
    "    results_df['law_cat_cd'] = results_df['law_cat_cd'].str.strip()\n",
    "    results_df['law_cat_cd'] = results_df['law_cat_cd'].str.replace('NULL', 'UNKNOWN')\n",
    "    results_df['law_cat_cd'] = results_df['law_cat_cd'].fillna('UNKNOWN')\n",
    "    \n",
    "    results_df['arrest_boro'] = results_df['arrest_boro'].str.strip()\n",
    "    \n",
    "    results_df['arrest_precinct'] = results_df['arrest_precinct'].str.strip()\n",
    "    results_df['arrest_precinct'] = results_df['arrest_precinct'].astype(float)\n",
    "    results_df['arrest_precinct'] = results_df['arrest_precinct'].astype(int)\n",
    "    \n",
    "    results_df['jurisdiction_code'] = results_df['jurisdiction_code'].str.strip()\n",
    "    results_df['jurisdiction_code'] = results_df['jurisdiction_code'].str.replace('NULL', '0')\n",
    "    results_df['jurisdiction_code'] = results_df['jurisdiction_code'].fillna('0')\n",
    "    results_df['jurisdiction_code'] = results_df['jurisdiction_code'].astype(float)\n",
    "    results_df['jurisdiction_code'] = results_df['jurisdiction_code'].astype(int)\n",
    "    \n",
    "    results_df['age_group'] = results_df['age_group'].str.strip()\n",
    "    good_ages = ['<18', '18-24', '25-44', '45-64', '65+']\n",
    "    results_df.loc[~results_df.age_group.isin(good_ages), 'age_group'] = 'UNKNOWN'\n",
    "    \n",
    "    results_df['perp_sex'] = results_df['perp_sex'].str.strip()\n",
    "    results_df['perp_race'] = results_df['perp_race'].str.strip()\n",
    "    \n",
    "    results_df['x_coord_cd'] = results_df['x_coord_cd'].str.strip()\n",
    "    #results_df['x_coord_cd'] = results_df['x_coord_cd'].astype(float)\n",
    "    #results_df['x_coord_cd'] = results_df['x_coord_cd'].astype(int)\n",
    "    \n",
    "    results_df['y_coord_cd'] = results_df['y_coord_cd'].str.strip()\n",
    "    #results_df['y_coord_cd'] = results_df['y_coord_cd'].astype(float)\n",
    "    #results_df['y_coord_cd'] = results_df['y_coord_cd'].astype(int)\n",
    "    \n",
    "    results_df['latitude'] = results_df['latitude'].str.strip()\n",
    "    results_df['latitude'] = results_df['latitude'].astype(float)\n",
    "    \n",
    "    results_df['longitude'] = results_df['longitude'].str.strip()\n",
    "    results_df['longitude'] = results_df['longitude'].astype(float)   \n",
    "    \n",
    "    results_df.to_sql('arrests_temp', con=engine, index=False, if_exists='replace', chunksize=10000)\n",
    "    \n",
    "    engine.execute(\"\"\"\n",
    "    UPDATE arrests \n",
    "    LEFT JOIN arrests_temp \n",
    "    ON arrests.arrest_key = arrests_temp.arrest_key \n",
    "    SET arrests.arrest_key = arrests_temp.arrest_key \n",
    "    WHERE arrests.arrest_key != arrests_temp.arrest_key;\n",
    "    \"\"\")\n",
    "    \n",
    "    engine.execute(\"\"\"\n",
    "    INSERT INTO arrests (arrest_key, arrest_date, pd_cd, pd_desc, ky_cd, ofns_desc, law_code, \n",
    "    law_cat_cd, arrest_boro, arrest_precinct, jurisdiction_code, age_group, perp_sex, perp_race, \n",
    "    x_coord_cd, y_coord_cd, latitude, longitude) \n",
    "    SELECT arrest_key, arrest_date, pd_cd, pd_desc, ky_cd, ofns_desc, law_code, law_cat_cd, \n",
    "    arrest_boro, arrest_precinct, jurisdiction_code, age_group, perp_sex, perp_race, \n",
    "    x_coord_cd, y_coord_cd, latitude, longitude \n",
    "    FROM arrests_temp \n",
    "    WHERE arrest_key NOT IN (SELECT arrest_key FROM arrests);\n",
    "    \"\"\")\n",
    "    \n",
    "    #results_df.to_csv(f\"./raw_data/{i}.csv\", index=False)"
   ]
  },
  {
   "cell_type": "markdown",
   "metadata": {},
   "source": [
    "# Data Processing in Python"
   ]
  },
  {
   "cell_type": "code",
   "execution_count": 41,
   "metadata": {},
   "outputs": [],
   "source": [
    "# Read data from MySQL\n",
    "df_raw = pd.read_sql(\"SELECT * FROM arrests\", con=engine, parse_dates=[\"arrest_date\"])"
   ]
  },
  {
   "cell_type": "code",
   "execution_count": 42,
   "metadata": {},
   "outputs": [
    {
     "data": {
      "text/html": [
       "<div>\n",
       "<style scoped>\n",
       "    .dataframe tbody tr th:only-of-type {\n",
       "        vertical-align: middle;\n",
       "    }\n",
       "\n",
       "    .dataframe tbody tr th {\n",
       "        vertical-align: top;\n",
       "    }\n",
       "\n",
       "    .dataframe thead th {\n",
       "        text-align: right;\n",
       "    }\n",
       "</style>\n",
       "<table border=\"1\" class=\"dataframe\">\n",
       "  <thead>\n",
       "    <tr style=\"text-align: right;\">\n",
       "      <th></th>\n",
       "      <th>arrest_key</th>\n",
       "      <th>arrest_date</th>\n",
       "      <th>pd_cd</th>\n",
       "      <th>pd_desc</th>\n",
       "      <th>ky_cd</th>\n",
       "      <th>ofns_desc</th>\n",
       "      <th>law_code</th>\n",
       "      <th>law_cat_cd</th>\n",
       "      <th>arrest_boro</th>\n",
       "      <th>arrest_precinct</th>\n",
       "      <th>jurisdiction_code</th>\n",
       "      <th>age_group</th>\n",
       "      <th>perp_sex</th>\n",
       "      <th>perp_race</th>\n",
       "      <th>x_coord_cd</th>\n",
       "      <th>y_coord_cd</th>\n",
       "      <th>latitude</th>\n",
       "      <th>longitude</th>\n",
       "    </tr>\n",
       "  </thead>\n",
       "  <tbody>\n",
       "    <tr>\n",
       "      <th>0</th>\n",
       "      <td>140381385</td>\n",
       "      <td>2015-01-01</td>\n",
       "      <td>106</td>\n",
       "      <td>ASSAULT 2,1,PEACE OFFICER</td>\n",
       "      <td>106</td>\n",
       "      <td>FELONY ASSAULT</td>\n",
       "      <td>PL 1200800</td>\n",
       "      <td>F</td>\n",
       "      <td>M</td>\n",
       "      <td>7</td>\n",
       "      <td>0</td>\n",
       "      <td>18-24</td>\n",
       "      <td>F</td>\n",
       "      <td>WHITE</td>\n",
       "      <td>988225.0</td>\n",
       "      <td>198161.0</td>\n",
       "      <td>40.710590</td>\n",
       "      <td>-73.985664</td>\n",
       "    </tr>\n",
       "    <tr>\n",
       "      <th>1</th>\n",
       "      <td>140389276</td>\n",
       "      <td>2015-01-01</td>\n",
       "      <td>117</td>\n",
       "      <td>RECKLESS ENDANGERMENT 1</td>\n",
       "      <td>126</td>\n",
       "      <td>MISCELLANEOUS PENAL LAW</td>\n",
       "      <td>PL 1202500</td>\n",
       "      <td>F</td>\n",
       "      <td>B</td>\n",
       "      <td>49</td>\n",
       "      <td>0</td>\n",
       "      <td>&lt;18</td>\n",
       "      <td>M</td>\n",
       "      <td>WHITE HISPANIC</td>\n",
       "      <td>1026424.0</td>\n",
       "      <td>251705.0</td>\n",
       "      <td>40.857454</td>\n",
       "      <td>-73.847543</td>\n",
       "    </tr>\n",
       "    <tr>\n",
       "      <th>2</th>\n",
       "      <td>140389279</td>\n",
       "      <td>2015-01-01</td>\n",
       "      <td>139</td>\n",
       "      <td>MURDER,UNCLASSIFIED</td>\n",
       "      <td>101</td>\n",
       "      <td>MURDER &amp; NON-NEGL. MANSLAUGHTER</td>\n",
       "      <td>PL 1252501</td>\n",
       "      <td>F</td>\n",
       "      <td>B</td>\n",
       "      <td>40</td>\n",
       "      <td>0</td>\n",
       "      <td>45-64</td>\n",
       "      <td>M</td>\n",
       "      <td>BLACK HISPANIC</td>\n",
       "      <td>1005041.0</td>\n",
       "      <td>234533.0</td>\n",
       "      <td>40.810398</td>\n",
       "      <td>-73.924895</td>\n",
       "    </tr>\n",
       "    <tr>\n",
       "      <th>3</th>\n",
       "      <td>140389280</td>\n",
       "      <td>2015-01-01</td>\n",
       "      <td>114</td>\n",
       "      <td>OBSTR BREATH/CIRCUL</td>\n",
       "      <td>344</td>\n",
       "      <td>ASSAULT 3 &amp; RELATED OFFENSES</td>\n",
       "      <td>PL 1211100</td>\n",
       "      <td>M</td>\n",
       "      <td>B</td>\n",
       "      <td>46</td>\n",
       "      <td>0</td>\n",
       "      <td>25-44</td>\n",
       "      <td>M</td>\n",
       "      <td>BLACK</td>\n",
       "      <td>1009339.0</td>\n",
       "      <td>248782.0</td>\n",
       "      <td>40.849497</td>\n",
       "      <td>-73.909316</td>\n",
       "    </tr>\n",
       "    <tr>\n",
       "      <th>4</th>\n",
       "      <td>140389281</td>\n",
       "      <td>2015-01-01</td>\n",
       "      <td>904</td>\n",
       "      <td>INTOXICATED DRIVING,ALCOHOL</td>\n",
       "      <td>119</td>\n",
       "      <td>INTOXICATED/IMPAIRED DRIVING</td>\n",
       "      <td>VTL11920E2</td>\n",
       "      <td>F</td>\n",
       "      <td>B</td>\n",
       "      <td>52</td>\n",
       "      <td>0</td>\n",
       "      <td>25-44</td>\n",
       "      <td>M</td>\n",
       "      <td>WHITE HISPANIC</td>\n",
       "      <td>1008647.0</td>\n",
       "      <td>253247.0</td>\n",
       "      <td>40.861754</td>\n",
       "      <td>-73.911801</td>\n",
       "    </tr>\n",
       "  </tbody>\n",
       "</table>\n",
       "</div>"
      ],
      "text/plain": [
       "   arrest_key arrest_date  pd_cd                      pd_desc  ky_cd  \\\n",
       "0   140381385  2015-01-01    106    ASSAULT 2,1,PEACE OFFICER    106   \n",
       "1   140389276  2015-01-01    117      RECKLESS ENDANGERMENT 1    126   \n",
       "2   140389279  2015-01-01    139          MURDER,UNCLASSIFIED    101   \n",
       "3   140389280  2015-01-01    114          OBSTR BREATH/CIRCUL    344   \n",
       "4   140389281  2015-01-01    904  INTOXICATED DRIVING,ALCOHOL    119   \n",
       "\n",
       "                         ofns_desc    law_code law_cat_cd arrest_boro  \\\n",
       "0                   FELONY ASSAULT  PL 1200800          F           M   \n",
       "1          MISCELLANEOUS PENAL LAW  PL 1202500          F           B   \n",
       "2  MURDER & NON-NEGL. MANSLAUGHTER  PL 1252501          F           B   \n",
       "3     ASSAULT 3 & RELATED OFFENSES  PL 1211100          M           B   \n",
       "4     INTOXICATED/IMPAIRED DRIVING  VTL11920E2          F           B   \n",
       "\n",
       "   arrest_precinct  jurisdiction_code age_group perp_sex       perp_race  \\\n",
       "0                7                  0     18-24        F           WHITE   \n",
       "1               49                  0       <18        M  WHITE HISPANIC   \n",
       "2               40                  0     45-64        M  BLACK HISPANIC   \n",
       "3               46                  0     25-44        M           BLACK   \n",
       "4               52                  0     25-44        M  WHITE HISPANIC   \n",
       "\n",
       "  x_coord_cd y_coord_cd   latitude  longitude  \n",
       "0   988225.0   198161.0  40.710590 -73.985664  \n",
       "1  1026424.0   251705.0  40.857454 -73.847543  \n",
       "2  1005041.0   234533.0  40.810398 -73.924895  \n",
       "3  1009339.0   248782.0  40.849497 -73.909316  \n",
       "4  1008647.0   253247.0  40.861754 -73.911801  "
      ]
     },
     "execution_count": 42,
     "metadata": {},
     "output_type": "execute_result"
    }
   ],
   "source": [
    "# View first 5 frows\n",
    "df_raw.head()"
   ]
  },
  {
   "cell_type": "code",
   "execution_count": 43,
   "metadata": {},
   "outputs": [
    {
     "name": "stdout",
     "output_type": "stream",
     "text": [
      "<class 'pandas.core.frame.DataFrame'>\n",
      "RangeIndex: 1401949 entries, 0 to 1401948\n",
      "Data columns (total 18 columns):\n",
      " #   Column             Non-Null Count    Dtype         \n",
      "---  ------             --------------    -----         \n",
      " 0   arrest_key         1401949 non-null  int64         \n",
      " 1   arrest_date        1401949 non-null  datetime64[ns]\n",
      " 2   pd_cd              1401949 non-null  int64         \n",
      " 3   pd_desc            1401949 non-null  object        \n",
      " 4   ky_cd              1401949 non-null  int64         \n",
      " 5   ofns_desc          1401949 non-null  object        \n",
      " 6   law_code           1401949 non-null  object        \n",
      " 7   law_cat_cd         1401949 non-null  object        \n",
      " 8   arrest_boro        1401949 non-null  object        \n",
      " 9   arrest_precinct    1401949 non-null  int64         \n",
      " 10  jurisdiction_code  1401949 non-null  int64         \n",
      " 11  age_group          1401949 non-null  object        \n",
      " 12  perp_sex           1401949 non-null  object        \n",
      " 13  perp_race          1401949 non-null  object        \n",
      " 14  x_coord_cd         1401949 non-null  object        \n",
      " 15  y_coord_cd         1401949 non-null  object        \n",
      " 16  latitude           1401949 non-null  float64       \n",
      " 17  longitude          1401949 non-null  float64       \n",
      "dtypes: datetime64[ns](1), float64(2), int64(5), object(10)\n",
      "memory usage: 192.5+ MB\n"
     ]
    }
   ],
   "source": [
    "df_raw.info()"
   ]
  },
  {
   "cell_type": "code",
   "execution_count": 44,
   "metadata": {},
   "outputs": [
    {
     "data": {
      "text/plain": [
       "(1401949, 18)"
      ]
     },
     "execution_count": 44,
     "metadata": {},
     "output_type": "execute_result"
    }
   ],
   "source": [
    "# Rows and columns\n",
    "df_raw.shape"
   ]
  },
  {
   "cell_type": "code",
   "execution_count": 45,
   "metadata": {},
   "outputs": [],
   "source": [
    "# Make copy of df_main so we can leave df_main intact\n",
    "df = df_raw.copy()"
   ]
  },
  {
   "cell_type": "code",
   "execution_count": 46,
   "metadata": {},
   "outputs": [],
   "source": [
    "# Drop the rows where at least one element is missing.\n",
    "df = df.dropna()"
   ]
  },
  {
   "cell_type": "code",
   "execution_count": 47,
   "metadata": {},
   "outputs": [],
   "source": [
    "# Drop unnecessary columns\n",
    "df = df.drop(['pd_cd', 'ky_cd', 'law_code', 'jurisdiction_code'], axis=1)"
   ]
  },
  {
   "cell_type": "code",
   "execution_count": 48,
   "metadata": {},
   "outputs": [
    {
     "data": {
      "text/plain": [
       "(1401949, 14)"
      ]
     },
     "execution_count": 48,
     "metadata": {},
     "output_type": "execute_result"
    }
   ],
   "source": [
    "# Rows and columns\n",
    "df.shape"
   ]
  },
  {
   "cell_type": "code",
   "execution_count": 49,
   "metadata": {},
   "outputs": [],
   "source": [
    "# Change x_coord_cd and y_coord_cd to integers\n",
    "df['x_coord_cd'] = df['x_coord_cd'].astype(float)\n",
    "df['x_coord_cd'] = df['x_coord_cd'].astype(int)\n",
    "df['y_coord_cd'] = df['y_coord_cd'].astype(float)\n",
    "df['y_coord_cd'] = df['y_coord_cd'].astype(int)"
   ]
  },
  {
   "cell_type": "code",
   "execution_count": 50,
   "metadata": {},
   "outputs": [],
   "source": [
    "# Create columns for year, month, date\n",
    "df['arrest_year'] = df['arrest_date'].dt.year\n",
    "df['arrest_month'] = df['arrest_date'].dt.month\n",
    "df['arrest_day'] = df['arrest_date'].dt.day\n",
    "df['arrest_day_index'] = df['arrest_date'].dt.dayofweek\n",
    "df['arrest_day_name'] = df['arrest_date'].dt.day_name()"
   ]
  },
  {
   "cell_type": "code",
   "execution_count": 51,
   "metadata": {
    "scrolled": true
   },
   "outputs": [
    {
     "data": {
      "text/plain": [
       "array(['FELONY ASSAULT', 'MISCELLANEOUS PENAL LAW',\n",
       "       'MURDER & NON-NEGL. MANSLAUGHTER', 'ASSAULT 3 & RELATED OFFENSES',\n",
       "       'INTOXICATED/IMPAIRED DRIVING', 'DANGEROUS WEAPONS',\n",
       "       'OFFENSES AGAINST PUBLIC ADMINISTRATION',\n",
       "       'OTHER TRAFFIC INFRACTION', 'SEX CRIMES',\n",
       "       'OFF. AGNST PUB ORD SENSBLTY & RGHTS TO PRIV',\n",
       "       'INTOXICATED & IMPAIRED DRIVING',\n",
       "       'CRIMINAL MISCHIEF & RELATED OFFENSES', 'GRAND LARCENY', 'ROBBERY',\n",
       "       'OTHER STATE LAWS', 'VEHICLE AND TRAFFIC LAWS',\n",
       "       'FORCIBLE TOUCHING', 'DISORDERLY CONDUCT', 'BURGLARY',\n",
       "       'PETIT LARCENY', 'OTHER OFFENSES RELATED TO THEFT',\n",
       "       'OFFENSES AGAINST THE PERSON', 'ALCOHOLIC BEVERAGE CONTROL LAW',\n",
       "       'HOMICIDE-NEGLIGENT-VEHICLE', 'DANGEROUS DRUGS',\n",
       "       'UNAUTHORIZED USE OF A VEHICLE 3 (UUV)', 'UNKNOWN',\n",
       "       'POSSESSION OF STOLEN PROPERTY 5', 'RAPE',\n",
       "       'OTHER STATE LAWS (NON PENAL LAW)', 'MOVING INFRACTIONS', 'FRAUDS',\n",
       "       'F.C.A. P.I.N.O.S.', 'ARSON', 'FORGERY',\n",
       "       'GRAND LARCENY OF MOTOR VEHICLE', 'CRIMINAL TRESPASS',\n",
       "       'PROSTITUTION & RELATED OFFENSES', 'THEFT-FRAUD', 'GAMBLING',\n",
       "       'POSSESSION OF STOLEN PROPERTY', 'FRAUDULENT ACCOSTING',\n",
       "       'ADMINISTRATIVE CODE', \"BURGLAR'S TOOLS\",\n",
       "       'OFFENSES RELATED TO CHILDREN', 'OTHER STATE LAWS (NON PENAL LA',\n",
       "       'KIDNAPPING & RELATED OFFENSES', 'HARRASSMENT 2',\n",
       "       'CRIMINAL MISCHIEF & RELATED OF', 'ENDAN WELFARE INCOMP',\n",
       "       'OFFENSES INVOLVING FRAUD', 'ANTICIPATORY OFFENSES',\n",
       "       'NEW YORK CITY HEALTH CODE', 'DISRUPTION OF A RELIGIOUS SERVICE',\n",
       "       'ADMINISTRATIVE CODES', 'CHILD ABANDONMENT/NON SUPPORT 1',\n",
       "       'ESCAPE 3', 'OFFENSES AGAINST PUBLIC SAFETY', 'JOSTLING',\n",
       "       'PARKING OFFENSES', 'LOITERING FOR DRUG PURPOSES', 'LOITERING',\n",
       "       'LOITERING/GAMBLING (CARDS, DICE, ETC)',\n",
       "       'CHILD ABANDONMENT/NON SUPPORT', 'HOMICIDE-NEGLIGENT,UNCLASSIFIED',\n",
       "       'OFF. AGNST PUB ORD SENSBLTY &', 'ABORTION',\n",
       "       'UNLAWFUL POSS. WEAP. ON SCHOOL GROUNDS',\n",
       "       'MURDER & NON-NEGL. MANSLAUGHTE', 'OFFENSES AGAINST PUBLIC ADMINI',\n",
       "       'HARASSMENT', 'NYS LAWS-UNCLASSIFIED FELONY',\n",
       "       'OTHER OFFENSES RELATED TO THEF', 'UNAUTHORIZED USE OF A VEHICLE',\n",
       "       'FOR OTHER AUTHORITIES', 'THEFT OF SERVICES',\n",
       "       'AGRICULTURE & MRKTS LAW-UNCLASSIFIED',\n",
       "       'HOMICIDE-NEGLIGENT,UNCLASSIFIE', 'KIDNAPPING',\n",
       "       'UNLAWFUL POSS. WEAP. ON SCHOOL', 'DISRUPTION OF A RELIGIOUS SERV',\n",
       "       'LOITERING/GAMBLING (CARDS, DIC',\n",
       "       'NYS LAWS-UNCLASSIFIED VIOLATION'], dtype=object)"
      ]
     },
     "execution_count": 51,
     "metadata": {},
     "output_type": "execute_result"
    }
   ],
   "source": [
    "# See unique ofns_desc\n",
    "df['ofns_desc'].unique()"
   ]
  },
  {
   "cell_type": "code",
   "execution_count": 52,
   "metadata": {},
   "outputs": [
    {
     "data": {
      "text/plain": [
       "83"
      ]
     },
     "execution_count": 52,
     "metadata": {},
     "output_type": "execute_result"
    }
   ],
   "source": [
    "# Distinct values\n",
    "len(df['ofns_desc'].unique())"
   ]
  },
  {
   "cell_type": "code",
   "execution_count": 53,
   "metadata": {},
   "outputs": [
    {
     "data": {
      "text/plain": [
       "DANGEROUS DRUGS                           209738\n",
       "ASSAULT 3 & RELATED OFFENSES              170510\n",
       "PETIT LARCENY                             117708\n",
       "VEHICLE AND TRAFFIC LAWS                   92523\n",
       "OTHER OFFENSES RELATED TO THEFT            84534\n",
       "                                           ...  \n",
       "DISRUPTION OF A RELIGIOUS SERV                 6\n",
       "HARASSMENT                                     3\n",
       "UNLAWFUL POSS. WEAP. ON SCHOOL GROUNDS         2\n",
       "NYS LAWS-UNCLASSIFIED VIOLATION                2\n",
       "UNLAWFUL POSS. WEAP. ON SCHOOL                 1\n",
       "Name: ofns_desc, Length: 83, dtype: int64"
      ]
     },
     "execution_count": 53,
     "metadata": {},
     "output_type": "execute_result"
    }
   ],
   "source": [
    "# Show number of records for each ofns_desc\n",
    "df['ofns_desc'].value_counts()"
   ]
  },
  {
   "cell_type": "code",
   "execution_count": 54,
   "metadata": {},
   "outputs": [],
   "source": [
    "# Create simpler categories for easier analysis\n",
    "THEFT = [\"BURGLARY\",\"PETIT LARCENY\",\"OFFENSES INVOLVING FRAUD\",\"THEFT OF SERVICES\",\"POSSESSION OF STOLEN PROPERTY 5\",\"THEFT-FRAUD\",\n",
    "          \"OTHER OFFENSES RELATED TO THEF\",\"FRAUDULENT ACCOSTING\",\"ROBBERY\",\"GRAND LARCENY OF MOTOR VEHICLE\",\n",
    "          \"POSSESSION OF STOLEN PROPERTY\",\"GRAND LARCENY\",\"FORGERY\",\"BURGLAR'S TOOLS\",\"FRAUDS\",\"OTHER OFFENSES RELATED TO THEFT\",\n",
    "          \"JOSTLING\",\"CRIMINAL TRESPASS\"]\n",
    "df.loc[df.ofns_desc.isin(THEFT), 'category'] = \"THEFT\"\n",
    "\n",
    "# DRUGS\n",
    "DRUGS = [\"DANGEROUS DRUGS\",\"LOITERING FOR DRUG PURPOSES\",\"UNDER THE INFLUENCE, DRUGS\"]\n",
    "df.loc[df.ofns_desc.isin(DRUGS), 'category'] = \"DRUGS\"\n",
    "\n",
    "# WEAPONS\n",
    "WEAPONS = [\"DANGEROUS WEAPONS\",\"UNLAWFUL POSS. WEAP. ON SCHOOL\",\"UNLAWFUL POSS. WEAP. ON SCHOOL GROUNDS\"]\n",
    "df.loc[df.ofns_desc.isin(WEAPONS), 'category'] = \"WEAPONS\"\n",
    "\n",
    "# ASSAULT\n",
    "ASSAULT = [\"FELONY ASSAULT\",\"ASSAULT 3 & RELATED OFFENSES\"]\n",
    "df.loc[df.ofns_desc.isin(ASSAULT), 'category'] = \"ASSAULT\"\n",
    "\n",
    "# SEXUAL_ASSAULT\n",
    "SEXUAL_ASSAULT = [\"RAPE\",\"SEX CRIMES\",\"FORCIBLE TOUCHING\"]\n",
    "df.loc[df.ofns_desc.isin(SEXUAL_ASSAULT), 'category'] = \"SEXUAL ASSAULT\"\n",
    "\n",
    "# TRAFFIC\n",
    "TRAFFIC = [\"INTOXICATED & IMPAIRED DRIVING\",\"VEHICLE AND TRAFFIC LAWS\",\"MOVING INFRACTIONS\",\"PARKING OFFENSES\",\n",
    "            \"INTOXICATED/IMPAIRED DRIVING\",\"OTHER TRAFFIC INFRACTION\", \"UNAUTHORIZED USE OF A VEHICLE 3 (UUV)\",\n",
    "            \"UNAUTHORIZED USE OF A VEHICLE\"]\n",
    "df.loc[df.ofns_desc.isin(TRAFFIC), 'category'] = \"TRAFFIC\"\n",
    "\n",
    "# MURDER\n",
    "MURDER = [\"MURDER & NON-NEGL. MANSLAUGHTE\", \"MURDER & NON-NEGL. MANSLAUGHTER\", \"HOMICIDE-NEGLIGENT,UNCLASSIFIED\", \n",
    "           \"HOMICIDE-NEGLIGENT-VEHICLE\",\"HOMICIDE-NEGLIGENT,UNCLASSIFIE\"]\n",
    "df.loc[df.ofns_desc.isin(MURDER), 'category'] = \"MURDER\"\n",
    "\n",
    "# CHILDREN\n",
    "CHILDREN = [\"KIDNAPPING\", \"CHILD ABANDONMENT/NON SUPPORT 1\", \"KIDNAPPING & RELATED OFFENSES\", \"OFFENSES RELATED TO CHILDREN\",\n",
    "             \"CHILD ABANDONMENT/NON SUPPORT\"]\n",
    "df.loc[df.ofns_desc.isin(CHILDREN), 'category'] = \"CHILDREN\"\n",
    "\n",
    "# OTHER\n",
    "ALL_CAT = THEFT + DRUGS + WEAPONS + ASSAULT + SEXUAL_ASSAULT + MURDER + CHILDREN + TRAFFIC\n",
    "df.loc[~df.ofns_desc.isin(ALL_CAT), 'category'] = \"OTHER\""
   ]
  },
  {
   "cell_type": "code",
   "execution_count": 55,
   "metadata": {},
   "outputs": [
    {
     "data": {
      "text/plain": [
       "array(['ASSAULT', 'OTHER', 'MURDER', 'TRAFFIC', 'WEAPONS',\n",
       "       'SEXUAL ASSAULT', 'THEFT', 'DRUGS', 'CHILDREN'], dtype=object)"
      ]
     },
     "execution_count": 55,
     "metadata": {},
     "output_type": "execute_result"
    }
   ],
   "source": [
    "# The category columns contains only 9 distinct values\n",
    "df['category'].unique()"
   ]
  },
  {
   "cell_type": "code",
   "execution_count": 56,
   "metadata": {},
   "outputs": [
    {
     "name": "stdout",
     "output_type": "stream",
     "text": [
      "<class 'pandas.core.frame.DataFrame'>\n",
      "Int64Index: 1401949 entries, 0 to 1401948\n",
      "Data columns (total 20 columns):\n",
      " #   Column            Non-Null Count    Dtype         \n",
      "---  ------            --------------    -----         \n",
      " 0   arrest_key        1401949 non-null  int64         \n",
      " 1   arrest_date       1401949 non-null  datetime64[ns]\n",
      " 2   pd_desc           1401949 non-null  object        \n",
      " 3   ofns_desc         1401949 non-null  object        \n",
      " 4   law_cat_cd        1401949 non-null  object        \n",
      " 5   arrest_boro       1401949 non-null  object        \n",
      " 6   arrest_precinct   1401949 non-null  int64         \n",
      " 7   age_group         1401949 non-null  object        \n",
      " 8   perp_sex          1401949 non-null  object        \n",
      " 9   perp_race         1401949 non-null  object        \n",
      " 10  x_coord_cd        1401949 non-null  int64         \n",
      " 11  y_coord_cd        1401949 non-null  int64         \n",
      " 12  latitude          1401949 non-null  float64       \n",
      " 13  longitude         1401949 non-null  float64       \n",
      " 14  arrest_year       1401949 non-null  int64         \n",
      " 15  arrest_month      1401949 non-null  int64         \n",
      " 16  arrest_day        1401949 non-null  int64         \n",
      " 17  arrest_day_index  1401949 non-null  int64         \n",
      " 18  arrest_day_name   1401949 non-null  object        \n",
      " 19  category          1401949 non-null  object        \n",
      "dtypes: datetime64[ns](1), float64(2), int64(8), object(9)\n",
      "memory usage: 224.6+ MB\n"
     ]
    }
   ],
   "source": [
    "df.info()"
   ]
  },
  {
   "cell_type": "code",
   "execution_count": 57,
   "metadata": {},
   "outputs": [
    {
     "data": {
      "text/html": [
       "<div>\n",
       "<style scoped>\n",
       "    .dataframe tbody tr th:only-of-type {\n",
       "        vertical-align: middle;\n",
       "    }\n",
       "\n",
       "    .dataframe tbody tr th {\n",
       "        vertical-align: top;\n",
       "    }\n",
       "\n",
       "    .dataframe thead th {\n",
       "        text-align: right;\n",
       "    }\n",
       "</style>\n",
       "<table border=\"1\" class=\"dataframe\">\n",
       "  <thead>\n",
       "    <tr style=\"text-align: right;\">\n",
       "      <th></th>\n",
       "      <th>arrest_key</th>\n",
       "      <th>arrest_date</th>\n",
       "      <th>pd_desc</th>\n",
       "      <th>ofns_desc</th>\n",
       "      <th>law_cat_cd</th>\n",
       "      <th>arrest_boro</th>\n",
       "      <th>arrest_precinct</th>\n",
       "      <th>age_group</th>\n",
       "      <th>perp_sex</th>\n",
       "      <th>perp_race</th>\n",
       "      <th>x_coord_cd</th>\n",
       "      <th>y_coord_cd</th>\n",
       "      <th>latitude</th>\n",
       "      <th>longitude</th>\n",
       "      <th>arrest_year</th>\n",
       "      <th>arrest_month</th>\n",
       "      <th>arrest_day</th>\n",
       "      <th>arrest_day_index</th>\n",
       "      <th>arrest_day_name</th>\n",
       "      <th>category</th>\n",
       "    </tr>\n",
       "  </thead>\n",
       "  <tbody>\n",
       "    <tr>\n",
       "      <th>0</th>\n",
       "      <td>140381385</td>\n",
       "      <td>2015-01-01</td>\n",
       "      <td>ASSAULT 2,1,PEACE OFFICER</td>\n",
       "      <td>FELONY ASSAULT</td>\n",
       "      <td>F</td>\n",
       "      <td>M</td>\n",
       "      <td>7</td>\n",
       "      <td>18-24</td>\n",
       "      <td>F</td>\n",
       "      <td>WHITE</td>\n",
       "      <td>988225</td>\n",
       "      <td>198161</td>\n",
       "      <td>40.710590</td>\n",
       "      <td>-73.985664</td>\n",
       "      <td>2015</td>\n",
       "      <td>1</td>\n",
       "      <td>1</td>\n",
       "      <td>3</td>\n",
       "      <td>Thursday</td>\n",
       "      <td>ASSAULT</td>\n",
       "    </tr>\n",
       "    <tr>\n",
       "      <th>1</th>\n",
       "      <td>140389276</td>\n",
       "      <td>2015-01-01</td>\n",
       "      <td>RECKLESS ENDANGERMENT 1</td>\n",
       "      <td>MISCELLANEOUS PENAL LAW</td>\n",
       "      <td>F</td>\n",
       "      <td>B</td>\n",
       "      <td>49</td>\n",
       "      <td>&lt;18</td>\n",
       "      <td>M</td>\n",
       "      <td>WHITE HISPANIC</td>\n",
       "      <td>1026424</td>\n",
       "      <td>251705</td>\n",
       "      <td>40.857454</td>\n",
       "      <td>-73.847543</td>\n",
       "      <td>2015</td>\n",
       "      <td>1</td>\n",
       "      <td>1</td>\n",
       "      <td>3</td>\n",
       "      <td>Thursday</td>\n",
       "      <td>OTHER</td>\n",
       "    </tr>\n",
       "    <tr>\n",
       "      <th>2</th>\n",
       "      <td>140389279</td>\n",
       "      <td>2015-01-01</td>\n",
       "      <td>MURDER,UNCLASSIFIED</td>\n",
       "      <td>MURDER &amp; NON-NEGL. MANSLAUGHTER</td>\n",
       "      <td>F</td>\n",
       "      <td>B</td>\n",
       "      <td>40</td>\n",
       "      <td>45-64</td>\n",
       "      <td>M</td>\n",
       "      <td>BLACK HISPANIC</td>\n",
       "      <td>1005041</td>\n",
       "      <td>234533</td>\n",
       "      <td>40.810398</td>\n",
       "      <td>-73.924895</td>\n",
       "      <td>2015</td>\n",
       "      <td>1</td>\n",
       "      <td>1</td>\n",
       "      <td>3</td>\n",
       "      <td>Thursday</td>\n",
       "      <td>MURDER</td>\n",
       "    </tr>\n",
       "    <tr>\n",
       "      <th>3</th>\n",
       "      <td>140389280</td>\n",
       "      <td>2015-01-01</td>\n",
       "      <td>OBSTR BREATH/CIRCUL</td>\n",
       "      <td>ASSAULT 3 &amp; RELATED OFFENSES</td>\n",
       "      <td>M</td>\n",
       "      <td>B</td>\n",
       "      <td>46</td>\n",
       "      <td>25-44</td>\n",
       "      <td>M</td>\n",
       "      <td>BLACK</td>\n",
       "      <td>1009339</td>\n",
       "      <td>248782</td>\n",
       "      <td>40.849497</td>\n",
       "      <td>-73.909316</td>\n",
       "      <td>2015</td>\n",
       "      <td>1</td>\n",
       "      <td>1</td>\n",
       "      <td>3</td>\n",
       "      <td>Thursday</td>\n",
       "      <td>ASSAULT</td>\n",
       "    </tr>\n",
       "    <tr>\n",
       "      <th>4</th>\n",
       "      <td>140389281</td>\n",
       "      <td>2015-01-01</td>\n",
       "      <td>INTOXICATED DRIVING,ALCOHOL</td>\n",
       "      <td>INTOXICATED/IMPAIRED DRIVING</td>\n",
       "      <td>F</td>\n",
       "      <td>B</td>\n",
       "      <td>52</td>\n",
       "      <td>25-44</td>\n",
       "      <td>M</td>\n",
       "      <td>WHITE HISPANIC</td>\n",
       "      <td>1008647</td>\n",
       "      <td>253247</td>\n",
       "      <td>40.861754</td>\n",
       "      <td>-73.911801</td>\n",
       "      <td>2015</td>\n",
       "      <td>1</td>\n",
       "      <td>1</td>\n",
       "      <td>3</td>\n",
       "      <td>Thursday</td>\n",
       "      <td>TRAFFIC</td>\n",
       "    </tr>\n",
       "  </tbody>\n",
       "</table>\n",
       "</div>"
      ],
      "text/plain": [
       "   arrest_key arrest_date                      pd_desc  \\\n",
       "0   140381385  2015-01-01    ASSAULT 2,1,PEACE OFFICER   \n",
       "1   140389276  2015-01-01      RECKLESS ENDANGERMENT 1   \n",
       "2   140389279  2015-01-01          MURDER,UNCLASSIFIED   \n",
       "3   140389280  2015-01-01          OBSTR BREATH/CIRCUL   \n",
       "4   140389281  2015-01-01  INTOXICATED DRIVING,ALCOHOL   \n",
       "\n",
       "                         ofns_desc law_cat_cd arrest_boro  arrest_precinct  \\\n",
       "0                   FELONY ASSAULT          F           M                7   \n",
       "1          MISCELLANEOUS PENAL LAW          F           B               49   \n",
       "2  MURDER & NON-NEGL. MANSLAUGHTER          F           B               40   \n",
       "3     ASSAULT 3 & RELATED OFFENSES          M           B               46   \n",
       "4     INTOXICATED/IMPAIRED DRIVING          F           B               52   \n",
       "\n",
       "  age_group perp_sex       perp_race  x_coord_cd  y_coord_cd   latitude  \\\n",
       "0     18-24        F           WHITE      988225      198161  40.710590   \n",
       "1       <18        M  WHITE HISPANIC     1026424      251705  40.857454   \n",
       "2     45-64        M  BLACK HISPANIC     1005041      234533  40.810398   \n",
       "3     25-44        M           BLACK     1009339      248782  40.849497   \n",
       "4     25-44        M  WHITE HISPANIC     1008647      253247  40.861754   \n",
       "\n",
       "   longitude  arrest_year  arrest_month  arrest_day  arrest_day_index  \\\n",
       "0 -73.985664         2015             1           1                 3   \n",
       "1 -73.847543         2015             1           1                 3   \n",
       "2 -73.924895         2015             1           1                 3   \n",
       "3 -73.909316         2015             1           1                 3   \n",
       "4 -73.911801         2015             1           1                 3   \n",
       "\n",
       "  arrest_day_name category  \n",
       "0        Thursday  ASSAULT  \n",
       "1        Thursday    OTHER  \n",
       "2        Thursday   MURDER  \n",
       "3        Thursday  ASSAULT  \n",
       "4        Thursday  TRAFFIC  "
      ]
     },
     "execution_count": 57,
     "metadata": {},
     "output_type": "execute_result"
    }
   ],
   "source": [
    "# Final dataframe\n",
    "df.head()"
   ]
  },
  {
   "cell_type": "markdown",
   "metadata": {},
   "source": [
    "# Data Analysis & Visualization in Python"
   ]
  },
  {
   "cell_type": "markdown",
   "metadata": {},
   "source": [
    "### Arrests by Year"
   ]
  },
  {
   "cell_type": "code",
   "execution_count": 66,
   "metadata": {},
   "outputs": [
    {
     "data": {
      "text/html": [
       "<div>\n",
       "<style scoped>\n",
       "    .dataframe tbody tr th:only-of-type {\n",
       "        vertical-align: middle;\n",
       "    }\n",
       "\n",
       "    .dataframe tbody tr th {\n",
       "        vertical-align: top;\n",
       "    }\n",
       "\n",
       "    .dataframe thead th {\n",
       "        text-align: right;\n",
       "    }\n",
       "</style>\n",
       "<table border=\"1\" class=\"dataframe\">\n",
       "  <thead>\n",
       "    <tr style=\"text-align: right;\">\n",
       "      <th></th>\n",
       "      <th>arrest_year</th>\n",
       "      <th>total_arrests</th>\n",
       "    </tr>\n",
       "  </thead>\n",
       "  <tbody>\n",
       "    <tr>\n",
       "      <th>0</th>\n",
       "      <td>2015</td>\n",
       "      <td>339470</td>\n",
       "    </tr>\n",
       "    <tr>\n",
       "      <th>1</th>\n",
       "      <td>2016</td>\n",
       "      <td>314864</td>\n",
       "    </tr>\n",
       "    <tr>\n",
       "      <th>2</th>\n",
       "      <td>2017</td>\n",
       "      <td>286225</td>\n",
       "    </tr>\n",
       "    <tr>\n",
       "      <th>3</th>\n",
       "      <td>2018</td>\n",
       "      <td>246773</td>\n",
       "    </tr>\n",
       "    <tr>\n",
       "      <th>4</th>\n",
       "      <td>2019</td>\n",
       "      <td>214617</td>\n",
       "    </tr>\n",
       "  </tbody>\n",
       "</table>\n",
       "</div>"
      ],
      "text/plain": [
       "   arrest_year  total_arrests\n",
       "0         2015         339470\n",
       "1         2016         314864\n",
       "2         2017         286225\n",
       "3         2018         246773\n",
       "4         2019         214617"
      ]
     },
     "execution_count": 66,
     "metadata": {},
     "output_type": "execute_result"
    }
   ],
   "source": [
    "df_year = df.groupby('arrest_year', as_index=False)\n",
    "df_year = df_year.size()\n",
    "df_year.rename(columns={'size':'total_arrests'}, inplace=True)\n",
    "df_year"
   ]
  },
  {
   "cell_type": "code",
   "execution_count": 67,
   "metadata": {
    "scrolled": true
   },
   "outputs": [
    {
     "data": {
      "image/png": "[encoded data removed]",
      "text/plain": [
       "<Figure size 432x288 with 1 Axes>"
      ]
     },
     "metadata": {
      "needs_background": "light"
     },
     "output_type": "display_data"
    }
   ],
   "source": [
    "fig, ax = plt.subplots()\n",
    "ax.plot(df_year.arrest_year, df_year.total_arrests, marker='o')\n",
    "ax.set_xlabel(\"Year\")\n",
    "ax.set_ylabel(\"Number of Arrests\")\n",
    "ax.set_title(\"Arrests by Year\")\n",
    "plt.xticks([x for x in df_year.arrest_year])\n",
    "plt.xticks(rotation = 90)\n",
    "\n",
    "#for i,j in df_arrests_year.items():\n",
    "#    ax.annotate(j, xy=(i,j))\n",
    "\n",
    "for i,j in zip(df_year.arrest_year, df_year.total_arrests):\n",
    "    ax.annotate(format(j,','), xy=(i,j))\n",
    "\n",
    "ax.yaxis.set_major_formatter(\n",
    "    ticker.FuncFormatter(lambda y, p: format(int(y), ','))\n",
    ")   \n",
    "\n",
    "plt.show()\n",
    "\n",
    "# ? How can I make this neater?"
   ]
  },
  {
   "cell_type": "markdown",
   "metadata": {},
   "source": [
    "### Arrests by Year Percentage Change"
   ]
  },
  {
   "cell_type": "code",
   "execution_count": 68,
   "metadata": {
    "scrolled": true
   },
   "outputs": [
    {
     "data": {
      "text/html": [
       "<div>\n",
       "<style scoped>\n",
       "    .dataframe tbody tr th:only-of-type {\n",
       "        vertical-align: middle;\n",
       "    }\n",
       "\n",
       "    .dataframe tbody tr th {\n",
       "        vertical-align: top;\n",
       "    }\n",
       "\n",
       "    .dataframe thead th {\n",
       "        text-align: right;\n",
       "    }\n",
       "</style>\n",
       "<table border=\"1\" class=\"dataframe\">\n",
       "  <thead>\n",
       "    <tr style=\"text-align: right;\">\n",
       "      <th></th>\n",
       "      <th>arrest_year</th>\n",
       "      <th>total_arrests</th>\n",
       "      <th>change</th>\n",
       "    </tr>\n",
       "  </thead>\n",
       "  <tbody>\n",
       "    <tr>\n",
       "      <th>0</th>\n",
       "      <td>2015</td>\n",
       "      <td>339470</td>\n",
       "      <td>NaN</td>\n",
       "    </tr>\n",
       "    <tr>\n",
       "      <th>1</th>\n",
       "      <td>2016</td>\n",
       "      <td>314864</td>\n",
       "      <td>-0.07</td>\n",
       "    </tr>\n",
       "    <tr>\n",
       "      <th>2</th>\n",
       "      <td>2017</td>\n",
       "      <td>286225</td>\n",
       "      <td>-0.09</td>\n",
       "    </tr>\n",
       "    <tr>\n",
       "      <th>3</th>\n",
       "      <td>2018</td>\n",
       "      <td>246773</td>\n",
       "      <td>-0.14</td>\n",
       "    </tr>\n",
       "    <tr>\n",
       "      <th>4</th>\n",
       "      <td>2019</td>\n",
       "      <td>214617</td>\n",
       "      <td>-0.13</td>\n",
       "    </tr>\n",
       "  </tbody>\n",
       "</table>\n",
       "</div>"
      ],
      "text/plain": [
       "   arrest_year  total_arrests  change\n",
       "0         2015         339470     NaN\n",
       "1         2016         314864   -0.07\n",
       "2         2017         286225   -0.09\n",
       "3         2018         246773   -0.14\n",
       "4         2019         214617   -0.13"
      ]
     },
     "execution_count": 68,
     "metadata": {},
     "output_type": "execute_result"
    }
   ],
   "source": [
    "df_year_pc = df.groupby('arrest_year', as_index=False)\n",
    "df_year_pc = df_year_pc.size()\n",
    "df_year_pc.rename(columns={'size':'total_arrests'}, inplace=True)\n",
    "df_year_pc['change'] = round(df_year_pc.total_arrests.div(df_year_pc.total_arrests.shift(1))-1,2)\n",
    "df_year_pc"
   ]
  },
  {
   "cell_type": "code",
   "execution_count": 69,
   "metadata": {},
   "outputs": [
    {
     "data": {
      "image/png": "[encoded data removed]",
      "text/plain": [
       "<Figure size 432x288 with 1 Axes>"
      ]
     },
     "metadata": {
      "needs_background": "light"
     },
     "output_type": "display_data"
    }
   ],
   "source": [
    "fig, ax = plt.subplots()\n",
    "ax.plot(df_year_pc.arrest_year, df_year_pc.total_arrests, marker='o', color='red')\n",
    "ax.set_xlabel(\"Year\")\n",
    "ax.set_ylabel(\"Number of Arrests\")\n",
    "ax.set_title(\"Arrests by Year\")\n",
    "plt.xticks([x for x in df_year_pc.arrest_year])\n",
    "plt.xticks(rotation = 90)\n",
    "\n",
    "#for i,j in df_arrests_year.items():\n",
    "#    ax.annotate(j, xy=(i,j))\n",
    "\n",
    "for i,j in zip(df_year_pc.arrest_year, df_year_pc.change):\n",
    "    ax.annotate(j, xy=(i,j))\n",
    "\n",
    "ax.yaxis.set_major_formatter(\n",
    "    ticker.FuncFormatter(lambda y, p: format(int(y), ','))\n",
    ")   \n",
    "\n",
    "plt.show()\n",
    "\n",
    "# ? Where are the labels?"
   ]
  },
  {
   "cell_type": "markdown",
   "metadata": {},
   "source": [
    "### Drug Arrests by Year"
   ]
  },
  {
   "cell_type": "code",
   "execution_count": 70,
   "metadata": {},
   "outputs": [
    {
     "data": {
      "text/html": [
       "<div>\n",
       "<style scoped>\n",
       "    .dataframe tbody tr th:only-of-type {\n",
       "        vertical-align: middle;\n",
       "    }\n",
       "\n",
       "    .dataframe tbody tr th {\n",
       "        vertical-align: top;\n",
       "    }\n",
       "\n",
       "    .dataframe thead th {\n",
       "        text-align: right;\n",
       "    }\n",
       "</style>\n",
       "<table border=\"1\" class=\"dataframe\">\n",
       "  <thead>\n",
       "    <tr style=\"text-align: right;\">\n",
       "      <th></th>\n",
       "      <th>arrest_year</th>\n",
       "      <th>total_arrests</th>\n",
       "    </tr>\n",
       "  </thead>\n",
       "  <tbody>\n",
       "    <tr>\n",
       "      <th>0</th>\n",
       "      <td>2015</td>\n",
       "      <td>55217</td>\n",
       "    </tr>\n",
       "    <tr>\n",
       "      <th>1</th>\n",
       "      <td>2016</td>\n",
       "      <td>52256</td>\n",
       "    </tr>\n",
       "    <tr>\n",
       "      <th>2</th>\n",
       "      <td>2017</td>\n",
       "      <td>48632</td>\n",
       "    </tr>\n",
       "    <tr>\n",
       "      <th>3</th>\n",
       "      <td>2018</td>\n",
       "      <td>32595</td>\n",
       "    </tr>\n",
       "    <tr>\n",
       "      <th>4</th>\n",
       "      <td>2019</td>\n",
       "      <td>21073</td>\n",
       "    </tr>\n",
       "  </tbody>\n",
       "</table>\n",
       "</div>"
      ],
      "text/plain": [
       "   arrest_year  total_arrests\n",
       "0         2015          55217\n",
       "1         2016          52256\n",
       "2         2017          48632\n",
       "3         2018          32595\n",
       "4         2019          21073"
      ]
     },
     "execution_count": 70,
     "metadata": {},
     "output_type": "execute_result"
    }
   ],
   "source": [
    "df_drugs_year = df[df['category'] == 'DRUGS']\n",
    "df_drugs_year = df_drugs_year.groupby('arrest_year', as_index=False)\n",
    "df_drugs_year = df_drugs_year.size()\n",
    "df_drugs_year.rename(columns={'size':'total_arrests'}, inplace=True)\n",
    "df_drugs_year"
   ]
  },
  {
   "cell_type": "code",
   "execution_count": 71,
   "metadata": {},
   "outputs": [
    {
     "data": {
      "image/png": "[encoded data removed]",
      "text/plain": [
       "<Figure size 432x288 with 1 Axes>"
      ]
     },
     "metadata": {
      "needs_background": "light"
     },
     "output_type": "display_data"
    }
   ],
   "source": [
    "fig, ax = plt.subplots()\n",
    "ax.plot(df_drugs_year.arrest_year, df_drugs_year.total_arrests, marker='o')\n",
    "ax.set_xlabel(\"Year\")\n",
    "ax.set_ylabel(\"Number of Arrests\")\n",
    "ax.set_title(\"Drug Arrests by Year\")\n",
    "plt.xticks([x for x in df_drugs_year.arrest_year])\n",
    "plt.xticks(rotation = 90)\n",
    "\n",
    "#for i,j in df_arrests_year.items():\n",
    "#    ax.annotate(j, xy=(i,j))\n",
    "\n",
    "for i,j in zip(df_drugs_year.arrest_year, df_drugs_year.total_arrests):\n",
    "    ax.annotate(format(j, ','), xy=(i,j))\n",
    "\n",
    "ax.yaxis.set_major_formatter(\n",
    "    ticker.FuncFormatter(lambda y, p: format(int(y), ','))\n",
    ")   \n",
    "\n",
    "plt.show()\n",
    "\n",
    "# ? Where are the labels?"
   ]
  },
  {
   "cell_type": "markdown",
   "metadata": {},
   "source": [
    "### Arrests by Month and Year"
   ]
  },
  {
   "cell_type": "code",
   "execution_count": 72,
   "metadata": {},
   "outputs": [
    {
     "data": {
      "text/html": [
       "<div>\n",
       "<style scoped>\n",
       "    .dataframe tbody tr th:only-of-type {\n",
       "        vertical-align: middle;\n",
       "    }\n",
       "\n",
       "    .dataframe tbody tr th {\n",
       "        vertical-align: top;\n",
       "    }\n",
       "\n",
       "    .dataframe thead th {\n",
       "        text-align: right;\n",
       "    }\n",
       "</style>\n",
       "<table border=\"1\" class=\"dataframe\">\n",
       "  <thead>\n",
       "    <tr style=\"text-align: right;\">\n",
       "      <th></th>\n",
       "      <th>arrest_year</th>\n",
       "      <th>arrest_month</th>\n",
       "      <th>total_arrests</th>\n",
       "    </tr>\n",
       "  </thead>\n",
       "  <tbody>\n",
       "    <tr>\n",
       "      <th>0</th>\n",
       "      <td>2015</td>\n",
       "      <td>1</td>\n",
       "      <td>25338</td>\n",
       "    </tr>\n",
       "    <tr>\n",
       "      <th>1</th>\n",
       "      <td>2015</td>\n",
       "      <td>2</td>\n",
       "      <td>27076</td>\n",
       "    </tr>\n",
       "    <tr>\n",
       "      <th>2</th>\n",
       "      <td>2015</td>\n",
       "      <td>3</td>\n",
       "      <td>30007</td>\n",
       "    </tr>\n",
       "    <tr>\n",
       "      <th>3</th>\n",
       "      <td>2015</td>\n",
       "      <td>4</td>\n",
       "      <td>29958</td>\n",
       "    </tr>\n",
       "    <tr>\n",
       "      <th>4</th>\n",
       "      <td>2015</td>\n",
       "      <td>5</td>\n",
       "      <td>28643</td>\n",
       "    </tr>\n",
       "  </tbody>\n",
       "</table>\n",
       "</div>"
      ],
      "text/plain": [
       "   arrest_year  arrest_month  total_arrests\n",
       "0         2015             1          25338\n",
       "1         2015             2          27076\n",
       "2         2015             3          30007\n",
       "3         2015             4          29958\n",
       "4         2015             5          28643"
      ]
     },
     "execution_count": 72,
     "metadata": {},
     "output_type": "execute_result"
    }
   ],
   "source": [
    "df_year_month = df.groupby(['arrest_year','arrest_month'], as_index=False)\n",
    "df_year_month = df_year_month.size()\n",
    "df_year_month.rename(columns={'size':'total_arrests'}, inplace=True)\n",
    "df_year_month.head()"
   ]
  },
  {
   "cell_type": "code",
   "execution_count": 78,
   "metadata": {},
   "outputs": [
    {
     "data": {
      "image/png": "[encoded data removed]",
      "text/plain": [
       "<Figure size 432x288 with 1 Axes>"
      ]
     },
     "metadata": {
      "needs_background": "light"
     },
     "output_type": "display_data"
    }
   ],
   "source": [
    "fig, ax = plt.subplots()\n",
    "ax.plot(df_year_month.arrest_month, df_year_month.total_arrests)\n",
    "ax.set_xlabel(\"Month\")\n",
    "ax.set_ylabel(\"Number of Arrests\")\n",
    "ax.set_title(\"Arrests by Year and Month\")\n",
    "plt.xticks([x for x in df_year_month.arrest_month])\n",
    "\n",
    "#for i,j in df_arrests_year.items():\n",
    "#    ax.annotate(j, xy=(i,j))\n",
    "\n",
    "#for i,j in zip(df_year_month.arrest_year, df_year_month.total_arrests):\n",
    "#    ax.annotate(format(j, ','), xy=(i,j))\n",
    "\n",
    "ax.yaxis.set_major_formatter(\n",
    "    ticker.FuncFormatter(lambda y, p: format(int(y), ','))\n",
    ")\n",
    "\n",
    "# plt.gca().set_color_cycle(['red', 'green', 'blue', 'yellow'])\n",
    "\n",
    "plt.show()\n",
    "\n",
    "# ? Add colors for each line?"
   ]
  },
  {
   "cell_type": "markdown",
   "metadata": {},
   "source": [
    "### Arrests by Month"
   ]
  },
  {
   "cell_type": "code",
   "execution_count": 76,
   "metadata": {},
   "outputs": [
    {
     "data": {
      "text/html": [
       "<div>\n",
       "<style scoped>\n",
       "    .dataframe tbody tr th:only-of-type {\n",
       "        vertical-align: middle;\n",
       "    }\n",
       "\n",
       "    .dataframe tbody tr th {\n",
       "        vertical-align: top;\n",
       "    }\n",
       "\n",
       "    .dataframe thead th {\n",
       "        text-align: right;\n",
       "    }\n",
       "</style>\n",
       "<table border=\"1\" class=\"dataframe\">\n",
       "  <thead>\n",
       "    <tr style=\"text-align: right;\">\n",
       "      <th></th>\n",
       "      <th>arrest_month</th>\n",
       "      <th>total_arrests</th>\n",
       "    </tr>\n",
       "  </thead>\n",
       "  <tbody>\n",
       "    <tr>\n",
       "      <th>0</th>\n",
       "      <td>1</td>\n",
       "      <td>122424</td>\n",
       "    </tr>\n",
       "    <tr>\n",
       "      <th>1</th>\n",
       "      <td>2</td>\n",
       "      <td>116693</td>\n",
       "    </tr>\n",
       "    <tr>\n",
       "      <th>2</th>\n",
       "      <td>3</td>\n",
       "      <td>126382</td>\n",
       "    </tr>\n",
       "    <tr>\n",
       "      <th>3</th>\n",
       "      <td>4</td>\n",
       "      <td>122415</td>\n",
       "    </tr>\n",
       "    <tr>\n",
       "      <th>4</th>\n",
       "      <td>5</td>\n",
       "      <td>123456</td>\n",
       "    </tr>\n",
       "  </tbody>\n",
       "</table>\n",
       "</div>"
      ],
      "text/plain": [
       "   arrest_month  total_arrests\n",
       "0             1         122424\n",
       "1             2         116693\n",
       "2             3         126382\n",
       "3             4         122415\n",
       "4             5         123456"
      ]
     },
     "execution_count": 76,
     "metadata": {},
     "output_type": "execute_result"
    }
   ],
   "source": [
    "df_month = df.groupby('arrest_month', as_index=False)\n",
    "df_month = df_month.size()\n",
    "df_month.rename(columns={'size':'total_arrests'}, inplace=True)\n",
    "df_month.head()"
   ]
  },
  {
   "cell_type": "code",
   "execution_count": 79,
   "metadata": {},
   "outputs": [
    {
     "data": {
      "image/png": "[encoded data removed]",
      "text/plain": [
       "<Figure size 432x288 with 1 Axes>"
      ]
     },
     "metadata": {
      "needs_background": "light"
     },
     "output_type": "display_data"
    }
   ],
   "source": [
    "fig, ax = plt.subplots()\n",
    "ax.bar(df_month.arrest_month, df_month.total_arrests)\n",
    "ax.set_xlabel('Month')\n",
    "ax.set_ylabel('Number of Arrests')\n",
    "ax.set_title('Arrests by Month')\n",
    "plt.xticks([x for x in df_month.arrest_month])\n",
    "\n",
    "ax.yaxis.set_major_formatter(\n",
    "ticker.FuncFormatter(lambda y,p: format(int(y), ','))\n",
    ")\n",
    "\n",
    "for i,j in zip(df_month.arrest_month, df_month.total_arrests):\n",
    "    ax.annotate(format((j), ','), xy=(i,j))\n",
    "\n",
    "plt.show()"
   ]
  },
  {
   "cell_type": "code",
   "execution_count": null,
   "metadata": {},
   "outputs": [],
   "source": []
  },
  {
   "cell_type": "code",
   "execution_count": null,
   "metadata": {},
   "outputs": [],
   "source": []
  },
  {
   "cell_type": "code",
   "execution_count": null,
   "metadata": {},
   "outputs": [],
   "source": []
  },
  {
   "cell_type": "code",
   "execution_count": null,
   "metadata": {},
   "outputs": [],
   "source": []
  }
 ],
 "metadata": {
  "kernelspec": {
   "display_name": "Python 3",
   "language": "python",
   "name": "python3"
  },
  "language_info": {
   "codemirror_mode": {
    "name": "ipython",
    "version": 3
   },
   "file_extension": ".py",
   "mimetype": "text/x-python",
   "name": "python",
   "nbconvert_exporter": "python",
   "pygments_lexer": "ipython3",
   "version": "3.8.5"
  }
 },
 "nbformat": 4,
 "nbformat_minor": 4
}
